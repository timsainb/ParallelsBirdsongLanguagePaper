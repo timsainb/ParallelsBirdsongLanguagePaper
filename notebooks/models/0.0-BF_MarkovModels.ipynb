{
 "cells": [
  {
   "cell_type": "markdown",
   "metadata": {},
   "source": [
    "# Markov models\n",
    "1. Generate sequences from Markov models\n",
    "2. Compute the mutual information of the generated sequences"
   ]
  },
  {
   "cell_type": "code",
   "execution_count": null,
   "metadata": {
    "ExecuteTime": {
     "end_time": "2019-03-02T23:42:58.321316Z",
     "start_time": "2019-03-02T23:42:58.303890Z"
    }
   },
   "outputs": [],
   "source": [
    "import numpy as np\n",
    "import pandas as pd\n",
    "from tqdm import tqdm_notebook as tqdm\n",
    "\n",
    "from parallelspaper.utils import nowstring\n",
    "import parallelspaper.information_theory as it\n",
    "from parallelspaper.models import transition_diagrams, sample_sequence_MM\n",
    "from parallelspaper.config.paths import DATA_DIR"
   ]
  },
  {
   "cell_type": "markdown",
   "metadata": {
    "ExecuteTime": {
     "end_time": "2019-03-02T21:54:45.548773Z",
     "start_time": "2019-03-02T21:54:45.543707Z"
    }
   },
   "source": [
    "### Peak at Markov transitional matrices"
   ]
  },
  {
   "cell_type": "code",
   "execution_count": null,
   "metadata": {
    "ExecuteTime": {
     "end_time": "2019-03-02T22:34:39.914286Z",
     "start_time": "2019-03-02T22:34:39.405155Z"
    }
   },
   "outputs": [],
   "source": [
    "import matplotlib.pyplot as plt\n",
    "%matplotlib inline\n",
    "\n",
    "fig, ax = plt.subplots(nrows=1, ncols=2, figsize = (6,3))\n",
    "ax[0].matshow(np.array(transition_diagrams['Bird1'].values))\n",
    "ax[1].matshow(np.array(transition_diagrams['Okada'].values))"
   ]
  },
  {
   "cell_type": "markdown",
   "metadata": {},
   "source": [
    "### Generate sequences and calculate MI"
   ]
  },
  {
   "cell_type": "code",
   "execution_count": null,
   "metadata": {
    "ExecuteTime": {
     "end_time": "2019-03-02T22:34:39.924279Z",
     "start_time": "2019-03-02T22:34:39.918304Z"
    }
   },
   "outputs": [],
   "source": [
    "# sequential distances to compute MI at\n",
    "distances = np.arange(1,101)\n",
    "# how many sequences to sample\n",
    "n_seq = np.exp2(16).astype('int')"
   ]
  },
  {
   "cell_type": "code",
   "execution_count": null,
   "metadata": {
    "ExecuteTime": {
     "end_time": "2019-03-02T22:34:40.014903Z",
     "start_time": "2019-03-02T22:34:39.927632Z"
    }
   },
   "outputs": [],
   "source": [
    "from sklearn.externals.joblib import Parallel, delayed\n",
    "import parallelspaper.information_theory as it\n",
    "n_jobs = 24; verbosity=0"
   ]
  },
  {
   "cell_type": "code",
   "execution_count": null,
   "metadata": {
    "ExecuteTime": {
     "end_time": "2019-03-02T22:37:03.580228Z",
     "start_time": "2019-03-02T22:34:40.018171Z"
    },
    "scrolled": false
   },
   "outputs": [],
   "source": [
    "MI_DF = pd.DataFrame(columns=['name', 'type', 'rep', 'MI', 'MI_shuff', 'distances',\n",
    "                              'MI_var', 'MI_shuff_var', 'n_elements', 'unique_elements', 'bout_lens'])\n",
    "\n",
    "# for each markov model\n",
    "for name, transition_diagram in tqdm(transition_diagrams.items()):\n",
    "    # generate sequences\n",
    "    if n_jobs >1:\n",
    "        with Parallel(n_jobs=n_jobs, verbose=verbosity) as parallel:\n",
    "            sequences = parallel(delayed(sample_sequence_MM)(transition_diagram) for i in tqdm(range(n_seq), leave=False))\n",
    "    else:\n",
    "        sequences = [sample_sequence_MM(transition_diagram) for i in tqdm(range(n_seq), leave=False)]\n",
    "    \n",
    "    # get stats on generated sequences\n",
    "    unique_elements = len(np.unique(np.concatenate(sequences)))\n",
    "    bout_lens = [len(i) for i in sequences]\n",
    "    seq_len = len(np.concatenate(sequences))\n",
    "    print(seq_len)\n",
    "    \n",
    "    # calculate MI\n",
    "    (MI, var_MI), (MI_shuff, MI_shuff_var) = it.sequential_mutual_information([np.concatenate(sequences)], distances, n_jobs = n_jobs, verbosity = verbosity)\n",
    "    # add to MI_DF\n",
    "    MI_DF.loc[len(MI_DF)] = [name+'_markov', 'full', 0, MI, MI_shuff, distances, var_MI, MI_shuff_var, seq_len, unique_elements, bout_lens]"
   ]
  },
  {
   "cell_type": "markdown",
   "metadata": {},
   "source": [
    "### Save MI"
   ]
  },
  {
   "cell_type": "code",
   "execution_count": null,
   "metadata": {
    "ExecuteTime": {
     "end_time": "2019-03-02T23:43:14.599816Z",
     "start_time": "2019-03-02T23:43:14.573137Z"
    }
   },
   "outputs": [],
   "source": [
    "now_string = nowstring()\n",
    "MI_DF.to_pickle(str(DATA_DIR / ('MI_DF/models/markov_'+now_string+'.pickle')))"
   ]
  },
  {
   "cell_type": "code",
   "execution_count": null,
   "metadata": {},
   "outputs": [],
   "source": []
  }
 ],
 "metadata": {
  "kernelspec": {
   "display_name": "Python 3",
   "language": "python",
   "name": "python3"
  },
  "language_info": {
   "codemirror_mode": {
    "name": "ipython",
    "version": 3
   },
   "file_extension": ".py",
   "mimetype": "text/x-python",
   "name": "python",
   "nbconvert_exporter": "python",
   "pygments_lexer": "ipython3",
   "version": "3.6.8"
  }
 },
 "nbformat": 4,
 "nbformat_minor": 2
}
