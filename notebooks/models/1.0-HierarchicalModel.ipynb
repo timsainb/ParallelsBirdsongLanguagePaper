{
 "cells": [
  {
   "cell_type": "markdown",
   "metadata": {},
   "source": [
    "# Hierarchical model\n",
    "1. Generate sequences from the recursive hierarchical model\n",
    "2. Calculate MI of sequences"
   ]
  },
  {
   "cell_type": "code",
   "execution_count": null,
   "metadata": {
    "ExecuteTime": {
     "end_time": "2019-03-15T00:59:47.248059Z",
     "start_time": "2019-03-15T00:59:40.412834Z"
    }
   },
   "outputs": [],
   "source": [
    "import numpy as np\n",
    "from parallelspaper.models import gen_seq_hierarchical, gen_balanced_matrix\n",
    "import pandas as pd\n",
    "from parallelspaper.utils import nowstring\n",
    "import parallelspaper.information_theory as it\n",
    "from parallelspaper.config.paths import DATA_DIR"
   ]
  },
  {
   "cell_type": "markdown",
   "metadata": {},
   "source": [
    "### Parameters "
   ]
  },
  {
   "cell_type": "code",
   "execution_count": null,
   "metadata": {
    "ExecuteTime": {
     "end_time": "2019-03-15T00:59:47.284775Z",
     "start_time": "2019-03-15T00:59:47.263580Z"
    }
   },
   "outputs": [],
   "source": [
    "# how many branches to sample in hierarchical\n",
    "n_subsamples = [2]\n",
    "# how many subsamples to perform\n",
    "depth = 12\n",
    "# alphabet size\n",
    "a_n = 5\n",
    "alphabet = np.arange(a_n)\n",
    "# how many sequences to use\n",
    "nseq = 1000\n",
    "print('seq len ',(np.mean(n_subsamples)**depth))"
   ]
  },
  {
   "cell_type": "code",
   "execution_count": null,
   "metadata": {
    "ExecuteTime": {
     "end_time": "2019-03-15T00:59:47.367501Z",
     "start_time": "2019-03-15T00:59:47.302483Z"
    }
   },
   "outputs": [],
   "source": [
    "# distances of MI to sample at\n",
    "distances = np.arange(1,101)"
   ]
  },
  {
   "cell_type": "code",
   "execution_count": null,
   "metadata": {
    "ExecuteTime": {
     "end_time": "2019-03-15T00:59:47.480059Z",
     "start_time": "2019-03-15T00:59:47.383636Z"
    }
   },
   "outputs": [],
   "source": [
    "from sklearn.externals.joblib import Parallel, delayed\n",
    "n_jobs = 12; verbosity=0"
   ]
  },
  {
   "cell_type": "markdown",
   "metadata": {},
   "source": [
    "### Generate sequences"
   ]
  },
  {
   "cell_type": "code",
   "execution_count": null,
   "metadata": {
    "ExecuteTime": {
     "end_time": "2019-03-15T00:59:47.568376Z",
     "start_time": "2019-03-15T00:59:47.488280Z"
    }
   },
   "outputs": [],
   "source": [
    "from tqdm.autonotebook import tqdm"
   ]
  },
  {
   "cell_type": "code",
   "execution_count": null,
   "metadata": {
    "ExecuteTime": {
     "end_time": "2019-03-15T00:59:47.678302Z",
     "start_time": "2019-03-15T00:59:47.577951Z"
    }
   },
   "outputs": [],
   "source": [
    "# generate probbility matrix \n",
    "probs = gen_balanced_matrix(ps=[.85, .15])"
   ]
  },
  {
   "cell_type": "code",
   "execution_count": null,
   "metadata": {
    "ExecuteTime": {
     "end_time": "2019-03-15T01:01:49.743382Z",
     "start_time": "2019-03-15T00:59:47.687257Z"
    }
   },
   "outputs": [],
   "source": [
    "# sample sequences\n",
    "seqs_list = tqdm(range(nseq), leave=False)# if nseq < 3 else range(nseq)\n",
    "with Parallel(n_jobs=n_jobs, verbose=verbosity) as parallel:\n",
    "    sequences = parallel(\n",
    "        delayed(gen_seq_hierarchical)(alphabet, probs, depth, n_subsamples)\n",
    "             for seq in seqs_list)"
   ]
  },
  {
   "cell_type": "markdown",
   "metadata": {},
   "source": [
    "### Calculate MI"
   ]
  },
  {
   "cell_type": "code",
   "execution_count": null,
   "metadata": {
    "ExecuteTime": {
     "end_time": "2019-03-15T01:01:52.145273Z",
     "start_time": "2019-03-15T01:01:49.783534Z"
    }
   },
   "outputs": [],
   "source": [
    "# sequence statistics\n",
    "seq_len = len(np.concatenate(sequences))\n",
    "bout_lens = [len(i) for i in sequences]\n",
    "unique_elements = len(np.unique([np.concatenate(sequences)]))"
   ]
  },
  {
   "cell_type": "code",
   "execution_count": null,
   "metadata": {
    "ExecuteTime": {
     "end_time": "2019-03-15T01:01:52.257654Z",
     "start_time": "2019-03-15T01:01:52.167157Z"
    }
   },
   "outputs": [],
   "source": [
    "MI_DF = pd.DataFrame(columns=['name', 'type', 'rep', 'MI', 'MI_shuff', 'distances',\n",
    "                              'MI_var', 'MI_shuff_var', 'n_elements', 'unique_elements', 'bout_lens'])"
   ]
  },
  {
   "cell_type": "code",
   "execution_count": null,
   "metadata": {
    "ExecuteTime": {
     "end_time": "2019-03-15T01:06:27.124058Z",
     "start_time": "2019-03-15T01:01:52.270046Z"
    }
   },
   "outputs": [],
   "source": [
    "# calculate MI\n",
    "(MI, var_MI), (MI_shuff, MI_shuff_var) = it.sequential_mutual_information([np.concatenate(sequences)], distances, n_jobs = n_jobs, verbosity = verbosity)\n",
    "# add to MI_DF\n",
    "MI_DF.loc[len(MI_DF)] = ['hierarchical', 'full', 0, MI, MI_shuff, distances, var_MI, MI_shuff_var, seq_len, unique_elements, bout_lens]"
   ]
  },
  {
   "cell_type": "markdown",
   "metadata": {
    "ExecuteTime": {
     "end_time": "2019-03-02T22:22:32.533588Z",
     "start_time": "2019-03-02T22:21:14.893Z"
    }
   },
   "source": [
    "### Save MI"
   ]
  },
  {
   "cell_type": "code",
   "execution_count": null,
   "metadata": {
    "ExecuteTime": {
     "end_time": "2019-03-15T01:06:31.819052Z",
     "start_time": "2019-03-15T01:06:31.801881Z"
    }
   },
   "outputs": [],
   "source": [
    "now_string = nowstring()"
   ]
  },
  {
   "cell_type": "code",
   "execution_count": null,
   "metadata": {
    "ExecuteTime": {
     "end_time": "2019-03-15T01:06:31.956184Z",
     "start_time": "2019-03-15T01:06:31.828642Z"
    }
   },
   "outputs": [],
   "source": [
    "MI_DF.to_pickle(str(DATA_DIR / ('MI_DF/models/hierarchical_'+now_string+'.pickle')))"
   ]
  }
 ],
 "metadata": {
  "kernelspec": {
   "display_name": "Python 3",
   "language": "python",
   "name": "python3"
  },
  "language_info": {
   "codemirror_mode": {
    "name": "ipython",
    "version": 3
   },
   "file_extension": ".py",
   "mimetype": "text/x-python",
   "name": "python",
   "nbconvert_exporter": "python",
   "pygments_lexer": "ipython3",
   "version": "3.6.8"
  }
 },
 "nbformat": 4,
 "nbformat_minor": 2
}
