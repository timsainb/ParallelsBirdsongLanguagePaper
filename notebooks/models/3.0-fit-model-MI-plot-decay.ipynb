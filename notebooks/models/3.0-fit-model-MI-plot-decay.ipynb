{
 "cells": [
  {
   "cell_type": "code",
   "execution_count": null,
   "metadata": {
    "ExecuteTime": {
     "start_time": "2019-03-15T04:39:39.948Z"
    }
   },
   "outputs": [],
   "source": [
    "%load_ext autoreload\n",
    "%autoreload 2"
   ]
  },
  {
   "cell_type": "markdown",
   "metadata": {},
   "source": [
    "# Plot MI decay of Markov, Hierarchical, and Hybrid models\n",
    "1. load models\n",
    "2. fit best fit model\n",
    "3. plot decay"
   ]
  },
  {
   "cell_type": "code",
   "execution_count": null,
   "metadata": {
    "ExecuteTime": {
     "start_time": "2019-03-15T04:39:39.956Z"
    }
   },
   "outputs": [],
   "source": [
    "from glob import glob\n",
    "import pandas as pd\n",
    "from parallelspaper.config.paths import DATA_DIR, FIGURE_DIR\n",
    "import parallelspaper.model_fitting as mf\n",
    "from datetime import datetime\n",
    "from tqdm.autonotebook import tqdm\n",
    "import numpy as np\n",
    "from parallelspaper.utils import save_fig"
   ]
  },
  {
   "cell_type": "markdown",
   "metadata": {},
   "source": [
    "### Load models"
   ]
  },
  {
   "cell_type": "code",
   "execution_count": null,
   "metadata": {
    "ExecuteTime": {
     "start_time": "2019-03-15T04:39:39.958Z"
    }
   },
   "outputs": [],
   "source": [
    "# find the latest instance of a Markov model \n",
    "MI_DFs_markov = glob(str(DATA_DIR / 'MI_DF/models/markov_*.pickle'))\n",
    "loc_table = pd.DataFrame([[datetime.strptime('_'.join(loc.split('/')[-1][:-7].split('_')[1:]),\"%Y-%m-%d_%H-%M-%S\"),\n",
    "                           loc] for loc in MI_DFs_markov], columns=['dt', 'locat']).sort_values(by='dt')\n",
    "markov_MI_DF = pd.read_pickle(loc_table.locat.values[-1])"
   ]
  },
  {
   "cell_type": "code",
   "execution_count": null,
   "metadata": {
    "ExecuteTime": {
     "start_time": "2019-03-15T04:39:39.960Z"
    }
   },
   "outputs": [],
   "source": [
    "# find the latest instance of a Markov model \n",
    "MI_DFs_hierarchical = glob(str(DATA_DIR / 'MI_DF/models/hierarchical_*.pickle'))\n",
    "loc_table = pd.DataFrame([[datetime.strptime('_'.join(loc.split('/')[-1][:-7].split('_')[1:]),\"%Y-%m-%d_%H-%M-%S\"),\n",
    "                           loc] for loc in MI_DFs_hierarchical], columns=['dt', 'locat']).sort_values(by='dt')\n",
    "hierarchical_MI_DF = pd.read_pickle(loc_table.locat.values[-1])"
   ]
  },
  {
   "cell_type": "code",
   "execution_count": null,
   "metadata": {
    "ExecuteTime": {
     "start_time": "2019-03-15T04:39:39.964Z"
    }
   },
   "outputs": [],
   "source": [
    "# find the latest instance of a Markov model \n",
    "MI_DFs_hybrid = glob(str(DATA_DIR / 'MI_DF/models/hybrid_*.pickle'))\n",
    "loc_table = pd.DataFrame([[datetime.strptime('_'.join(loc.split('/')[-1][:-7].split('_')[1:]),\"%Y-%m-%d_%H-%M-%S\"),\n",
    "                           loc] for loc in MI_DFs_hybrid], columns=['dt', 'locat']).sort_values(by='dt')\n",
    "hybrid_MI_DF = pd.read_pickle(loc_table.locat.values[-1])"
   ]
  },
  {
   "cell_type": "code",
   "execution_count": null,
   "metadata": {
    "ExecuteTime": {
     "start_time": "2019-03-15T04:39:39.969Z"
    }
   },
   "outputs": [],
   "source": [
    "# concatenate models\n",
    "MI_DF = pd.concat([markov_MI_DF, hierarchical_MI_DF, hybrid_MI_DF]).reset_index()"
   ]
  },
  {
   "cell_type": "markdown",
   "metadata": {},
   "source": [
    "### Fit models"
   ]
  },
  {
   "cell_type": "code",
   "execution_count": null,
   "metadata": {
    "ExecuteTime": {
     "start_time": "2019-03-15T04:39:39.975Z"
    }
   },
   "outputs": [],
   "source": [
    "for idx, row in tqdm(MI_DF.iterrows(), total=len(MI_DF)):\n",
    "    print(row['name'])\n",
    "    \n",
    "    # get signal\n",
    "    sig = np.array(row.MI-row.MI_shuff)\n",
    "    distances = row.distances\n",
    "    \n",
    "    # fit models\n",
    "    results_power, results_exp, results_pow_exp, best_fit_model = mf.fit_models(distances, sig)\n",
    "    results_concat = results_pow_exp\n",
    "    \n",
    "    # add results to MI_DF\n",
    "    MI_DF.loc[idx,'exp_results_params'] = [{i:results_exp.params[i].value for i in dict(results_exp.params).keys()}]\n",
    "    MI_DF.loc[idx,'pow_results_params'] = [{i:results_power.params[i].value for i in dict(results_power.params).keys()}]\n",
    "    MI_DF.loc[idx,'concat_results_params'] = [{i:results_concat.params[i].value for i in dict(results_concat.params).keys()}]\n",
    "    MI_DF.loc[idx,'exp_results'] = results_exp\n",
    "    MI_DF.loc[idx,'pow_results'] = results_power\n",
    "    MI_DF.loc[idx,'concat_results'] = results_concat\n",
    "    \n",
    "    # get model fit results from predictions and signal\n",
    "    R2_exp, R2_concat, R2_power, AICc_exp, \\\n",
    "        AICc_pow, AICc_concat = mf.fit_results(sig, distances, \n",
    "                                              results_exp, results_power,\n",
    "                                              results_pow_exp, logscaled=True)\n",
    "    \n",
    "    # add AIC to MI_DF\n",
    "    MI_DF.loc[idx,'AICc_exp'] = AICc_exp\n",
    "    MI_DF.loc[idx,'AICc_concat'] = AICc_concat\n",
    "    MI_DF.loc[idx,'AICc_power'] = AICc_pow\n",
    "\n",
    "    # determine best fit model\n",
    "    MI_DF.loc[idx,'bestfitmodel'] = bestfitmodel = ['exp', 'concat', 'power'][np.argmin([AICc_exp, AICc_concat, AICc_pow])]"
   ]
  },
  {
   "cell_type": "code",
   "execution_count": null,
   "metadata": {
    "ExecuteTime": {
     "start_time": "2019-03-15T04:39:39.980Z"
    }
   },
   "outputs": [],
   "source": [
    "MI_DF"
   ]
  },
  {
   "cell_type": "markdown",
   "metadata": {},
   "source": [
    "### plot fit models"
   ]
  },
  {
   "cell_type": "code",
   "execution_count": null,
   "metadata": {
    "ExecuteTime": {
     "start_time": "2019-03-15T04:39:39.983Z"
    }
   },
   "outputs": [],
   "source": [
    "import matplotlib.pyplot as plt\n",
    "%matplotlib inline"
   ]
  },
  {
   "cell_type": "code",
   "execution_count": null,
   "metadata": {
    "ExecuteTime": {
     "start_time": "2019-03-15T04:39:39.985Z"
    }
   },
   "outputs": [],
   "source": [
    "import seaborn as sns\n",
    "col_dict = {\n",
    "    \"hierarchical\": sns.color_palette('Reds', 5)[2:],\n",
    "    \"markov\": sns.color_palette('Greens', 5)[2:],\n",
    "    \"hybrid\": sns.color_palette('Blues', 5)[2:],\n",
    "}"
   ]
  },
  {
   "cell_type": "code",
   "execution_count": null,
   "metadata": {
    "ExecuteTime": {
     "start_time": "2019-03-15T04:39:39.988Z"
    }
   },
   "outputs": [],
   "source": [
    "ncols = 3\n",
    "nrows = 1\n",
    "zoom = 5\n",
    "d = 100\n",
    "# plot data\n",
    "fig, axs = plt.subplots(ncols=ncols, nrows=nrows, figsize = (ncols*6,nrows*5))\n",
    "for axi, (idx, row) in tqdm(enumerate(MI_DF.iterrows()), total=len(MI_DF)):\n",
    "    distances = np.linspace(1,d,1000)\n",
    "\n",
    "    if 'hierarchical' in row['name']:\n",
    "        color = col_dict['hierarchical'][1]\n",
    "        ax = axs[0]\n",
    "        y_model = mf.get_y(mf.powerlaw_decay, row.pow_results, distances)\n",
    "        ax.plot(distances, y_model, alpha = 0.5, lw=10, color=color)\n",
    "        \n",
    "    elif 'markov' in row['name']:\n",
    "        ax = axs[1]\n",
    "        if row['name'] == 'Okada_markov':\n",
    "            color = col_dict['markov'][0]\n",
    "        elif row['name'] == 'Bird2_markov':\n",
    "            color = col_dict['markov'][1]\n",
    "        elif row['name'] == 'Bird1_markov':\n",
    "            color = col_dict['markov'][2]\n",
    "        y_model = mf.get_y(mf.exp_decay, row.exp_results, distances)\n",
    "        ax.plot(distances, y_model, alpha = 0.5, lw=10, color=color)\n",
    "        \n",
    "    elif 'hybrid' in row['name']:\n",
    "        ax = axs[2]\n",
    "        color = col_dict['hybrid'][1]\n",
    "        y_model = mf.get_y(mf.pow_exp_decay, row.concat_results, distances)\n",
    "        ax.plot(distances, y_model, alpha = 0.5, lw=10, color=color)\n",
    "\n",
    "    # plot real data\n",
    "    sig = np.array(row.MI-row.MI_shuff)\n",
    "    distances = row.distances\n",
    "    ax.scatter(distances, sig, alpha = 1, s=80, color=color)\n",
    "\n",
    "# labels, styling\n",
    "for axi, ax in enumerate(axs):\n",
    "    ax.tick_params(axis='both', labelsize=18, pad=15)\n",
    "    ax.set_xlabel('Distance between elements', labelpad=5, fontsize=18)\n",
    "    for axis in ['top','bottom','left','right']:\n",
    "        ax.spines[axis].set_linewidth(3)\n",
    "        ax.spines[axis].set_color('k')\n",
    "    ax.grid(False)\n",
    "    ax.tick_params(which='both', direction='in')\n",
    "    ax.tick_params(which='major', length=10, width =3)\n",
    "    ax.tick_params(which='minor', length=5, width =2)\n",
    "\n",
    "    ax.set_xscale( \"log\" , basex=10)\n",
    "    ax.set_yscale( \"log\" , basey=10)\n",
    "\n",
    "    ax.set_xticks([1,10,100])\n",
    "    ax.set_xticklabels([1,10,100])\n",
    "    if axi==0: \n",
    "        ax.set_ylabel('Mutual Information (bits)', labelpad=5, fontsize=18)\n",
    "    #else:\n",
    "    #    ax.set_yticklabels([])\n",
    "    ax.set_xlim([1,100])\n",
    "    ax.set_ylim([1e-4,10])\n",
    "    #ax.legend()\n",
    "plt.tight_layout()\n",
    "\n",
    "save_fig(FIGURE_DIR/'modelfig')"
   ]
  },
  {
   "cell_type": "code",
   "execution_count": null,
   "metadata": {},
   "outputs": [],
   "source": []
  }
 ],
 "metadata": {
  "kernelspec": {
   "display_name": "Python 3",
   "language": "python",
   "name": "python3"
  },
  "language_info": {
   "codemirror_mode": {
    "name": "ipython",
    "version": 3
   },
   "file_extension": ".py",
   "mimetype": "text/x-python",
   "name": "python",
   "nbconvert_exporter": "python",
   "pygments_lexer": "ipython3",
   "version": "3.6.8"
  }
 },
 "nbformat": 4,
 "nbformat_minor": 2
}
