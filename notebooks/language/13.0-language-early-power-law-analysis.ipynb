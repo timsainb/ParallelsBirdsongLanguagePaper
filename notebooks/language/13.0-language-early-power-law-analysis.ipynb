{
 "cells": [
  {
   "cell_type": "markdown",
   "metadata": {},
   "source": [
    "# Get model contribution by distance"
   ]
  },
  {
   "cell_type": "code",
   "execution_count": null,
   "metadata": {
    "ExecuteTime": {
     "end_time": "2019-03-09T08:01:32.696716Z",
     "start_time": "2019-03-09T08:01:32.378441Z"
    }
   },
   "outputs": [],
   "source": [
    "import pandas as pd\n",
    "from parallelspaper.config.paths import DATA_DIR, FIGURE_DIR\n",
    "from parallelspaper.speech_datasets import LCOL_DICT\n",
    "import numpy as np\n",
    "from parallelspaper import model_fitting as mf\n",
    "from parallelspaper.utils import save_fig\n",
    "from parallelspaper import information_theory as it "
   ]
  },
  {
   "cell_type": "code",
   "execution_count": null,
   "metadata": {
    "ExecuteTime": {
     "end_time": "2019-03-09T06:04:01.129477Z",
     "start_time": "2019-03-09T06:04:01.028412Z"
    }
   },
   "outputs": [],
   "source": [
    "from matplotlib import gridspec\n",
    "import matplotlib.pyplot as plt\n",
    "%matplotlib inline"
   ]
  },
  {
   "cell_type": "code",
   "execution_count": null,
   "metadata": {},
   "outputs": [],
   "source": [
    "# stats\n",
    "german_stats = pd.read_pickle(DATA_DIR/'stats_df/GECO_stats_df.pickle')\n",
    "german_stats['Language'] = 'German'\n",
    "\n",
    "italian_stats = pd.read_pickle(DATA_DIR/'stats_df/AsiCA_stats_df.pickle')\n",
    "italian_stats['Language'] = 'Italian'\n",
    "\n",
    "english_stats = pd.read_pickle(DATA_DIR/'stats_df/BUCKEYE_stats_df.pickle')\n",
    "english_stats['Language'] = 'English'\n",
    "\n",
    "japanese_stats = pd.read_pickle(DATA_DIR/'stats_df/CSJ_stats_df.pickle')\n",
    "japanese_stats['Language'] = 'Japanese'\n",
    "\n",
    "stats_df = pd.concat([german_stats, italian_stats, english_stats, japanese_stats])"
   ]
  },
  {
   "cell_type": "code",
   "execution_count": null,
   "metadata": {},
   "outputs": [],
   "source": [
    "MI_DF = pd.read_pickle(DATA_DIR / 'MI_DF/language/language_MI_DF_fitted.pickle')"
   ]
  },
  {
   "cell_type": "code",
   "execution_count": null,
   "metadata": {},
   "outputs": [],
   "source": [
    "# subset dataset to only look at the major units\n",
    "subset_MI_DF = MI_DF[[(row.unit in ['phonetic', 'phonemes', 'phoneme', 'ortho-phonetic']) & (row.analysis in ['session'])  for idx, row in MI_DF.iterrows()]]"
   ]
  },
  {
   "cell_type": "code",
   "execution_count": null,
   "metadata": {},
   "outputs": [],
   "source": [
    "subset_MI_DF"
   ]
  },
  {
   "cell_type": "code",
   "execution_count": null,
   "metadata": {},
   "outputs": [],
   "source": [
    "distances = np.logspace(0,2, base=10, num=1000)"
   ]
  },
  {
   "cell_type": "code",
   "execution_count": null,
   "metadata": {},
   "outputs": [],
   "source": [
    "fig, axs = plt.subplots(ncols = 4, figsize=(16,4))\n",
    "for axi, (idx, row) in enumerate(subset_MI_DF.iterrows()):\n",
    "    langrow = stats_df.Language.values == row.language.capitalize()\n",
    "    phone_lens = stats_df[langrow].phone_duration_s.values[0]\n",
    "    median_phone_len = np.median(phone_lens)\n",
    "    \n",
    "    max_peak_dist = distances[int(np.argmax(row.curvature))]\n",
    "    lower_mask = row.distances < max_peak_dist\n",
    "    y_model = mf.get_y(mf.pow_exp_decay, row.concat_results, row.distances)\n",
    "    y_pow = mf.get_y(mf.powerlaw_decay, row.concat_results, row.distances)\n",
    "    y_exp = mf.get_y(mf.exp_decay, row.concat_results, row.distances)\n",
    "    y = row.MI - row.MI_shuff\n",
    "    \n",
    "    print(\n",
    "        row.language, \n",
    "        np.sum(y_pow[lower_mask]/y_model[lower_mask])/np.sum(lower_mask),\n",
    "        median_phone_len*max_peak_dist\n",
    "         )\n",
    "    \n",
    "    \n",
    "    axs[axi].loglog(row.distances, y_model, color = LCOL_DICT[row.language])\n",
    "    axs[axi].loglog(row.distances, y_pow, color = LCOL_DICT[row.language], ls='dotted')\n",
    "    axs[axi].loglog(row.distances, y_exp, color = LCOL_DICT[row.language], ls='dashed')\n"
   ]
  },
  {
   "cell_type": "code",
   "execution_count": null,
   "metadata": {},
   "outputs": [],
   "source": []
  }
 ],
 "metadata": {
  "kernelspec": {
   "display_name": "Python 3",
   "language": "python",
   "name": "python3"
  },
  "language_info": {
   "codemirror_mode": {
    "name": "ipython",
    "version": 3
   },
   "file_extension": ".py",
   "mimetype": "text/x-python",
   "name": "python",
   "nbconvert_exporter": "python",
   "pygments_lexer": "ipython3",
   "version": "3.6.8"
  }
 },
 "nbformat": 4,
 "nbformat_minor": 2
}
