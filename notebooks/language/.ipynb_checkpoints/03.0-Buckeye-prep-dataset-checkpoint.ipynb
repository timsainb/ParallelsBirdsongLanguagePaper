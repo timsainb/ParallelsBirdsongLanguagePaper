{
 "cells": [
  {
   "cell_type": "markdown",
   "metadata": {},
   "source": [
    "# Prepare Buckeye (English dataset)\n",
    "1. grab linguistic units from dataset\n",
    "2. grab dataset statistics"
   ]
  },
  {
   "cell_type": "code",
   "execution_count": null,
   "metadata": {
    "ExecuteTime": {
     "end_time": "2019-03-03T19:54:41.590914Z",
     "start_time": "2019-03-03T19:54:40.886423Z"
    }
   },
   "outputs": [],
   "source": [
    "import numpy as np\n",
    "import pandas as pd\n",
    "from glob import glob\n",
    "from parallelspaper.speech_datasets import prep_BUCKEYE\n",
    "from parallelspaper.config.paths import DATA_DIR"
   ]
  },
  {
   "cell_type": "code",
   "execution_count": null,
   "metadata": {
    "ExecuteTime": {
     "end_time": "2019-03-03T19:54:41.600091Z",
     "start_time": "2019-03-03T19:54:41.596416Z"
    }
   },
   "outputs": [],
   "source": [
    "BUCKEYE_DIR = '/mnt/cube/Datasets/buckeye/'"
   ]
  },
  {
   "cell_type": "markdown",
   "metadata": {},
   "source": [
    "### Load data"
   ]
  },
  {
   "cell_type": "code",
   "execution_count": null,
   "metadata": {
    "ExecuteTime": {
     "end_time": "2019-03-03T19:54:41.692856Z",
     "start_time": "2019-03-03T19:54:41.602202Z"
    }
   },
   "outputs": [],
   "source": [
    "speaker_list = glob(BUCKEYE_DIR + '*.zip')"
   ]
  },
  {
   "cell_type": "code",
   "execution_count": null,
   "metadata": {
    "ExecuteTime": {
     "end_time": "2019-03-03T19:55:33.551213Z",
     "start_time": "2019-03-03T19:54:41.696373Z"
    }
   },
   "outputs": [],
   "source": [
    "(track_durations, word_durations, utterance_durations, phone_durations,\n",
    " all_words, all_phonemic, all_phonetic, all_pos) = prep_BUCKEYE(speaker_list)"
   ]
  },
  {
   "cell_type": "markdown",
   "metadata": {},
   "source": [
    "### Get dataset statistics"
   ]
  },
  {
   "cell_type": "code",
   "execution_count": null,
   "metadata": {
    "ExecuteTime": {
     "end_time": "2019-03-03T19:55:33.556171Z",
     "start_time": "2019-03-03T19:55:33.553158Z"
    }
   },
   "outputs": [],
   "source": [
    "def flatlist(list_of_lists):\n",
    "    return [val for sublist in list_of_lists for val in sublist]"
   ]
  },
  {
   "cell_type": "code",
   "execution_count": null,
   "metadata": {
    "ExecuteTime": {
     "end_time": "2019-03-03T19:55:34.508979Z",
     "start_time": "2019-03-03T19:55:33.557757Z"
    }
   },
   "outputs": [],
   "source": [
    "num_phonemes = len(phone_durations)\n",
    "num_words = len(word_durations)\n",
    "word_durations_s = word_durations\n",
    "word_length_phones = [len(i) for i in flatlist(np.concatenate(all_phonemic))]\n",
    "phone_duration_s = phone_durations\n",
    "unique_phones = len(np.unique(flatlist(flatlist(flatlist(all_phonemic)))))\n",
    "unique_words = len(np.unique(flatlist(flatlist(all_words))))\n",
    "utterance_length_phones = [len(i) for i in flatlist(all_phonemic)]\n",
    "n_sessions = len(all_phonemic)\n",
    "session_durations = track_durations\n",
    "total_duration = np.sum(track_durations)"
   ]
  },
  {
   "cell_type": "code",
   "execution_count": null,
   "metadata": {
    "ExecuteTime": {
     "end_time": "2019-03-03T19:55:34.556890Z",
     "start_time": "2019-03-03T19:55:34.511008Z"
    }
   },
   "outputs": [],
   "source": [
    "stats_df = pd.DataFrame([[\n",
    "        num_phonemes,\n",
    "        num_words,\n",
    "        word_durations_s,\n",
    "        word_length_phones,\n",
    "        phone_duration_s,\n",
    "        unique_phones,\n",
    "        unique_words,\n",
    "        utterance_length_phones,\n",
    "        n_sessions,\n",
    "        session_durations,\n",
    "        total_duration\n",
    "    ]],\n",
    "    columns = [\n",
    "        'num_phonemes',\n",
    "        'num_words',\n",
    "        'word_durations_s',\n",
    "        'word_length_phones',\n",
    "        'phone_duration_s',\n",
    "        'unique_phones',\n",
    "        'unique_words',\n",
    "        'utterance_length_phones',\n",
    "        'n_sessions',\n",
    "        'session_durations',\n",
    "        'total_duration'\n",
    "        ])\n",
    "stats_df"
   ]
  },
  {
   "cell_type": "code",
   "execution_count": null,
   "metadata": {
    "ExecuteTime": {
     "end_time": "2019-03-03T19:55:34.910605Z",
     "start_time": "2019-03-03T19:55:34.559655Z"
    }
   },
   "outputs": [],
   "source": [
    "# statistics for this language\n",
    "stats_df.to_pickle((DATA_DIR / 'stats_df/BUCKEYE_stats_df.pickle'))"
   ]
  },
  {
   "cell_type": "markdown",
   "metadata": {},
   "source": [
    "### make sequence dataframes"
   ]
  },
  {
   "cell_type": "code",
   "execution_count": null,
   "metadata": {
    "ExecuteTime": {
     "end_time": "2019-03-03T19:55:34.916445Z",
     "start_time": "2019-03-03T19:55:34.913339Z"
    }
   },
   "outputs": [],
   "source": [
    "# all_words, all_phonemic, all_phonetic, all_pos"
   ]
  },
  {
   "cell_type": "code",
   "execution_count": null,
   "metadata": {
    "ExecuteTime": {
     "end_time": "2019-03-04T05:06:20.299251Z",
     "start_time": "2019-03-04T05:06:20.282164Z"
    }
   },
   "outputs": [],
   "source": [
    "seq_df = pd.DataFrame(columns = ['language', 'levels', 'data'])"
   ]
  },
  {
   "cell_type": "code",
   "execution_count": null,
   "metadata": {
    "ExecuteTime": {
     "end_time": "2019-03-04T05:06:20.685086Z",
     "start_time": "2019-03-04T05:06:20.653797Z"
    }
   },
   "outputs": [],
   "source": [
    "seq_df.loc[len(seq_df)] = ['english', 'speaker/utterance/word', all_words]\n",
    "seq_df.loc[len(seq_df)] = ['english', 'speaker/utterance/word/phonemic', all_phonemic]\n",
    "seq_df.loc[len(seq_df)] = ['english', 'speaker/utterance/word/phonetic', all_phonetic]\n",
    "seq_df.loc[len(seq_df)] = ['english', 'speaker/utterance/pos', all_pos]"
   ]
  },
  {
   "cell_type": "code",
   "execution_count": null,
   "metadata": {
    "ExecuteTime": {
     "end_time": "2019-03-04T05:06:22.194988Z",
     "start_time": "2019-03-04T05:06:21.068716Z"
    }
   },
   "outputs": [],
   "source": [
    "seq_df.to_pickle((DATA_DIR / 'speech_seq_df/BUCKEYE_seq_df.pickle'))"
   ]
  },
  {
   "cell_type": "code",
   "execution_count": null,
   "metadata": {},
   "outputs": [],
   "source": []
  }
 ],
 "metadata": {
  "kernelspec": {
   "display_name": "Python 3",
   "language": "python",
   "name": "python3"
  },
  "language_info": {
   "codemirror_mode": {
    "name": "ipython",
    "version": 3
   },
   "file_extension": ".py",
   "mimetype": "text/x-python",
   "name": "python",
   "nbconvert_exporter": "python",
   "pygments_lexer": "ipython3",
   "version": "3.6.8"
  }
 },
 "nbformat": 4,
 "nbformat_minor": 2
}
