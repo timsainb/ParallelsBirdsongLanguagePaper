{
 "cells": [
  {
   "cell_type": "markdown",
   "metadata": {},
   "source": [
    "# Prepare CSJ (japanese dataset)\n",
    "1. grab linguistic units from dataset\n",
    "2. grab dataset statistics"
   ]
  },
  {
   "cell_type": "code",
   "execution_count": null,
   "metadata": {
    "ExecuteTime": {
     "end_time": "2019-03-03T19:52:33.010765Z",
     "start_time": "2019-03-03T19:52:32.265922Z"
    }
   },
   "outputs": [],
   "source": [
    "import numpy as np\n",
    "from glob import glob\n",
    "from tqdm.autonotebook import tqdm\n",
    "from parallelspaper.speech_datasets import prep_CSJ\n",
    "import pandas as pd\n",
    "from parallelspaper.config.paths import DATA_DIR"
   ]
  },
  {
   "cell_type": "code",
   "execution_count": null,
   "metadata": {
    "ExecuteTime": {
     "end_time": "2019-03-03T19:52:33.016363Z",
     "start_time": "2019-03-03T19:52:33.013664Z"
    }
   },
   "outputs": [],
   "source": [
    "CSJ_DIR = '/mnt/cube/Datasets/Japanese/XML/BaseXML/core/'"
   ]
  },
  {
   "cell_type": "code",
   "execution_count": null,
   "metadata": {
    "ExecuteTime": {
     "end_time": "2019-03-03T19:52:33.112783Z",
     "start_time": "2019-03-03T19:52:33.018137Z"
    }
   },
   "outputs": [],
   "source": [
    "xml_locs = glob(CSJ_DIR+'*.xml')"
   ]
  },
  {
   "cell_type": "markdown",
   "metadata": {},
   "source": [
    "### Load data"
   ]
  },
  {
   "cell_type": "code",
   "execution_count": null,
   "metadata": {
    "ExecuteTime": {
     "end_time": "2019-03-03T19:53:38.159943Z",
     "start_time": "2019-03-03T19:52:33.114899Z"
    }
   },
   "outputs": [],
   "source": [
    "(words, pos, mora, phonemes, phones, phone_class, session_lens,\n",
    " IPU_lens, phone_lens, word_lens, session_lens, IPU_phonemes) = prep_CSJ(xml_locs)"
   ]
  },
  {
   "cell_type": "markdown",
   "metadata": {},
   "source": [
    "### Get dataset statistics"
   ]
  },
  {
   "cell_type": "code",
   "execution_count": null,
   "metadata": {
    "ExecuteTime": {
     "end_time": "2019-03-03T20:00:59.385380Z",
     "start_time": "2019-03-03T20:00:56.918237Z"
    }
   },
   "outputs": [],
   "source": [
    "num_phonemes = len(np.concatenate(phonemes))\n",
    "num_words = len(np.concatenate(words))\n",
    "word_durations_s = np.nan\n",
    "word_length_phones = word_lens\n",
    "phone_duration_s = phone_lens\n",
    "unique_phones = len(np.unique(np.concatenate(phonemes)))\n",
    "unique_words = len(np.unique(np.concatenate(words)))\n",
    "utterance_length_phones = [len(i) for i in np.concatenate(IPU_phonemes)]\n",
    "n_sessions = len(phones)\n",
    "session_durations = [np.sum(i) for i in session_lens]\n",
    "total_duration = np.sum(IPU_lens)"
   ]
  },
  {
   "cell_type": "code",
   "execution_count": null,
   "metadata": {
    "ExecuteTime": {
     "end_time": "2019-03-03T20:00:59.423629Z",
     "start_time": "2019-03-03T20:00:59.388429Z"
    }
   },
   "outputs": [],
   "source": [
    "stats_df = pd.DataFrame([[\n",
    "    num_phonemes,\n",
    "    num_words,\n",
    "    word_durations_s,\n",
    "    word_length_phones,\n",
    "    phone_duration_s,\n",
    "    unique_phones,\n",
    "    unique_words,\n",
    "    utterance_length_phones,\n",
    "    n_sessions,\n",
    "    session_durations,\n",
    "    total_duration\n",
    "]],\n",
    "    columns=[\n",
    "        'num_phonemes',\n",
    "        'num_words',\n",
    "        'word_durations_s',\n",
    "        'word_length_phones',\n",
    "        'phone_duration_s',\n",
    "        'unique_phones',\n",
    "        'unique_words',\n",
    "        'utterance_length_phones',\n",
    "        'n_sessions',\n",
    "        'session_durations',\n",
    "        'total_duration'\n",
    "])\n",
    "stats_df"
   ]
  },
  {
   "cell_type": "code",
   "execution_count": null,
   "metadata": {
    "ExecuteTime": {
     "end_time": "2019-03-03T20:00:59.754125Z",
     "start_time": "2019-03-03T20:00:59.425371Z"
    }
   },
   "outputs": [],
   "source": [
    "# statistics for this language\n",
    "stats_df.to_pickle((DATA_DIR / 'stats_df/CSJ_stats_df.pickle'))"
   ]
  },
  {
   "cell_type": "markdown",
   "metadata": {},
   "source": [
    "### make sequence dataframes"
   ]
  },
  {
   "cell_type": "code",
   "execution_count": null,
   "metadata": {
    "ExecuteTime": {
     "end_time": "2019-03-03T19:53:40.983371Z",
     "start_time": "2019-03-03T19:53:40.979847Z"
    }
   },
   "outputs": [],
   "source": [
    "# words, pos, mora, phonemes, phones, phone_class"
   ]
  },
  {
   "cell_type": "code",
   "execution_count": null,
   "metadata": {
    "ExecuteTime": {
     "end_time": "2019-03-03T22:18:39.884311Z",
     "start_time": "2019-03-03T22:18:39.861387Z"
    }
   },
   "outputs": [],
   "source": [
    "seq_df = pd.DataFrame(columns = ['language', 'levels', 'data'])"
   ]
  },
  {
   "cell_type": "code",
   "execution_count": null,
   "metadata": {
    "ExecuteTime": {
     "end_time": "2019-03-03T22:18:40.355035Z",
     "start_time": "2019-03-03T22:18:40.317733Z"
    }
   },
   "outputs": [],
   "source": [
    "seq_df.loc[len(seq_df)] = ['japanese', 'speaker/IPU/phonemes', IPU_phonemes]\n",
    "seq_df.loc[len(seq_df)] = ['japanese', 'speaker/word', words]\n",
    "seq_df.loc[len(seq_df)] = ['japanese', 'speaker/pos', pos]\n",
    "seq_df.loc[len(seq_df)] = ['japanese', 'speaker/word/mora', mora]\n",
    "seq_df.loc[len(seq_df)] = ['japanese', 'speaker/word/phonemes', phonemes]\n",
    "seq_df.loc[len(seq_df)] = ['japanese', 'speaker/word/phones', phones]\n",
    "seq_df.loc[len(seq_df)] = ['japanese', 'speaker/word/phone_class', phone_class]"
   ]
  },
  {
   "cell_type": "code",
   "execution_count": null,
   "metadata": {
    "ExecuteTime": {
     "end_time": "2019-03-03T22:18:45.008440Z",
     "start_time": "2019-03-03T22:18:41.363872Z"
    }
   },
   "outputs": [],
   "source": [
    "seq_df.to_pickle((DATA_DIR / 'speech_seq_df/CSJ_seq_df.pickle'))"
   ]
  },
  {
   "cell_type": "code",
   "execution_count": null,
   "metadata": {},
   "outputs": [],
   "source": []
  }
 ],
 "metadata": {
  "kernelspec": {
   "display_name": "Python 3",
   "language": "python",
   "name": "python3"
  },
  "language_info": {
   "codemirror_mode": {
    "name": "ipython",
    "version": 3
   },
   "file_extension": ".py",
   "mimetype": "text/x-python",
   "name": "python",
   "nbconvert_exporter": "python",
   "pygments_lexer": "ipython3",
   "version": "3.6.8"
  }
 },
 "nbformat": 4,
 "nbformat_minor": 2
}
