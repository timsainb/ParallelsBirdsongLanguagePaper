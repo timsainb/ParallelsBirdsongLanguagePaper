{
 "cells": [
  {
   "cell_type": "markdown",
   "metadata": {},
   "source": [
    "# plot MI decay for additional units"
   ]
  },
  {
   "cell_type": "code",
   "execution_count": null,
   "metadata": {
    "ExecuteTime": {
     "end_time": "2019-04-12T03:55:22.615323Z",
     "start_time": "2019-04-12T03:55:17.525117Z"
    }
   },
   "outputs": [],
   "source": [
    "import pandas as pd\n",
    "from parallelspaper.config.paths import DATA_DIR, FIGURE_DIR\n",
    "from parallelspaper.speech_datasets import LCOL_DICT\n",
    "import numpy as np\n",
    "from parallelspaper import model_fitting as mf\n",
    "from parallelspaper.utils import save_fig"
   ]
  },
  {
   "cell_type": "code",
   "execution_count": null,
   "metadata": {
    "ExecuteTime": {
     "end_time": "2019-04-12T03:55:22.653871Z",
     "start_time": "2019-04-12T03:55:22.626615Z"
    }
   },
   "outputs": [],
   "source": [
    "LCOL_DICT"
   ]
  },
  {
   "cell_type": "code",
   "execution_count": null,
   "metadata": {
    "ExecuteTime": {
     "end_time": "2019-04-12T03:55:22.765031Z",
     "start_time": "2019-04-12T03:55:22.664936Z"
    }
   },
   "outputs": [],
   "source": [
    "from matplotlib import gridspec\n",
    "import matplotlib.pyplot as plt\n",
    "%matplotlib inline"
   ]
  },
  {
   "cell_type": "markdown",
   "metadata": {},
   "source": [
    "### load data"
   ]
  },
  {
   "cell_type": "code",
   "execution_count": null,
   "metadata": {
    "ExecuteTime": {
     "end_time": "2019-04-12T03:55:23.200585Z",
     "start_time": "2019-04-12T03:55:22.776466Z"
    }
   },
   "outputs": [],
   "source": [
    "MI_DF = pd.read_pickle((DATA_DIR / 'MI_DF/language/language_MI_DF_fitted.pickle'))"
   ]
  },
  {
   "cell_type": "markdown",
   "metadata": {},
   "source": [
    "### Plot additional units"
   ]
  },
  {
   "cell_type": "code",
   "execution_count": null,
   "metadata": {
    "ExecuteTime": {
     "end_time": "2019-04-12T03:55:23.230616Z",
     "start_time": "2019-04-12T03:55:23.210729Z"
    }
   },
   "outputs": [],
   "source": [
    "atd = [\n",
    "        ['english', 'word', 'session'],\n",
    "        ['english', 'pos', 'session'],\n",
    "        ['german', 'word', 'session'],\n",
    "        ['german', 'sylls', 'session'],\n",
    "        ['japanese', 'pos', 'session'],\n",
    "        ['japanese', 'word', 'session'],\n",
    "        ['japanese', 'mora', 'session'],\n",
    "    ]"
   ]
  },
  {
   "cell_type": "code",
   "execution_count": null,
   "metadata": {
    "ExecuteTime": {
     "end_time": "2019-04-12T03:55:23.410829Z",
     "start_time": "2019-04-12T03:55:23.241508Z"
    }
   },
   "outputs": [],
   "source": [
    "subset_MI_DF = pd.concat(\n",
    "    [MI_DF[\n",
    "        (MI_DF.language.values == lang) &\n",
    "        (MI_DF.unit.values == unit) &\n",
    "        (MI_DF.analysis.values == analysis)\n",
    "    ] for lang, unit, analysis in atd]\n",
    ")"
   ]
  },
  {
   "cell_type": "code",
   "execution_count": null,
   "metadata": {
    "ExecuteTime": {
     "end_time": "2019-04-12T04:09:18.164737Z",
     "start_time": "2019-04-12T04:08:14.628974Z"
    }
   },
   "outputs": [],
   "source": [
    "fontsize = 18\n",
    "yoff=-.20\n",
    "ncol = 4\n",
    "nrow = int(np.ceil(len(subset_MI_DF)/ncol))\n",
    "zoom = 5\n",
    "fig, axs = plt.subplots(ncols=ncol, nrows=nrow, figsize=zoom*np.array([ncol,nrow]))\n",
    "plt.subplots_adjust(hspace=0.25, wspace=0.25)\n",
    "\n",
    "for axi, (idx, row) in enumerate(subset_MI_DF.sort_values(by=['language', 'unit']).iterrows()):\n",
    "    ax = axs.flatten()[axi]\n",
    "    \n",
    "    color = LCOL_DICT[row.language]\n",
    "    sig = np.array(row.MI-row.MI_shuff)\n",
    "    distances = row.distances\n",
    "    sig = sig\n",
    "    distances = distances\n",
    "    # get signal limits\n",
    "    sig_lims = np.log([np.min(sig[sig>0]), np.nanmax(sig)])\n",
    "    sig_lims = [sig_lims[0] - (sig_lims[1]-sig_lims[0])/10,\n",
    "                    sig_lims[1] + (sig_lims[1]-sig_lims[0])/10]\n",
    "            \n",
    "    \n",
    "    \n",
    "    # plot real data\n",
    "    ax.scatter(distances, sig, alpha = 1, s=40, color=color)\n",
    "    \n",
    "    best_fit_model = np.array(['exp','pow','pow_exp'])[np.argmin(row[['AICc_exp', 'AICc_power', 'AICc_concat']].values)]\n",
    "    \n",
    "    # set title\n",
    "    model_type = {'pow_exp': 'comp.', 'exp': 'exp.', 'pow':'power law'}[best_fit_model]\n",
    "    unit = {'pos': 'parts of speech', 'word': 'words', 'sylls': 'syllables', 'mora': 'mora'}[row.unit]\n",
    "    \n",
    "    ax.set_title(' | '.join([row.language.capitalize(), unit, model_type]), fontsize=16)\n",
    "    \n",
    "    if axi%ncol == 0:\n",
    "            ax.set_ylabel('Mutual Information (bits)', labelpad=5, fontsize=fontsize)\n",
    "            ax.yaxis.set_label_coords(yoff,0.5)\n",
    "    \n",
    "    ax.set_xlabel('Distance ('+unit+')', labelpad=5, fontsize=fontsize)\n",
    "    ax.set_xticks([1,10,100])\n",
    "    ax.set_xticklabels(['1','10','100'])\n",
    "    \n",
    "    # plot model\n",
    "    distances_model = np.logspace(0,np.log10(distances[-1]), base=10, num=1000)\n",
    "    \n",
    "    if best_fit_model == 'pow_exp':\n",
    "        print(row.language, row.unit, distances_model[int(row.min_peak)])\n",
    "        ax.axvline(distances_model[int(row.min_peak)], lw=3,alpha=0.5, color=color, ls='dashed')\n",
    "        \n",
    "    if best_fit_model == 'pow_exp':\n",
    "        # model data\n",
    "        #row.concat_results.params.intercept = 0\n",
    "        y_model = mf.get_y(mf.pow_exp_decay, row.concat_results, distances_model)\n",
    "        y_pow = mf.get_y(mf.powerlaw_decay, row.concat_results, distances_model)\n",
    "        y_exp = mf.get_y(mf.exp_decay, row.concat_results, distances_model)\n",
    "\n",
    "        ax.plot(distances_model, y_pow, ls='dotted', color= 'k', lw=5, alpha=0.5)\n",
    "        ax.plot(distances_model, y_exp-row.concat_results.params['intercept'].value, ls='dashed', color= 'k', lw=5, alpha=0.5)\n",
    "\n",
    "        # plot modelled data\n",
    "        ax.plot(distances_model, y_model, alpha = 0.5, lw=10, color=color)\n",
    "    \n",
    "    elif best_fit_model == 'pow':\n",
    "        y_model = mf.get_y(mf.powerlaw_decay, row.pow_results, distances_model)\n",
    "        # plot modelled data\n",
    "        ax.plot(distances_model, y_model, alpha = 0.5, lw=10, color=color)\n",
    "        \n",
    "        \n",
    "    elif best_fit_model == 'exp':\n",
    "        y_model = mf.get_y(mf.exp_decay, row.exp_results, distances_model)\n",
    "        # plot modelled data\n",
    "        ax.plot(distances_model, y_model, alpha = 0.5, lw=10, color=color)\n",
    "        \n",
    "    # axis params\n",
    "    ax.set_xlim([distances[0], distances[-1]])\n",
    "    #sig_lims[0] = np.log(10e-6)\n",
    "    \n",
    "    ax.tick_params(which='both', direction='in', labelsize=14, pad=10)\n",
    "    ax.tick_params(which='major', length=10, width =3)\n",
    "    ax.tick_params(which='minor', length=5, width =2)\n",
    "    ax.set_xscale( \"log\" , basex=10)\n",
    "    ax.set_yscale( \"log\" , basey=10)\n",
    "    ax.set_xticks([])\n",
    "    for axis in ['top','bottom','left','right']:\n",
    "        ax.spines[axis].set_linewidth(3)\n",
    "        ax.spines[axis].set_color('k')\n",
    "    \n",
    "    ax.set_xlim([1,100])\n",
    "    ax.set_ylim(np.exp(sig_lims))\n",
    "    \n",
    "    ax.set_xticks([1,10,100])\n",
    "    ax.set_xticklabels(['1','10','100'])\n",
    "    \n",
    "for axi in np.arange(axi+1,ncol*nrow):\n",
    "    ax = axs.flatten()[axi]\n",
    "    ax.axis('off')\n",
    "\n",
    "plt.subplots_adjust(hspace = 0.35)\n",
    "#plt.tight_layout()\n",
    "save_fig(FIGURE_DIR/'lang_fig_units')\n"
   ]
  },
  {
   "cell_type": "code",
   "execution_count": null,
   "metadata": {
    "ExecuteTime": {
     "end_time": "2019-03-08T17:46:55.703506Z",
     "start_time": "2019-03-08T17:46:55.695361Z"
    }
   },
   "outputs": [],
   "source": []
  },
  {
   "cell_type": "code",
   "execution_count": null,
   "metadata": {},
   "outputs": [],
   "source": []
  },
  {
   "cell_type": "code",
   "execution_count": null,
   "metadata": {},
   "outputs": [],
   "source": []
  }
 ],
 "metadata": {
  "kernelspec": {
   "display_name": "Python 3",
   "language": "python",
   "name": "python3"
  },
  "language_info": {
   "codemirror_mode": {
    "name": "ipython",
    "version": 3
   },
   "file_extension": ".py",
   "mimetype": "text/x-python",
   "name": "python",
   "nbconvert_exporter": "python",
   "pygments_lexer": "ipython3",
   "version": "3.6.8"
  }
 },
 "nbformat": 4,
 "nbformat_minor": 2
}
