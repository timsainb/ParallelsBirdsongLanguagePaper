{
 "cells": [
  {
   "cell_type": "markdown",
   "metadata": {},
   "source": [
    "# plot MI decay for language"
   ]
  },
  {
   "cell_type": "code",
   "execution_count": null,
   "metadata": {
    "ExecuteTime": {
     "end_time": "2019-04-12T03:50:32.460949Z",
     "start_time": "2019-04-12T03:50:27.522294Z"
    }
   },
   "outputs": [],
   "source": [
    "import pandas as pd\n",
    "from parallelspaper.config.paths import DATA_DIR, FIGURE_DIR\n",
    "from parallelspaper.speech_datasets import LCOL_DICT\n",
    "import numpy as np\n",
    "from parallelspaper import model_fitting as mf\n",
    "from parallelspaper.utils import save_fig"
   ]
  },
  {
   "cell_type": "code",
   "execution_count": null,
   "metadata": {
    "ExecuteTime": {
     "end_time": "2019-04-12T03:50:32.502213Z",
     "start_time": "2019-04-12T03:50:32.475729Z"
    }
   },
   "outputs": [],
   "source": [
    "LCOL_DICT"
   ]
  },
  {
   "cell_type": "code",
   "execution_count": null,
   "metadata": {
    "ExecuteTime": {
     "end_time": "2019-04-12T03:50:32.604737Z",
     "start_time": "2019-04-12T03:50:32.513408Z"
    }
   },
   "outputs": [],
   "source": [
    "from matplotlib import gridspec\n",
    "import matplotlib.pyplot as plt\n",
    "%matplotlib inline"
   ]
  },
  {
   "cell_type": "markdown",
   "metadata": {},
   "source": [
    "### load data"
   ]
  },
  {
   "cell_type": "code",
   "execution_count": null,
   "metadata": {
    "ExecuteTime": {
     "end_time": "2019-04-12T03:50:33.368092Z",
     "start_time": "2019-04-12T03:50:32.616656Z"
    }
   },
   "outputs": [],
   "source": [
    "MI_DF = pd.read_pickle((DATA_DIR / 'MI_DF/language/language_MI_DF_fitted.pickle'))"
   ]
  },
  {
   "cell_type": "code",
   "execution_count": null,
   "metadata": {
    "ExecuteTime": {
     "end_time": "2019-04-12T03:50:33.414197Z",
     "start_time": "2019-04-12T03:50:33.379306Z"
    }
   },
   "outputs": [],
   "source": [
    "# subset dataset to only look at the major units\n",
    "subset_MI_DF = MI_DF[[(row.unit in ['phonetic', 'phonemes', 'phoneme', 'ortho-phonetic']) & (row.analysis in ['shuffled_between_word', 'shuffled_within_word'])  for idx, row in MI_DF.iterrows()]]"
   ]
  },
  {
   "cell_type": "code",
   "execution_count": null,
   "metadata": {
    "ExecuteTime": {
     "end_time": "2019-04-12T03:50:33.797582Z",
     "start_time": "2019-04-12T03:50:33.424321Z"
    }
   },
   "outputs": [],
   "source": [
    "subset_MI_DF[:3]"
   ]
  },
  {
   "cell_type": "markdown",
   "metadata": {},
   "source": [
    "### plot shuffled decay for language"
   ]
  },
  {
   "cell_type": "code",
   "execution_count": null,
   "metadata": {
    "ExecuteTime": {
     "end_time": "2019-04-12T03:50:33.841116Z",
     "start_time": "2019-04-12T03:50:33.806284Z"
    }
   },
   "outputs": [],
   "source": [
    "# subset dataset to only look at the major units\n",
    "subset_MI_DF = MI_DF[[(row.unit in ['phonetic', 'phonemes', 'phoneme', 'ortho-phonetic']) & (row.analysis in ['shuffled_within_word', 'shuffled_between_word'])  for idx, row in MI_DF.iterrows()]]"
   ]
  },
  {
   "cell_type": "code",
   "execution_count": null,
   "metadata": {
    "ExecuteTime": {
     "end_time": "2019-04-12T03:55:32.957637Z",
     "start_time": "2019-04-12T03:54:12.647540Z"
    }
   },
   "outputs": [],
   "source": [
    "fontsize=18\n",
    "yoff=-.20\n",
    "ncol = 4\n",
    "nrow = len(subset_MI_DF)//ncol\n",
    "zoom = 5\n",
    "fig, axs = plt.subplots(ncols=ncol, nrows=nrow, figsize=zoom*np.array([ncol,nrow]))\n",
    "for axi, (idx, row) in enumerate(subset_MI_DF.sort_values(by=['analysis', 'unit', 'language']).iterrows()):\n",
    "    ax = axs.flatten()[axi]\n",
    "    \n",
    "    color = LCOL_DICT[row.language]\n",
    "    sig = np.array(row.MI-row.MI_shuff)\n",
    "    distances = row.distances\n",
    "    sig = sig\n",
    "    distances = distances\n",
    "    # get signal limits\n",
    "    sig_lims = np.log([np.min(sig[sig>0]), np.nanmax(sig)])\n",
    "    sig_lims = [sig_lims[0] - (sig_lims[1]-sig_lims[0])/10,\n",
    "                    sig_lims[1] + (sig_lims[1]-sig_lims[0])/10]\n",
    "            \n",
    "    if axi%ncol == 0:\n",
    "            ax.set_ylabel('Mutual Information (bits)', labelpad=5, fontsize=fontsize)\n",
    "            ax.yaxis.set_label_coords(yoff,0.5)\n",
    "    if axi >= (nrow-1)*ncol:      \n",
    "        ax.set_xlabel('Distance (phones)', labelpad=5, fontsize=fontsize)\n",
    "        ax.set_xticks([1,10,100])\n",
    "        ax.set_xticklabels(['1','10','100'])\n",
    "    \n",
    "    # plot real data\n",
    "    ax.scatter(distances, sig, alpha = 1, s=40, color=color)\n",
    "    \n",
    "    best_fit_model = np.array(['exp','pow','pow_exp'])[np.argmin(row[['AICc_exp', 'AICc_power', 'AICc_concat']].values)]\n",
    "    \n",
    "    # set title\n",
    "    analysis = 'within word' if row.analysis == 'shuffled_within_word' else 'between word'\n",
    "    model_type = {'pow_exp': 'comp.', 'exp': 'exp.', 'pow':'power law'}[best_fit_model]\n",
    "    ax.set_title(' | '.join([row.language.capitalize(), analysis, model_type]), fontsize = 16)\n",
    "    \n",
    "    # plot model\n",
    "    distances_model = np.logspace(0,np.log10(distances[-1]), base=10, num=1000)\n",
    "    \n",
    "    if best_fit_model == 'pow_exp':\n",
    "        ax.axvline(distances_model[int(row.min_peak)], lw=3,alpha=0.5, color=color, ls='dashed')\n",
    "        \n",
    "    if best_fit_model == 'pow_exp':\n",
    "        # model data\n",
    "        #row.concat_results.params.intercept = 0\n",
    "        y_model = mf.get_y(mf.pow_exp_decay, row.concat_results, distances_model)\n",
    "        y_pow = mf.get_y(mf.powerlaw_decay, row.concat_results, distances_model)\n",
    "        y_exp = mf.get_y(mf.exp_decay, row.concat_results, distances_model)\n",
    "\n",
    "        ax.plot(distances_model, y_pow, ls='dotted', color= 'k', lw=5, alpha=0.5)\n",
    "        ax.plot(distances_model, y_exp-row.concat_results.params['intercept'].value, ls='dashed', color= 'k', lw=5, alpha=0.5)\n",
    "\n",
    "        # plot modelled data\n",
    "        ax.plot(distances_model, y_model, alpha = 0.5, lw=10, color=color)\n",
    "    \n",
    "    elif best_fit_model == 'pow':\n",
    "        y_model = mf.get_y(mf.powerlaw_decay, row.pow_results, distances_model)\n",
    "        # plot modelled data\n",
    "        ax.plot(distances_model, y_model, alpha = 0.5, lw=10, color=color)\n",
    "        \n",
    "        \n",
    "    elif best_fit_model == 'exp':\n",
    "        y_model = mf.get_y(mf.exp_decay, row.exp_results, distances_model)\n",
    "        # plot modelled data\n",
    "        ax.plot(distances_model, y_model, alpha = 0.5, lw=10, color=color)\n",
    "        \n",
    "    # axis params\n",
    "    ax.set_xlim([distances[0], distances[-1]])\n",
    "    sig_lims[0] = np.log(10e-6)\n",
    "    ax.set_ylim(np.exp(sig_lims))\n",
    "    ax.tick_params(which='both', direction='in', labelsize=14, pad=10)\n",
    "    ax.tick_params(which='major', length=10, width =3)\n",
    "    ax.tick_params(which='minor', length=5, width =2)\n",
    "    ax.set_xscale( \"log\" , basex=10)\n",
    "    ax.set_yscale( \"log\" , basey=10)\n",
    "    ax.set_xticks([])\n",
    "    for axis in ['top','bottom','left','right']:\n",
    "        ax.spines[axis].set_linewidth(3)\n",
    "        ax.spines[axis].set_color('k')\n",
    "    \n",
    "    ax.set_xlim([1,100])\n",
    "    \n",
    "    \n",
    "save_fig(FIGURE_DIR/'speech_shuffle')"
   ]
  },
  {
   "cell_type": "code",
   "execution_count": null,
   "metadata": {},
   "outputs": [],
   "source": []
  }
 ],
 "metadata": {
  "kernelspec": {
   "display_name": "Python 3",
   "language": "python",
   "name": "python3"
  },
  "language_info": {
   "codemirror_mode": {
    "name": "ipython",
    "version": 3
   },
   "file_extension": ".py",
   "mimetype": "text/x-python",
   "name": "python",
   "nbconvert_exporter": "python",
   "pygments_lexer": "ipython3",
   "version": "3.6.8"
  }
 },
 "nbformat": 4,
 "nbformat_minor": 2
}
