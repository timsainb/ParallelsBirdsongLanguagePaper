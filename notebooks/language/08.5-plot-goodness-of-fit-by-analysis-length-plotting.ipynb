{
 "cells": [
  {
   "cell_type": "markdown",
   "metadata": {},
   "source": [
    "# Calculate MI for each language and plot goodness of fit by length of analysis\n",
    "1. load datasets\n",
    "2. calculate MI"
   ]
  },
  {
   "cell_type": "code",
   "execution_count": null,
   "metadata": {
    "ExecuteTime": {
     "end_time": "2019-04-12T04:36:25.589445Z",
     "start_time": "2019-04-12T04:36:17.962480Z"
    }
   },
   "outputs": [],
   "source": [
    "import pandas as pd\n",
    "import numpy as np\n",
    "from parallelspaper.config.paths import DATA_DIR, FIGURE_DIR\n",
    "from parallelspaper.speech_datasets import LCOL_DICT\n",
    "from parallelspaper import information_theory as it \n",
    "from tqdm.autonotebook import tqdm\n",
    "from parallelspaper import model_fitting as mf\n",
    "from parallelspaper.utils import save_fig"
   ]
  },
  {
   "cell_type": "markdown",
   "metadata": {},
   "source": [
    "### load datasets"
   ]
  },
  {
   "cell_type": "code",
   "execution_count": null,
   "metadata": {
    "ExecuteTime": {
     "end_time": "2019-04-12T04:36:25.646560Z",
     "start_time": "2019-04-12T04:36:25.602938Z"
    }
   },
   "outputs": [],
   "source": [
    "MI_DF= pd.read_pickle(DATA_DIR / 'MI_DF/language/language_MI_DF_long.pickle')"
   ]
  },
  {
   "cell_type": "code",
   "execution_count": null,
   "metadata": {
    "ExecuteTime": {
     "end_time": "2019-04-12T04:36:25.758916Z",
     "start_time": "2019-04-12T04:36:25.655216Z"
    }
   },
   "outputs": [],
   "source": [
    "fit_df = pd.read_pickle(DATA_DIR / 'MI_DF/language/fit_df_long.pickle')"
   ]
  },
  {
   "cell_type": "code",
   "execution_count": null,
   "metadata": {
    "ExecuteTime": {
     "end_time": "2019-04-12T04:36:25.931140Z",
     "start_time": "2019-04-12T04:36:25.775361Z"
    }
   },
   "outputs": [],
   "source": [
    "fit_df[:3]"
   ]
  },
  {
   "cell_type": "markdown",
   "metadata": {},
   "source": [
    "### Plot results"
   ]
  },
  {
   "cell_type": "code",
   "execution_count": null,
   "metadata": {
    "ExecuteTime": {
     "end_time": "2019-04-12T04:36:25.949690Z",
     "start_time": "2019-04-12T04:36:25.941961Z"
    }
   },
   "outputs": [],
   "source": [
    "import matplotlib.pyplot as plt"
   ]
  },
  {
   "cell_type": "markdown",
   "metadata": {},
   "source": [
    "##### R2 full concatenative model"
   ]
  },
  {
   "cell_type": "code",
   "execution_count": null,
   "metadata": {
    "ExecuteTime": {
     "end_time": "2019-04-12T04:38:41.570011Z",
     "start_time": "2019-04-12T04:38:18.441425Z"
    }
   },
   "outputs": [],
   "source": [
    "ncol = len(np.unique(fit_df.language))\n",
    "zoom = 4\n",
    "fig, axs = plt.subplots(ncols=ncol, figsize= (ncol*zoom, zoom))\n",
    "for sax, language in enumerate(np.unique(fit_df.language)):\n",
    "    color = LCOL_DICT[language]\n",
    "    ax = axs.flatten()[sax]\n",
    "    spec_fit_df = fit_df[fit_df.language == language]\n",
    "    \n",
    "    ax.plot(spec_fit_df.d, spec_fit_df.R2_concat.values, lw=4, color=color)\n",
    "    ax.set_title(language.capitalize(), fontsize=16)\n",
    "    ax.set_ylim([0.5,1.01])\n",
    "    ax.set_xlim([np.min(spec_fit_df.d), np.max(spec_fit_df.d)])\n",
    "    spec_fit_df = spec_fit_df[spec_fit_df.d > 100]\n",
    "    d = spec_fit_df.d.values[np.where(spec_fit_df.R2_concat.values > (spec_fit_df.R2_concat.values[0]*.999))[0][-1]]\n",
    "    print(d)\n",
    "    #ax.axvline(d,color='k', ls='dashed', alpha=0.5)\n",
    "    #ax.set_ylim(np.exp(sig_lims))\n",
    "    ax.tick_params(which='both', direction='in')\n",
    "    ax.tick_params(which='major', length=10, width =3)\n",
    "    ax.tick_params(which='minor', length=5, width =2)\n",
    "    ax.set_xlabel('Distance (phones)', fontsize=18)\n",
    "    ax.set_xscale( \"log\" , basex=10)\n",
    "    for axis in ['top','bottom','left','right']:\n",
    "        ax.spines[axis].set_linewidth(3)\n",
    "        ax.spines[axis].set_color('k')\n",
    "\n",
    "axs[0].set_ylabel('$r^2$ comp. model', fontsize=18)\n",
    "plt.tight_layout()\n",
    "\n",
    "save_fig(FIGURE_DIR/'R2_speech')\n"
   ]
  },
  {
   "cell_type": "markdown",
   "metadata": {
    "ExecuteTime": {
     "end_time": "2019-03-04T20:41:04.383722Z",
     "start_time": "2019-03-04T20:41:04.378925Z"
    }
   },
   "source": [
    "##### R2 of power-law compenent"
   ]
  },
  {
   "cell_type": "code",
   "execution_count": null,
   "metadata": {
    "ExecuteTime": {
     "end_time": "2019-04-12T04:37:27.250003Z",
     "start_time": "2019-04-12T04:37:05.615676Z"
    }
   },
   "outputs": [],
   "source": [
    "ncol = len(np.unique(fit_df.language))\n",
    "zoom = 4\n",
    "fig, axs = plt.subplots(ncols=ncol, figsize= (ncol*zoom, zoom))\n",
    "for sax, language in enumerate(np.unique(fit_df.language)):\n",
    "    color = LCOL_DICT[language]\n",
    "    ax = axs.flatten()[sax]\n",
    "    spec_fit_df = fit_df[fit_df.language == language]\n",
    "    ax.plot(spec_fit_df.d, spec_fit_df.R2_pow_comp.values, lw=4, color=color)\n",
    "    #ax.plot(spec_fit_df.d, spec_fit_df.R2_pow_comp.values, lw=4, color=color)\n",
    "    ax.set_title(language.capitalize(), fontsize=16)\n",
    "    ax.set_ylim([0.5,1.01])\n",
    "    #ax.set_xlim([np.min(spec_fit_df.d), np.max(spec_fit_df.d)])\n",
    "    \n",
    "    #ax.axvline(d,color='k', ls='dashed', alpha=0.5)\n",
    "    #ax.set_ylim(np.exp(sig_lims))\n",
    "    ax.tick_params(which='both', direction='in')\n",
    "    ax.tick_params(which='major', length=10, width =3)\n",
    "    ax.tick_params(which='minor', length=5, width =2)\n",
    "    ax.set_xlabel('Distance (phones)', fontsize=18)\n",
    "    ax.set_xscale( \"log\" , basex=10)\n",
    "    for axis in ['top','bottom','left','right']:\n",
    "        ax.spines[axis].set_linewidth(3)\n",
    "        ax.spines[axis].set_color('k')\n",
    "\n",
    "axs[0].set_ylabel('$r^2$ power-law component', fontsize=18)\n",
    "plt.tight_layout()\n",
    "\n",
    "save_fig(FIGURE_DIR/'r2_powerlaw_speech')\n"
   ]
  },
  {
   "cell_type": "markdown",
   "metadata": {},
   "source": [
    "##### $\\Delta$AICc composite vs expon"
   ]
  },
  {
   "cell_type": "code",
   "execution_count": null,
   "metadata": {
    "ExecuteTime": {
     "end_time": "2019-04-12T04:38:18.429628Z",
     "start_time": "2019-04-12T04:37:55.002515Z"
    }
   },
   "outputs": [],
   "source": [
    "ncol = len(np.unique(fit_df.language))\n",
    "zoom = 4\n",
    "fig, axs = plt.subplots(ncols=ncol, figsize= (ncol*zoom, zoom))\n",
    "for sax, language in enumerate(np.unique(fit_df.language)):\n",
    "    color = LCOL_DICT[language]\n",
    "    ax = axs.flatten()[sax]\n",
    "    spec_fit_df = fit_df[fit_df.language == language]\n",
    "    ax.plot(spec_fit_df.d, spec_fit_df.AICc_concat.values - spec_fit_df.AICc_exp.values, lw=4, color=color)\n",
    "    #ax.plot(spec_fit_df.d, spec_fit_df.R2_pow_comp.values, lw=4, color=color)\n",
    "    ax.set_title(language.capitalize(), fontsize=16)\n",
    "    #ax.set_ylim([0.5,1.01])\n",
    "    #ax.set_xlim([np.min(spec_fit_df.d), np.max(spec_fit_df.d)])\n",
    "    \n",
    "    #ax.axvline(d,color='k', ls='dashed', alpha=0.5)\n",
    "    #ax.set_ylim(np.exp(sig_lims))\n",
    "    ax.tick_params(which='both', direction='in')\n",
    "    ax.tick_params(which='major', length=10, width =3)\n",
    "    ax.tick_params(which='minor', length=5, width =2)\n",
    "    ax.set_xlabel('Distance (phones)', fontsize=18)\n",
    "    ax.set_xscale( \"log\" , basex=10)\n",
    "    for axis in ['top','bottom','left','right']:\n",
    "        ax.spines[axis].set_linewidth(3)\n",
    "        ax.spines[axis].set_color('k')\n",
    "\n",
    "axs[0].set_ylabel('$\\Delta$AICc (comp.- exp.)', fontsize=18)\n",
    "plt.tight_layout()\n",
    "\n",
    "save_fig(FIGURE_DIR/'delta_AIC_speech')\n"
   ]
  },
  {
   "cell_type": "code",
   "execution_count": null,
   "metadata": {},
   "outputs": [],
   "source": []
  }
 ],
 "metadata": {
  "kernelspec": {
   "display_name": "Python 3",
   "language": "python",
   "name": "python3"
  },
  "language_info": {
   "codemirror_mode": {
    "name": "ipython",
    "version": 3
   },
   "file_extension": ".py",
   "mimetype": "text/x-python",
   "name": "python",
   "nbconvert_exporter": "python",
   "pygments_lexer": "ipython3",
   "version": "3.6.8"
  }
 },
 "nbformat": 4,
 "nbformat_minor": 2
}
