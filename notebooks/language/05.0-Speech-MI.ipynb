{
 "cells": [
  {
   "cell_type": "markdown",
   "metadata": {},
   "source": [
    "# Calculate MI for each unit/language\n",
    "1. load datasets\n",
    "2. calculate MI"
   ]
  },
  {
   "cell_type": "code",
   "execution_count": null,
   "metadata": {
    "ExecuteTime": {
     "end_time": "2019-03-04T05:06:33.978861Z",
     "start_time": "2019-03-04T05:06:32.135310Z"
    }
   },
   "outputs": [],
   "source": [
    "import pandas as pd\n",
    "import numpy as np\n",
    "from parallelspaper.config.paths import DATA_DIR\n",
    "from parallelspaper import information_theory as it \n",
    "from tqdm.autonotebook import tqdm"
   ]
  },
  {
   "cell_type": "markdown",
   "metadata": {},
   "source": [
    "### load datasets"
   ]
  },
  {
   "cell_type": "code",
   "execution_count": null,
   "metadata": {
    "ExecuteTime": {
     "end_time": "2019-03-04T05:06:38.872367Z",
     "start_time": "2019-03-04T05:06:33.985240Z"
    }
   },
   "outputs": [],
   "source": [
    "german_seqs = pd.read_pickle(DATA_DIR/'speech_seq_df/GECO_seq_df.pickle')\n",
    "italian_seqs = pd.read_pickle(DATA_DIR/'speech_seq_df/AsiCA_seq_df.pickle')\n",
    "english_seqs = pd.read_pickle(DATA_DIR/'speech_seq_df/BUCKEYE_seq_df.pickle')\n",
    "japanese_seqs = pd.read_pickle(DATA_DIR/'speech_seq_df/CSJ_seq_df.pickle')\n",
    "\n",
    "seq_df = pd.concat([german_seqs, italian_seqs, english_seqs, japanese_seqs])"
   ]
  },
  {
   "cell_type": "code",
   "execution_count": null,
   "metadata": {
    "ExecuteTime": {
     "end_time": "2019-03-04T05:06:38.901642Z",
     "start_time": "2019-03-04T05:06:38.876756Z"
    }
   },
   "outputs": [],
   "source": [
    "seq_df.columns"
   ]
  },
  {
   "cell_type": "code",
   "execution_count": null,
   "metadata": {
    "ExecuteTime": {
     "end_time": "2019-03-04T05:06:39.047595Z",
     "start_time": "2019-03-04T05:06:38.905263Z"
    }
   },
   "outputs": [],
   "source": [
    "seq_df[['language', 'levels']].T"
   ]
  },
  {
   "cell_type": "markdown",
   "metadata": {},
   "source": [
    "### Calculate MI\n",
    "- for each unit calculate MI within speaker, and within speaker when shuffling words when available"
   ]
  },
  {
   "cell_type": "code",
   "execution_count": null,
   "metadata": {
    "ExecuteTime": {
     "end_time": "2019-03-04T05:06:39.102722Z",
     "start_time": "2019-03-04T05:06:39.050462Z"
    }
   },
   "outputs": [],
   "source": [
    "distances = np.arange(1,101)\n",
    "verbosity = 0; n_jobs = 20"
   ]
  },
  {
   "cell_type": "code",
   "execution_count": null,
   "metadata": {
    "ExecuteTime": {
     "end_time": "2019-03-04T05:06:39.202949Z",
     "start_time": "2019-03-04T05:06:39.106537Z"
    }
   },
   "outputs": [],
   "source": [
    "def flatlist(list_of_lists):\n",
    "    return [val for sublist in list_of_lists for val in sublist]"
   ]
  },
  {
   "cell_type": "code",
   "execution_count": null,
   "metadata": {
    "ExecuteTime": {
     "end_time": "2019-03-04T05:28:43.714601Z",
     "start_time": "2019-03-04T05:06:39.207011Z"
    }
   },
   "outputs": [],
   "source": [
    "MI_DF = pd.DataFrame(columns=['language', 'unit', 'analysis', 'MI', 'MI_shuff', 'distances', 'MI_var', 'MI_shuff_var', 'n_elements'])\n",
    "\n",
    "for idx, (language, levels, data) in tqdm(seq_df.iterrows(), total = len(seq_df)):\n",
    "    levels = levels.split('/')\n",
    "    \n",
    "    # buckeye has an additional 'utterance' level to ignore\n",
    "    if language == 'english':\n",
    "        data = [flatlist(speaker) for speaker in data]\n",
    "        if len(levels) == 4:\n",
    "            levels = np.array(levels)[[0,2,3]].tolist()\n",
    "        elif len(levels) == 3:\n",
    "            levels = np.array(levels)[[0,2]].tolist()\n",
    "            \n",
    "    if len(levels) == 2:\n",
    "        # speakers is the highest level or organization so just compute MI\n",
    "        units = data\n",
    "        (MI, var_MI), (MI_shuff, MI_shuff_var) = it.sequential_mutual_information(units, distances, n_jobs = n_jobs, verbosity = verbosity)\n",
    "        MI_DF.loc[len(MI_DF)] = [language, levels[-1], 'session', MI, MI_shuff, distances, var_MI, MI_shuff_var, len(flatlist(units))]\n",
    "\n",
    "    else:   \n",
    "        # concatenate across words, compute MI\n",
    "        units = np.array([flatlist(i) for i in data])\n",
    "        (MI, var_MI), (MI_shuff, MI_shuff_var) = it.sequential_mutual_information(units, distances, n_jobs = n_jobs, verbosity = verbosity)\n",
    "        MI_DF.loc[len(MI_DF)] = [language, levels[-1], 'session', MI, MI_shuff, distances, var_MI, MI_shuff_var, len(flatlist(units))]\n",
    "\n",
    "        # permute between words order, compute MI\n",
    "        units = np.array([flatlist(np.random.permutation(i)) for i in data])\n",
    "        (MI, var_MI), (MI_shuff, MI_shuff_var) = it.sequential_mutual_information(units, distances, n_jobs = n_jobs, verbosity = verbosity)\n",
    "        MI_DF.loc[len(MI_DF)] = [language, levels[-1], 'shuffled_between_word', MI, MI_shuff, distances, var_MI, MI_shuff_var, len(flatlist(units))]\n",
    "\n",
    "        # permute within word order, compute MI\n",
    "        units = np.array([flatlist([np.random.permutation(word) for word in speaker]) for speaker in data])\n",
    "        (MI, var_MI), (MI_shuff, MI_shuff_var) = it.sequential_mutual_information(units, distances, n_jobs = n_jobs, verbosity = verbosity)\n",
    "        MI_DF.loc[len(MI_DF)] = [language, levels[-1], 'shuffled_within_word', MI, MI_shuff, distances, var_MI, MI_shuff_var, len(flatlist(units))]\n",
    "    \n",
    "    # save dataframe\n",
    "    MI_DF.to_pickle(DATA_DIR / 'MI_DF/language/language_MI_DF.pickle')"
   ]
  },
  {
   "cell_type": "code",
   "execution_count": null,
   "metadata": {},
   "outputs": [],
   "source": []
  }
 ],
 "metadata": {
  "kernelspec": {
   "display_name": "Python 3",
   "language": "python",
   "name": "python3"
  },
  "language_info": {
   "codemirror_mode": {
    "name": "ipython",
    "version": 3
   },
   "file_extension": ".py",
   "mimetype": "text/x-python",
   "name": "python",
   "nbconvert_exporter": "python",
   "pygments_lexer": "ipython3",
   "version": "3.6.8"
  }
 },
 "nbformat": 4,
 "nbformat_minor": 2
}
