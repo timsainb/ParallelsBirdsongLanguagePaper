{
 "cells": [
  {
   "cell_type": "markdown",
   "metadata": {},
   "source": [
    "# View dataset statistics for each language\n",
    "1. load datasets\n",
    "2. plot/view statistics"
   ]
  },
  {
   "cell_type": "code",
   "execution_count": null,
   "metadata": {
    "ExecuteTime": {
     "end_time": "2019-03-03T19:57:48.047230Z",
     "start_time": "2019-03-03T19:57:48.032004Z"
    }
   },
   "outputs": [],
   "source": [
    "import pandas as pd\n",
    "import numpy as np\n",
    "from parallelspaper.config.paths import DATA_DIR, FIGURE_DIR\n",
    "from parallelspaper.speech_datasets import LCOL_DICT\n",
    "from parallelspaper.utils import save_fig"
   ]
  },
  {
   "cell_type": "code",
   "execution_count": null,
   "metadata": {
    "ExecuteTime": {
     "end_time": "2019-03-03T20:01:09.807409Z",
     "start_time": "2019-03-03T20:01:09.550258Z"
    }
   },
   "outputs": [],
   "source": [
    "german_stats = pd.read_pickle(DATA_DIR/'stats_df/GECO_stats_df.pickle')\n",
    "german_stats['Language'] = 'German'\n",
    "\n",
    "italian_stats = pd.read_pickle(DATA_DIR/'stats_df/AsiCA_stats_df.pickle')\n",
    "italian_stats['Language'] = 'Italian'\n",
    "\n",
    "english_stats = pd.read_pickle(DATA_DIR/'stats_df/BUCKEYE_stats_df.pickle')\n",
    "english_stats['Language'] = 'English'\n",
    "\n",
    "japanese_stats = pd.read_pickle(DATA_DIR/'stats_df/CSJ_stats_df.pickle')\n",
    "japanese_stats['Language'] = 'Japanese'\n",
    "\n",
    "stats_df = pd.concat([german_stats, italian_stats, english_stats, japanese_stats])"
   ]
  },
  {
   "cell_type": "code",
   "execution_count": null,
   "metadata": {
    "ExecuteTime": {
     "end_time": "2019-03-03T20:01:09.857760Z",
     "start_time": "2019-03-03T20:01:09.809884Z"
    }
   },
   "outputs": [],
   "source": [
    "stats_df"
   ]
  },
  {
   "cell_type": "code",
   "execution_count": null,
   "metadata": {
    "ExecuteTime": {
     "end_time": "2019-03-03T20:02:21.998892Z",
     "start_time": "2019-03-03T20:02:21.823401Z"
    }
   },
   "outputs": [],
   "source": [
    "for idx, row in stats_df.iterrows():\n",
    "    print(row.Language)\n",
    "    print(np.sum(np.array(row.word_length_phones) == 1)/len(row.word_length_phones))"
   ]
  },
  {
   "cell_type": "code",
   "execution_count": null,
   "metadata": {},
   "outputs": [],
   "source": [
    "from matplotlib import gridspec\n",
    "import matplotlib.pyplot as plt\n",
    "%matplotlib inline\n",
    "import seaborn as sns"
   ]
  },
  {
   "cell_type": "code",
   "execution_count": null,
   "metadata": {},
   "outputs": [],
   "source": [
    "LCOL_DICT"
   ]
  },
  {
   "cell_type": "code",
   "execution_count": null,
   "metadata": {},
   "outputs": [],
   "source": [
    "letters = ['a', 'b', 'c', 'd', 'e', 'f', 'g', 'h', 'i', 'j', 'k', 'l', 'm', 'n', 'o', 'p', 'q', 'r', 's', 't', 'u', 'v', 'w', 'x', 'y', 'z']"
   ]
  },
  {
   "cell_type": "code",
   "execution_count": null,
   "metadata": {},
   "outputs": [],
   "source": [
    "bw = 0.25\n",
    "yoff = -0.20\n",
    "\n",
    "fig, axs = plt.subplots(ncols=2, figsize=(10, 4))\n",
    "kwk = {\"lw\": 6, \"bw\": bw}\n",
    "for ix, (idx, row) in enumerate(stats_df[stats_df.Language.isin(['English', 'Japanese'])].sort_values(by=\"Language\").iterrows()):\n",
    "    ax = axs.flatten()[ix]\n",
    "    ax.annotate(letters[ix], xy=(-0.05, 1.05), xycoords=\"axes fraction\", size=20, fontweight='bold', fontfamily='Arial')\n",
    "    ax.hist(\n",
    "        np.array(row.utterance_length_phones),\n",
    "        density=True,\n",
    "        bins=np.arange(0, 100, 2),\n",
    "        color=LCOL_DICT[row.Language.lower()],\n",
    "    )\n",
    "    ax.set_xlim([0, 100])\n",
    "    #ax.set_yscale(\"log\")\n",
    "    ax.set_xlabel(\"Utterance length (phones)\", fontsize=18)\n",
    "\n",
    "    ax.tick_params(axis=\"both\", labelsize=14, pad=15)\n",
    "    for axis in [\"top\", \"bottom\", \"left\", \"right\"]:\n",
    "        ax.spines[axis].set_linewidth(3)\n",
    "        ax.spines[axis].set_color(\"k\")\n",
    "    ax.grid(False)\n",
    "    ax.tick_params(which=\"both\", direction=\"in\", labelsize=14, pad=10)\n",
    "    ax.tick_params(which=\"major\", length=10, width=3)\n",
    "    ax.tick_params(which=\"minor\", length=5, width=2)\n",
    "\n",
    "\n",
    "axs[0].set_ylabel(\"Prob. Density\", labelpad=5, fontsize=18)\n",
    "axs[0].yaxis.set_label_coords(yoff, 0.5)\n",
    "\n",
    "save_fig(FIGURE_DIR / \"utt_len_phones\")"
   ]
  },
  {
   "cell_type": "code",
   "execution_count": null,
   "metadata": {},
   "outputs": [],
   "source": []
  },
  {
   "cell_type": "code",
   "execution_count": null,
   "metadata": {},
   "outputs": [],
   "source": []
  }
 ],
 "metadata": {
  "kernelspec": {
   "display_name": "Python 3",
   "language": "python",
   "name": "python3"
  },
  "language_info": {
   "codemirror_mode": {
    "name": "ipython",
    "version": 3
   },
   "file_extension": ".py",
   "mimetype": "text/x-python",
   "name": "python",
   "nbconvert_exporter": "python",
   "pygments_lexer": "ipython3",
   "version": "3.6.8"
  }
 },
 "nbformat": 4,
 "nbformat_minor": 2
}
