{
 "cells": [
  {
   "cell_type": "markdown",
   "metadata": {},
   "source": [
    "# Calculate MI for each individual songbird\n",
    "1. load datasets\n",
    "2. calculate MI"
   ]
  },
  {
   "cell_type": "code",
   "execution_count": null,
   "metadata": {
    "ExecuteTime": {
     "end_time": "2019-03-23T05:58:46.511764Z",
     "start_time": "2019-03-23T05:58:43.953534Z"
    }
   },
   "outputs": [],
   "source": [
    "import pandas as pd\n",
    "import numpy as np\n",
    "from parallelspaper.config.paths import DATA_DIR, FIGURE_DIR\n",
    "from parallelspaper.birdsong_datasets import MI_seqs, compress_seq, BCOL_DICT\n",
    "from parallelspaper import information_theory as it \n",
    "from tqdm.autonotebook import tqdm\n",
    "from parallelspaper import model_fitting as mf\n",
    "import scipy.stats\n",
    "import seaborn as sns\n",
    "from parallelspaper.utils import save_fig"
   ]
  },
  {
   "cell_type": "code",
   "execution_count": null,
   "metadata": {
    "ExecuteTime": {
     "end_time": "2019-03-23T05:58:46.519519Z",
     "start_time": "2019-03-23T05:58:46.514102Z"
    }
   },
   "outputs": [],
   "source": [
    "import matplotlib.pyplot as plt\n",
    "%matplotlib inline"
   ]
  },
  {
   "cell_type": "markdown",
   "metadata": {},
   "source": [
    "### Load data"
   ]
  },
  {
   "cell_type": "code",
   "execution_count": null,
   "metadata": {
    "ExecuteTime": {
     "end_time": "2019-03-23T05:58:47.320858Z",
     "start_time": "2019-03-23T05:58:46.521609Z"
    }
   },
   "outputs": [],
   "source": [
    "MI_DF = pd.read_pickle((DATA_DIR / 'MI_DF/birdsong/birdsong_MI_DF_individual.pickle'))"
   ]
  },
  {
   "cell_type": "markdown",
   "metadata": {},
   "source": [
    "### Correlation between dataset size and $\\Delta$AIC"
   ]
  },
  {
   "cell_type": "code",
   "execution_count": null,
   "metadata": {
    "ExecuteTime": {
     "end_time": "2019-03-23T05:58:47.332104Z",
     "start_time": "2019-03-23T05:58:47.324035Z"
    }
   },
   "outputs": [],
   "source": [
    "np.unique(MI_DF.type)"
   ]
  },
  {
   "cell_type": "code",
   "execution_count": null,
   "metadata": {
    "ExecuteTime": {
     "end_time": "2019-03-23T05:58:47.432334Z",
     "start_time": "2019-03-23T05:58:47.334156Z"
    }
   },
   "outputs": [],
   "source": [
    "np.unique(MI_DF[MI_DF.type != 'compress'].type)"
   ]
  },
  {
   "cell_type": "code",
   "execution_count": null,
   "metadata": {
    "ExecuteTime": {
     "end_time": "2019-04-12T05:02:53.858885Z",
     "start_time": "2019-04-12T05:02:53.838323Z"
    }
   },
   "outputs": [],
   "source": [
    "letters = ['a', 'b', 'c', 'd', 'e', 'f', 'g', 'h', 'i', 'j', 'k', 'l', 'm', 'n', 'o', 'p', 'q', 'r', 's', 't', 'u', 'v', 'w', 'x', 'y', 'z']"
   ]
  },
  {
   "cell_type": "code",
   "execution_count": null,
   "metadata": {
    "ExecuteTime": {
     "end_time": "2019-04-12T05:06:28.041127Z",
     "start_time": "2019-04-12T05:05:41.625897Z"
    }
   },
   "outputs": [],
   "source": [
    "fontsize=18\n",
    "fig, axs = plt.subplots(nrows=2,ncols=2,figsize=(10, 10))\n",
    "\n",
    "for sti, stype in enumerate(np.unique(MI_DF[MI_DF.type != 'compress'].type)):\n",
    "    ax = axs.flatten()[sti]\n",
    "    ax.annotate(letters[sti], xy=(-0.05, 1.1), xycoords=\"axes fraction\", size=20, fontweight='bold', fontfamily='Arial')\n",
    "    MI_DF_withinbout = MI_DF[MI_DF.type==stype].sort_values(by='n_elements',ascending=False)\n",
    "    MI_DF_withinbout['delta_AIC'] = MI_DF_withinbout['AICc_exp'] - MI_DF_withinbout['AICc_concat']\n",
    "    MI_DF_withinbout['n_elements'] = MI_DF_withinbout.n_elements.astype('float32')\n",
    "    MI_DF_withinbout['log_n_elements'] = np.log2(MI_DF_withinbout['n_elements'].values)\n",
    "    print(stype, scipy.stats.pearsonr(MI_DF_withinbout.log_n_elements.values, MI_DF_withinbout.delta_AIC.values), len(MI_DF_withinbout))\n",
    "    \n",
    "\n",
    "    MI_DF_withinbout['delta_AIC'] = MI_DF_withinbout['AICc_exp'] - MI_DF_withinbout['AICc_concat']\n",
    "    MI_DF_withinbout['n_elements'] = MI_DF_withinbout.n_elements.astype('float32')\n",
    "    MI_DF_withinbout['log_n_elements'] = np.log2(MI_DF_withinbout['n_elements'].values)\n",
    "\n",
    "    for species in np.unique(MI_DF_withinbout.species.values):\n",
    "        MI_DF_species = MI_DF_withinbout[MI_DF_withinbout.species.values==species]\n",
    "        ax.scatter(MI_DF_species.log_n_elements, MI_DF_species.delta_AIC, color = BCOL_DICT[species])\n",
    "\n",
    "    sns.regplot(x='log_n_elements', y='delta_AIC', ax = ax, data=MI_DF_withinbout, color='k', scatter=False, ci=95)#='species')\n",
    "    ax.set_xlabel('Number of syllables in dataset')\n",
    "    ax.axhline(0, color='k', ls='dashed')\n",
    "    ax.set_xlabel('Dataset length (syllables)', labelpad=10, fontsize=fontsize)\n",
    "    ax.set_ylim([-50,200])\n",
    "    if sti in [0,2]:\n",
    "        ax.set_ylabel('$AICc_{comp.}-AICc_{exp.}$', labelpad=5, fontsize=fontsize)\n",
    "    else:\n",
    "        ax.set_ylabel('')\n",
    "        ax.set_yticks([])\n",
    "    for axis in ['top','bottom','left','right']:\n",
    "        ax.spines[axis].set_linewidth(3)\n",
    "        ax.spines[axis].set_color('k')\n",
    "    ax.tick_params(which='both', direction='in')\n",
    "\n",
    "    ax.set_xticklabels(np.round(np.exp2(ax.get_xticks())).astype('int'), fontsize = 12)\n",
    "    ax.yaxis.set_tick_params(labelsize=12)\n",
    "    #ax.set_yscale( \"symlog\" , basey=10)\n",
    "    stype_formatted = {'day':'Day', 'shuffled_within': 'Shuffled within song', 'shuffled_between':'Shuffled between songs', 'song': 'Within song'}[stype]\n",
    "    ax.set_title(stype_formatted, fontsize=16)\n",
    "plt.tight_layout()\n",
    "\n",
    "save_fig(FIGURE_DIR/'song_aic_dset_size')"
   ]
  },
  {
   "cell_type": "code",
   "execution_count": null,
   "metadata": {
    "ExecuteTime": {
     "end_time": "2019-03-23T05:58:54.684872Z",
     "start_time": "2019-03-23T05:58:54.679530Z"
    }
   },
   "outputs": [],
   "source": [
    "len(MI_DF_withinbout)"
   ]
  },
  {
   "cell_type": "code",
   "execution_count": null,
   "metadata": {},
   "outputs": [],
   "source": []
  },
  {
   "cell_type": "code",
   "execution_count": null,
   "metadata": {},
   "outputs": [],
   "source": []
  }
 ],
 "metadata": {
  "kernelspec": {
   "display_name": "Python 3",
   "language": "python",
   "name": "python3"
  },
  "language_info": {
   "codemirror_mode": {
    "name": "ipython",
    "version": 3
   },
   "file_extension": ".py",
   "mimetype": "text/x-python",
   "name": "python",
   "nbconvert_exporter": "python",
   "pygments_lexer": "ipython3",
   "version": "3.6.8"
  }
 },
 "nbformat": 4,
 "nbformat_minor": 2
}
