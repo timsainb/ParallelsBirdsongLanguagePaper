{
 "cells": [
  {
   "cell_type": "markdown",
   "metadata": {},
   "source": [
    "# plot MI decay for birdsong"
   ]
  },
  {
   "cell_type": "code",
   "execution_count": null,
   "metadata": {
    "ExecuteTime": {
     "end_time": "2019-04-04T19:33:52.345800Z",
     "start_time": "2019-04-04T19:33:49.321516Z"
    }
   },
   "outputs": [],
   "source": [
    "import pandas as pd\n",
    "from parallelspaper.config.paths import DATA_DIR, FIGURE_DIR\n",
    "from parallelspaper.birdsong_datasets import BCOL_DICT\n",
    "import numpy as np\n",
    "from parallelspaper import model_fitting as mf\n",
    "from parallelspaper.utils import save_fig\n"
   ]
  },
  {
   "cell_type": "code",
   "execution_count": null,
   "metadata": {
    "ExecuteTime": {
     "end_time": "2019-04-04T19:33:52.354149Z",
     "start_time": "2019-04-04T19:33:52.347668Z"
    }
   },
   "outputs": [],
   "source": [
    "from matplotlib import gridspec\n",
    "import matplotlib.pyplot as plt\n",
    "%matplotlib inline"
   ]
  },
  {
   "cell_type": "markdown",
   "metadata": {},
   "source": [
    "### load data"
   ]
  },
  {
   "cell_type": "code",
   "execution_count": null,
   "metadata": {
    "ExecuteTime": {
     "end_time": "2019-04-04T19:33:52.567987Z",
     "start_time": "2019-04-04T19:33:52.356606Z"
    }
   },
   "outputs": [],
   "source": [
    "MI_DF = pd.read_pickle((DATA_DIR / 'MI_DF/birdsong/birdsong_MI_DF_fitted.pickle'))"
   ]
  },
  {
   "cell_type": "code",
   "execution_count": null,
   "metadata": {
    "ExecuteTime": {
     "end_time": "2019-04-04T19:33:52.575675Z",
     "start_time": "2019-04-04T19:33:52.569818Z"
    }
   },
   "outputs": [],
   "source": [
    "np.unique(MI_DF.type)"
   ]
  },
  {
   "cell_type": "code",
   "execution_count": null,
   "metadata": {
    "ExecuteTime": {
     "end_time": "2019-04-04T19:33:52.745158Z",
     "start_time": "2019-04-04T19:33:52.577376Z"
    }
   },
   "outputs": [],
   "source": [
    "MI_DF[(MI_DF.type == 'song')]"
   ]
  },
  {
   "cell_type": "code",
   "execution_count": null,
   "metadata": {
    "ExecuteTime": {
     "end_time": "2019-04-04T22:51:42.940514Z",
     "start_time": "2019-04-04T22:51:42.936101Z"
    }
   },
   "outputs": [],
   "source": [
    "from tqdm.autonotebook import tqdm"
   ]
  },
  {
   "cell_type": "code",
   "execution_count": null,
   "metadata": {
    "ExecuteTime": {
     "end_time": "2019-04-04T22:55:36.615067Z",
     "start_time": "2019-04-04T22:55:36.520882Z"
    }
   },
   "outputs": [],
   "source": [
    "for idx, row in tqdm(MI_DF.iterrows(), total=len(MI_DF)):\n",
    "    AICcs = row[['AICc_exp', 'AICc_concat', 'AICc_power']]\n",
    "    delta_AICcs = AICcs - np.min(AICcs.T.values)\n",
    "    delta_AICcs = delta_AICcs.T\n",
    "    relative_likelihoods = mf.relative_likelihood(np.array(list(delta_AICcs.values)))\n",
    "    prob_models = mf.Prob_model_Given_data_and_models(relative_likelihoods)\n",
    "    print(row.species, row.type, prob_models.round(4))"
   ]
  },
  {
   "cell_type": "code",
   "execution_count": null,
   "metadata": {
    "ExecuteTime": {
     "end_time": "2019-04-04T22:55:20.011086Z",
     "start_time": "2019-04-04T22:55:20.006214Z"
    }
   },
   "outputs": [],
   "source": []
  },
  {
   "cell_type": "code",
   "execution_count": null,
   "metadata": {
    "ExecuteTime": {
     "end_time": "2019-04-04T19:33:52.805563Z",
     "start_time": "2019-04-04T19:33:52.746833Z"
    }
   },
   "outputs": [],
   "source": [
    "subset_MI_DF = MI_DF[(MI_DF.type == 'shuffled_within') | (MI_DF.type == 'shuffled_between')]"
   ]
  },
  {
   "cell_type": "code",
   "execution_count": null,
   "metadata": {
    "ExecuteTime": {
     "end_time": "2019-04-04T21:56:36.266644Z",
     "start_time": "2019-04-04T21:56:36.261106Z"
    }
   },
   "outputs": [],
   "source": [
    "letters = ['a', 'b', 'c', 'd', 'e', 'f', 'g', 'h', 'i', 'j', 'k', 'l', 'm', 'n', 'o', 'p', 'q', 'r', 's', 't', 'u', 'v', 'w', 'x', 'y', 'z']"
   ]
  },
  {
   "cell_type": "code",
   "execution_count": null,
   "metadata": {
    "ExecuteTime": {
     "end_time": "2019-04-12T04:09:08.237532Z",
     "start_time": "2019-04-12T04:08:02.139249Z"
    }
   },
   "outputs": [],
   "source": [
    "fontsize = 18\n",
    "yoff=-.20\n",
    "ncol = 4\n",
    "nrow = len(subset_MI_DF)//ncol\n",
    "zoom = 5\n",
    "fig, axs = plt.subplots(ncols=ncol, nrows=nrow, figsize=zoom*np.array([ncol,nrow]))\n",
    "for axi, (idx, row) in enumerate(subset_MI_DF.sort_values(by=['type', 'species']).iterrows()):\n",
    "    ax = axs.flatten()[axi]\n",
    "    # lettering\n",
    "    ax.annotate(letters[axi], xy=(-0.05, 1.1), xycoords=\"axes fraction\", size=20, fontweight='bold', fontfamily='Arial')\n",
    "    color = BCOL_DICT[row.species]\n",
    "    sig = np.array(row.MI-row.MI_shuff)\n",
    "    distances = row.distances\n",
    "    sig = sig\n",
    "    distances = distances\n",
    "    # get signal limits\n",
    "    sig_lims = np.log([np.min(sig[sig>0]), np.nanmax(sig)])\n",
    "    sig_lims = [sig_lims[0] - (sig_lims[1]-sig_lims[0])/10,\n",
    "                    sig_lims[1] + (sig_lims[1]-sig_lims[0])/10]\n",
    "            \n",
    "    if axi%ncol == 0:\n",
    "            ax.set_ylabel('Mutual Information (bits)', labelpad=5, fontsize=fontsize)\n",
    "            ax.yaxis.set_label_coords(yoff,0.5)\n",
    "    if axi >= (nrow-1)*ncol:      \n",
    "        ax.set_xlabel('Distance (syllables)', labelpad=5, fontsize=fontsize)\n",
    "        ax.set_xticks([1,10,100])\n",
    "        ax.set_xticklabels(['1','10','100'])\n",
    "    \n",
    "    # plot real data\n",
    "    ax.scatter(distances, sig, alpha = 1, s=40, color=color)\n",
    "    \n",
    "    best_fit_model = np.array(['exp','pow','pow_exp'])[np.argmin(row[['AICc_exp', 'AICc_power', 'AICc_concat']].values)]\n",
    "    \n",
    "    # set title\n",
    "    analysis = 'within bout' if row.type == 'shuffled_within' else 'between bout'\n",
    "    model_type = {'pow_exp': 'comp.', 'exp': 'exp.', 'pow':'power law'}[best_fit_model]\n",
    "    spc = {'Starling':'starling', 'CAVI': 'vireo', 'CATH':'thrasher', 'BF':'finch'}\n",
    "    ax.set_title(' | '.join([spc[row.species], analysis, model_type]), fontsize=16)\n",
    "    \n",
    "    # plot model\n",
    "    distances_model = np.logspace(0,np.log10(distances[-1]), base=10, num=1000)\n",
    "    \n",
    "    if best_fit_model == 'pow_exp':\n",
    "        ax.axvline(distances_model[int(row.min_peak)], lw=3,alpha=0.5, color=color, ls='dashed')\n",
    "        \n",
    "    if best_fit_model == 'pow_exp':\n",
    "        # model data\n",
    "        #row.concat_results.params.intercept = 0\n",
    "        y_model = mf.get_y(mf.pow_exp_decay, row.concat_results, distances_model)\n",
    "        y_pow = mf.get_y(mf.powerlaw_decay, row.concat_results, distances_model)\n",
    "        y_exp = mf.get_y(mf.exp_decay, row.concat_results, distances_model)\n",
    "\n",
    "        ax.plot(distances_model, y_pow, ls='dotted', color= 'k', lw=5, alpha=0.5)\n",
    "        ax.plot(distances_model, y_exp-row.concat_results.params['intercept'].value, ls='dashed', color= 'k', lw=5, alpha=0.5)\n",
    "\n",
    "        # plot modelled data\n",
    "        ax.plot(distances_model, y_model, alpha = 0.5, lw=10, color=color)\n",
    "    \n",
    "    elif best_fit_model == 'pow':\n",
    "        y_model = mf.get_y(mf.powerlaw_decay, row.pow_results, distances_model)\n",
    "        # plot modelled data\n",
    "        ax.plot(distances_model, y_model, alpha = 0.5, lw=10, color=color)\n",
    "        \n",
    "        \n",
    "    elif best_fit_model == 'exp':\n",
    "        y_model = mf.get_y(mf.exp_decay, row.exp_results, distances_model)\n",
    "        # plot modelled data\n",
    "        ax.plot(distances_model, y_model, alpha = 0.5, lw=10, color=color)\n",
    "        \n",
    "    # axis params\n",
    "    ax.set_xlim([distances[0], distances[-1]])\n",
    "    #sig_lims = [np.log(10e-4), 1]\n",
    "    sig_lims[1] = 1\n",
    "    ax.set_ylim(np.exp(sig_lims))\n",
    "    ax.tick_params(which='both', direction='in', labelsize=14, pad=10)\n",
    "    ax.tick_params(which='major', length=10, width =3)\n",
    "    ax.tick_params(which='minor', length=5, width =2)\n",
    "    ax.set_xscale( \"log\" , basex=10)\n",
    "    ax.set_yscale( \"log\" , basey=10)\n",
    "    ax.set_xticks([])\n",
    "    for axis in ['top','bottom','left','right']:\n",
    "        ax.spines[axis].set_linewidth(3)\n",
    "        ax.spines[axis].set_color('k')\n",
    "    \n",
    "    ax.set_xlim([1,100])\n",
    "    ax.set_xticks([1,10,100])\n",
    "    ax.set_xticklabels(['1','10','100'])\n",
    "    \n",
    "#plt.tight_layout()\n",
    "plt.subplots_adjust(hspace = 0.30)\n",
    "\n",
    "save_fig(FIGURE_DIR/'song_shuffle_bout')"
   ]
  },
  {
   "cell_type": "code",
   "execution_count": null,
   "metadata": {},
   "outputs": [],
   "source": []
  }
 ],
 "metadata": {
  "kernelspec": {
   "display_name": "Python 3",
   "language": "python",
   "name": "python3"
  },
  "language_info": {
   "codemirror_mode": {
    "name": "ipython",
    "version": 3
   },
   "file_extension": ".py",
   "mimetype": "text/x-python",
   "name": "python",
   "nbconvert_exporter": "python",
   "pygments_lexer": "ipython3",
   "version": "3.6.8"
  }
 },
 "nbformat": 4,
 "nbformat_minor": 2
}
