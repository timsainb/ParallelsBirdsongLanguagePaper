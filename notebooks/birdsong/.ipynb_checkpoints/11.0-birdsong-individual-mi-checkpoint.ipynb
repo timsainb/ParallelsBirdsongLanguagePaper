{
 "cells": [
  {
   "cell_type": "markdown",
   "metadata": {},
   "source": [
    "# Calculate MI for each individual songbird\n",
    "1. load datasets\n",
    "2. calculate MI"
   ]
  },
  {
   "cell_type": "code",
   "execution_count": null,
   "metadata": {
    "ExecuteTime": {
     "end_time": "2019-03-23T01:21:57.018842Z",
     "start_time": "2019-03-23T01:21:55.090468Z"
    }
   },
   "outputs": [],
   "source": [
    "import pandas as pd\n",
    "import numpy as np\n",
    "from parallelspaper.config.paths import DATA_DIR\n",
    "from parallelspaper.birdsong_datasets import MI_seqs, compress_seq\n",
    "from parallelspaper import information_theory as it \n",
    "from tqdm.autonotebook import tqdm\n",
    "from parallelspaper import model_fitting as mf"
   ]
  },
  {
   "cell_type": "code",
   "execution_count": null,
   "metadata": {
    "ExecuteTime": {
     "end_time": "2019-03-23T01:21:57.026178Z",
     "start_time": "2019-03-23T01:21:57.020898Z"
    }
   },
   "outputs": [],
   "source": [
    "import matplotlib.pyplot as plt\n",
    "%matplotlib inline"
   ]
  },
  {
   "cell_type": "markdown",
   "metadata": {},
   "source": [
    "### Load data"
   ]
  },
  {
   "cell_type": "code",
   "execution_count": null,
   "metadata": {
    "ExecuteTime": {
     "end_time": "2019-03-23T01:21:57.185475Z",
     "start_time": "2019-03-23T01:21:57.028249Z"
    }
   },
   "outputs": [],
   "source": [
    "starling_seq_df = pd.read_pickle(DATA_DIR / 'song_seq_df/starling.pickle')\n",
    "CAVI_CATH_seq_df = pd.read_pickle(DATA_DIR / 'song_seq_df/CAVI_CATH.pickle')\n",
    "BF_seq_df = pd.read_pickle(DATA_DIR / 'song_seq_df/BF.pickle')"
   ]
  },
  {
   "cell_type": "code",
   "execution_count": null,
   "metadata": {
    "ExecuteTime": {
     "end_time": "2019-03-23T01:21:57.221566Z",
     "start_time": "2019-03-23T01:21:57.187702Z"
    }
   },
   "outputs": [],
   "source": [
    "seq_dfs = pd.concat([starling_seq_df, CAVI_CATH_seq_df, BF_seq_df])"
   ]
  },
  {
   "cell_type": "code",
   "execution_count": null,
   "metadata": {
    "ExecuteTime": {
     "end_time": "2019-03-23T01:21:57.337609Z",
     "start_time": "2019-03-23T01:21:57.223998Z"
    }
   },
   "outputs": [],
   "source": [
    "# sequence lengths\n",
    "seq_dfs['sequence_lens'] = [len(i) for i in seq_dfs.syllables]\n",
    "# recording number as integer\n",
    "seq_dfs['rec_num'] = seq_dfs.rec_num.values.astype('int32')\n",
    "# sort sequences\n",
    "seq_dfs = seq_dfs.sort_values(by=['species', 'bird', 'rec_num'])\n",
    "# get rid of unID'd birds (CAVI, CATH)\n",
    "seq_dfs = seq_dfs[seq_dfs.bird != '?']"
   ]
  },
  {
   "cell_type": "code",
   "execution_count": null,
   "metadata": {
    "ExecuteTime": {
     "end_time": "2019-03-23T01:21:57.438731Z",
     "start_time": "2019-03-23T01:21:57.339790Z"
    }
   },
   "outputs": [],
   "source": [
    "len(seq_dfs)"
   ]
  },
  {
   "cell_type": "code",
   "execution_count": null,
   "metadata": {
    "ExecuteTime": {
     "end_time": "2019-03-23T01:21:57.553814Z",
     "start_time": "2019-03-23T01:21:57.441609Z"
    }
   },
   "outputs": [],
   "source": [
    "seq_dfs[:3]"
   ]
  },
  {
   "cell_type": "markdown",
   "metadata": {},
   "source": [
    "### Calculate MIs within bird"
   ]
  },
  {
   "cell_type": "code",
   "execution_count": null,
   "metadata": {
    "ExecuteTime": {
     "end_time": "2019-03-23T01:38:10.695332Z",
     "start_time": "2019-03-23T01:21:57.556738Z"
    },
    "scrolled": true
   },
   "outputs": [],
   "source": [
    "verbose=False\n",
    "MI_DF = pd.DataFrame(columns=['indv', 'species', 'type', 'rep', 'MI', 'MI_shuff', 'distances',\n",
    "                              'MI_var', 'MI_shuff_var', 'n_elements',\n",
    "                              'exp_results', 'pow_results', 'concat_results',\n",
    "                              'R2_exp', 'R2_concat', 'R2_power', 'AICc_exp', 'AICc_concat',\n",
    "                              'AICc_power', 'bestfitmodel'])\n",
    "\n",
    "for species in np.unique(seq_dfs.species):\n",
    "    species_df = seq_dfs[seq_dfs.species ==\n",
    "                         species].sort_values(by=['bird', 'rec_num'])\n",
    "    print(species)\n",
    "    for bird in tqdm(np.unique(species_df.bird), leave=False):\n",
    "        \n",
    "        indv = bird\n",
    "        # analysis by day\n",
    "        distances = np.arange(1, 101)\n",
    "        bird_df = species_df[species_df.bird ==\n",
    "                             bird].sort_values(by=['rec_num'])\n",
    "\n",
    "        # split into days, etc\n",
    "        day_group = []\n",
    "        day_group_compressed = []\n",
    "        day_group_shuff_within = []\n",
    "        day_group_shuff_between = []\n",
    "        for day in np.unique(bird_df.day.values):\n",
    "                day_df = bird_df[bird_df.day == day]\n",
    "                day_group.append(np.concatenate(day_df.syllables.values))\n",
    "                day_group_compressed.append(np.concatenate(\n",
    "                    [compress_seq(sq) for sq in day_df.syllables.values]))\n",
    "                day_group_shuff_within.append(np.concatenate(\n",
    "                    [np.random.permutation(sq) for sq in day_df.syllables.values]))\n",
    "                day_group_shuff_between.append(np.concatenate(\n",
    "                    np.random.permutation(day_df.syllables.values)))\n",
    "        # skip if too little data\n",
    "        if len(np.concatenate(day_group)) < 150: continue\n",
    "\n",
    "        if verbose: print('within day')\n",
    "        MI_DF.loc[len(MI_DF)] = MI_seqs(day_group, distances, species,\n",
    "                                        type_=\"day\", n_jobs=20, verbosity=0, nrep=1, indv=indv, verbose=False)\n",
    "\n",
    "        if verbose: print('compress')\n",
    "        MI_DF.loc[len(MI_DF)] = MI_seqs(day_group_compressed, distances, species,\n",
    "                                        type_=\"compress\", n_jobs=20, verbosity=0, nrep=1, indv=indv, verbose=False)\n",
    "\n",
    "        if verbose: print('shuffled within')\n",
    "        MI_DF.loc[len(MI_DF)] = MI_seqs(day_group_shuff_within, distances, species,\n",
    "                                        type_=\"shuffled_within\", n_jobs=20, verbosity=0, nrep=1, indv=indv, verbose=False)\n",
    "\n",
    "        if verbose: print('shuffled between')\n",
    "        MI_DF.loc[len(MI_DF)] = MI_seqs(day_group_shuff_between, distances, species,\n",
    "                                        type_=\"shuffled_between\", n_jobs=20, verbosity=0, nrep=1, indv=indv, verbose=False)\n",
    "\n",
    "        # within song\n",
    "        if verbose: print('within song')\n",
    "        seqs = bird_df.syllables.values\n",
    "        # skip if not enough data\n",
    "        seq_lens = np.array([len(i) for i in seqs])\n",
    "        median_seq_len = int(np.median(seq_lens))\n",
    "        seqs = [seq for seq in seqs if len(seq) > median_seq_len]\n",
    "        if len(seqs) < 1:continue\n",
    "        if verbose: print(species, median_seq_len)\n",
    "        distances = np.unique(np.linspace(1, median_seq_len/2, num=10000).astype(int))\n",
    "        MI_DF.loc[len(MI_DF)] = MI_seqs(seqs, distances, species,\n",
    "                                        type_=\"song\", n_jobs=20, verbosity=0, nrep=1, indv=indv, verbose=False)"
   ]
  },
  {
   "cell_type": "code",
   "execution_count": null,
   "metadata": {
    "ExecuteTime": {
     "end_time": "2019-03-23T01:38:11.248456Z",
     "start_time": "2019-03-23T01:38:10.697678Z"
    }
   },
   "outputs": [],
   "source": [
    "MI_DF.to_pickle(DATA_DIR / 'MI_DF/birdsong/birdsong_MI_DF_individual.pickle')"
   ]
  },
  {
   "cell_type": "code",
   "execution_count": null,
   "metadata": {},
   "outputs": [],
   "source": []
  },
  {
   "cell_type": "code",
   "execution_count": null,
   "metadata": {},
   "outputs": [],
   "source": []
  }
 ],
 "metadata": {
  "kernelspec": {
   "display_name": "Python 3",
   "language": "python",
   "name": "python3"
  },
  "language_info": {
   "codemirror_mode": {
    "name": "ipython",
    "version": 3
   },
   "file_extension": ".py",
   "mimetype": "text/x-python",
   "name": "python",
   "nbconvert_exporter": "python",
   "pygments_lexer": "ipython3",
   "version": "3.6.8"
  }
 },
 "nbformat": 4,
 "nbformat_minor": 2
}
