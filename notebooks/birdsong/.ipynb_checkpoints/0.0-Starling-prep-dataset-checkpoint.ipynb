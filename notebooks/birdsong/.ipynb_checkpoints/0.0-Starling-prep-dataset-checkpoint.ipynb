{
 "cells": [
  {
   "cell_type": "code",
   "execution_count": null,
   "metadata": {
    "ExecuteTime": {
     "end_time": "2019-03-23T00:04:41.921617Z",
     "start_time": "2019-03-23T00:04:41.901935Z"
    }
   },
   "outputs": [],
   "source": [
    "%load_ext autoreload\n",
    "%autoreload 2"
   ]
  },
  {
   "cell_type": "markdown",
   "metadata": {},
   "source": [
    "# Prepare sequence dataframe of starlings\n",
    "**This script takes data from an already generated UMAP clustered dataset**\n",
    "1. Load umap pickled datasets\n",
    "2. reformat to a sequence dataset"
   ]
  },
  {
   "cell_type": "code",
   "execution_count": null,
   "metadata": {
    "ExecuteTime": {
     "end_time": "2019-03-23T00:04:44.020865Z",
     "start_time": "2019-03-23T00:04:41.939606Z"
    }
   },
   "outputs": [],
   "source": [
    "from glob import glob\n",
    "from parallelspaper.config.paths import DATA_DIR\n",
    "import pandas as pd\n",
    "from datetime import datetime\n",
    "import numpy as np\n",
    "from tqdm.autonotebook import tqdm\n",
    "from parallelspaper.birdsong_datasets import prep_STARLING"
   ]
  },
  {
   "cell_type": "markdown",
   "metadata": {},
   "source": [
    "### load/prep data"
   ]
  },
  {
   "cell_type": "code",
   "execution_count": null,
   "metadata": {
    "ExecuteTime": {
     "end_time": "2019-03-23T00:05:43.269297Z",
     "start_time": "2019-03-23T00:05:43.222313Z"
    }
   },
   "outputs": [],
   "source": [
    "# find datasets\n",
    "sequence_dfs = glob(str(DATA_DIR / 'raw/starling_umap/*/*/*.pickle'))\n",
    "isi_thresh = 10"
   ]
  },
  {
   "cell_type": "code",
   "execution_count": null,
   "metadata": {
    "ExecuteTime": {
     "end_time": "2019-03-23T00:08:45.982438Z",
     "start_time": "2019-03-23T00:05:43.605419Z"
    }
   },
   "outputs": [],
   "source": [
    "song_df, seq_lens, syllable_duration_s, ISIs = prep_STARLING(sequence_dfs, isi_thresh = isi_thresh)"
   ]
  },
  {
   "cell_type": "code",
   "execution_count": null,
   "metadata": {
    "ExecuteTime": {
     "end_time": "2019-03-23T00:08:46.437785Z",
     "start_time": "2019-03-23T00:08:46.336977Z"
    }
   },
   "outputs": [],
   "source": [
    "# save dataset\n",
    "song_df.to_pickle(DATA_DIR / 'song_seq_df/starling.pickle')"
   ]
  },
  {
   "cell_type": "code",
   "execution_count": null,
   "metadata": {
    "ExecuteTime": {
     "end_time": "2019-03-23T00:08:46.506063Z",
     "start_time": "2019-03-23T00:08:46.443233Z"
    }
   },
   "outputs": [],
   "source": [
    "song_df[:3]"
   ]
  },
  {
   "cell_type": "code",
   "execution_count": null,
   "metadata": {
    "ExecuteTime": {
     "start_time": "2019-03-23T05:52:06.057Z"
    }
   },
   "outputs": [],
   "source": [
    "song_df[song_df.bird == 'B335'][:3]"
   ]
  },
  {
   "cell_type": "markdown",
   "metadata": {},
   "source": [
    "### Make Stats DF"
   ]
  },
  {
   "cell_type": "code",
   "execution_count": null,
   "metadata": {
    "ExecuteTime": {
     "end_time": "2019-03-23T00:08:46.756146Z",
     "start_time": "2019-03-23T00:08:46.696219Z"
    }
   },
   "outputs": [],
   "source": [
    "stats_df = pd.DataFrame(\n",
    "    columns = [\n",
    "        'species',\n",
    "        \n",
    "        'unique_birds',\n",
    "        'num_birds',\n",
    "        \n",
    "        'num_syllables_per_bird',\n",
    "        'num_syllables_total',\n",
    "        'num_recordings',\n",
    "        'recording_duration_syllable',\n",
    "        \n",
    "        'unique_syllables_per_bird',\n",
    "        'unique_syllables_total',\n",
    "        \n",
    "        'recordings_length_total',\n",
    "        'recordings_lengths',\n",
    "        'syllable_duration_s',\n",
    "        'isi'\n",
    "        ]\n",
    ")"
   ]
  },
  {
   "cell_type": "code",
   "execution_count": null,
   "metadata": {
    "ExecuteTime": {
     "end_time": "2019-03-23T00:08:47.077879Z",
     "start_time": "2019-03-23T00:08:46.760309Z"
    }
   },
   "outputs": [],
   "source": [
    "species = 'Starling'\n",
    "unique_birds = np.unique(song_df[song_df.species==species].bird)\n",
    "num_birds = len(unique_birds)\n",
    "num_syllables_per_bird = [len(np.concatenate(song_df[song_df.bird.values == bird].syllables.values)) for bird in unique_birds]\n",
    "unique_syllables_per_bird = [len(np.unique(np.concatenate(song_df[song_df.bird.values == bird].syllables.values))) for bird in unique_birds]\n",
    "num_recordings = len(song_df[song_df.species==species])\n",
    "recording_duration_syllable = [len(i) for i in song_df[song_df.species==species].syllables]\n",
    "unique_syllables_total = len(np.unique(np.concatenate(song_df[song_df.species==species].syllables.values)))\n",
    "num_syllables_total = np.sum(recording_duration_syllable)"
   ]
  },
  {
   "cell_type": "code",
   "execution_count": null,
   "metadata": {
    "ExecuteTime": {
     "end_time": "2019-03-23T00:08:47.116489Z",
     "start_time": "2019-03-23T00:08:47.081388Z"
    }
   },
   "outputs": [],
   "source": [
    "recordings_length_total = np.sum(seq_lens)\n",
    "recordings_lengths = seq_lens"
   ]
  },
  {
   "cell_type": "code",
   "execution_count": null,
   "metadata": {
    "ExecuteTime": {
     "end_time": "2019-03-23T00:08:47.195698Z",
     "start_time": "2019-03-23T00:08:47.118669Z"
    }
   },
   "outputs": [],
   "source": [
    "stats_df.loc[len(stats_df)] = [\n",
    "    species,\n",
    "\n",
    "    unique_birds,\n",
    "    num_birds,\n",
    "\n",
    "    num_syllables_per_bird,\n",
    "    num_syllables_total,\n",
    "    num_recordings,\n",
    "    recording_duration_syllable,\n",
    "    \n",
    "    unique_syllables_per_bird,\n",
    "    unique_syllables_total,\n",
    "    \n",
    "    recordings_length_total,\n",
    "    recordings_lengths,\n",
    "    syllable_duration_s,\n",
    "    ISIs\n",
    "]"
   ]
  },
  {
   "cell_type": "code",
   "execution_count": null,
   "metadata": {
    "ExecuteTime": {
     "end_time": "2019-03-23T00:08:47.292666Z",
     "start_time": "2019-03-23T00:08:47.197440Z"
    }
   },
   "outputs": [],
   "source": [
    "stats_df"
   ]
  },
  {
   "cell_type": "code",
   "execution_count": null,
   "metadata": {
    "ExecuteTime": {
     "end_time": "2019-03-23T00:08:47.427652Z",
     "start_time": "2019-03-23T00:08:47.294615Z"
    }
   },
   "outputs": [],
   "source": [
    "stats_df.to_pickle(DATA_DIR/'stats_df/starling_stats_df.pickle')"
   ]
  },
  {
   "cell_type": "code",
   "execution_count": null,
   "metadata": {},
   "outputs": [],
   "source": []
  }
 ],
 "metadata": {
  "kernelspec": {
   "display_name": "Python 3",
   "language": "python",
   "name": "python3"
  },
  "language_info": {
   "codemirror_mode": {
    "name": "ipython",
    "version": 3
   },
   "file_extension": ".py",
   "mimetype": "text/x-python",
   "name": "python",
   "nbconvert_exporter": "python",
   "pygments_lexer": "ipython3",
   "version": "3.6.8"
  }
 },
 "nbformat": 4,
 "nbformat_minor": 2
}
