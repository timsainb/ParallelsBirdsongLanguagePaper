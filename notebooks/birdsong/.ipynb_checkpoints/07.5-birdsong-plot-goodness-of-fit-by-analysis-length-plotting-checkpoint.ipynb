{
 "cells": [
  {
   "cell_type": "markdown",
   "metadata": {},
   "source": [
    "# Calculate MI for each species and plot goodness of fit by length of analysis\n",
    "1. load datasets\n",
    "2. calculate MI"
   ]
  },
  {
   "cell_type": "code",
   "execution_count": null,
   "metadata": {
    "ExecuteTime": {
     "end_time": "2019-04-12T04:31:03.576714Z",
     "start_time": "2019-04-12T04:30:56.794471Z"
    }
   },
   "outputs": [],
   "source": [
    "import pandas as pd\n",
    "import numpy as np\n",
    "from parallelspaper.config.paths import DATA_DIR, FIGURE_DIR\n",
    "from parallelspaper.birdsong_datasets import MI_seqs, compress_seq, BCOL_DICT\n",
    "from parallelspaper import information_theory as it \n",
    "from tqdm.autonotebook import tqdm\n",
    "from parallelspaper import model_fitting as mf\n",
    "from parallelspaper.utils import save_fig"
   ]
  },
  {
   "cell_type": "code",
   "execution_count": null,
   "metadata": {
    "ExecuteTime": {
     "end_time": "2019-04-12T04:31:03.608146Z",
     "start_time": "2019-04-12T04:31:03.588220Z"
    }
   },
   "outputs": [],
   "source": [
    "import matplotlib.pyplot as plt\n",
    "%matplotlib inline"
   ]
  },
  {
   "cell_type": "markdown",
   "metadata": {},
   "source": [
    "### Load data"
   ]
  },
  {
   "cell_type": "code",
   "execution_count": null,
   "metadata": {
    "ExecuteTime": {
     "end_time": "2019-04-12T04:31:03.736332Z",
     "start_time": "2019-04-12T04:31:03.616974Z"
    }
   },
   "outputs": [],
   "source": [
    "MI_DF = pd.read_pickle(DATA_DIR / 'MI_DF/birdsong/birdsong_MI_DF_long.pickle')"
   ]
  },
  {
   "cell_type": "code",
   "execution_count": null,
   "metadata": {
    "ExecuteTime": {
     "end_time": "2019-04-12T04:31:04.007267Z",
     "start_time": "2019-04-12T04:31:03.751853Z"
    }
   },
   "outputs": [],
   "source": [
    "MI_DF"
   ]
  },
  {
   "cell_type": "code",
   "execution_count": null,
   "metadata": {
    "ExecuteTime": {
     "end_time": "2019-04-12T04:31:41.995134Z",
     "start_time": "2019-04-12T04:31:41.976617Z"
    }
   },
   "outputs": [],
   "source": [
    "fit_df= pd.read_pickle(DATA_DIR / 'MI_DF/birdsong/birdsong_fit_df_long.pickle')"
   ]
  },
  {
   "cell_type": "code",
   "execution_count": null,
   "metadata": {
    "ExecuteTime": {
     "end_time": "2019-04-12T04:31:43.362170Z",
     "start_time": "2019-04-12T04:31:43.282798Z"
    }
   },
   "outputs": [],
   "source": [
    "fit_df[:3]"
   ]
  },
  {
   "cell_type": "markdown",
   "metadata": {},
   "source": [
    "### Plot results"
   ]
  },
  {
   "cell_type": "code",
   "execution_count": null,
   "metadata": {
    "ExecuteTime": {
     "end_time": "2019-03-23T01:38:07.698318Z",
     "start_time": "2019-03-23T01:38:07.627709Z"
    }
   },
   "outputs": [],
   "source": [
    "import matplotlib.pyplot as plt"
   ]
  },
  {
   "cell_type": "markdown",
   "metadata": {},
   "source": [
    "##### R2 full concatenative model"
   ]
  },
  {
   "cell_type": "code",
   "execution_count": null,
   "metadata": {},
   "outputs": [],
   "source": [
    "spc = {'Starling':'starling', 'CAVI': 'vireo', 'CATH':'thrasher', 'BF':'finch'}"
   ]
  },
  {
   "cell_type": "code",
   "execution_count": null,
   "metadata": {
    "ExecuteTime": {
     "end_time": "2019-04-12T04:38:06.776726Z",
     "start_time": "2019-04-12T04:37:44.416862Z"
    }
   },
   "outputs": [],
   "source": [
    "ncol = len(np.unique(fit_df.species))\n",
    "zoom = 4\n",
    "fig, axs = plt.subplots(ncols=ncol, figsize= (ncol*zoom, zoom))\n",
    "for sax, species in enumerate(np.unique(fit_df.species)):\n",
    "    color = BCOL_DICT[species]\n",
    "    ax = axs.flatten()[sax]\n",
    "    spec_fit_df = fit_df[fit_df.species == species]\n",
    "    \n",
    "    ax.plot(spec_fit_df.d, spec_fit_df.R2_concat.values, lw=4, color=color)\n",
    "    ax.set_title(spc[species], fontsize=16)\n",
    "    ax.set_ylim([0.5,1.01])\n",
    "    ax.set_xlim([np.min(spec_fit_df.d), np.max(spec_fit_df.d)])\n",
    "    spec_fit_df = spec_fit_df[spec_fit_df.d > 100]\n",
    "    d = spec_fit_df.d.values[np.where(spec_fit_df.R2_concat.values > (spec_fit_df.R2_concat.values[0]*.999))[0][-1]]\n",
    "    print(d)\n",
    "    #ax.axvline(d,color='k', ls='dashed', alpha=0.5)\n",
    "    #ax.set_ylim(np.exp(sig_lims))\n",
    "    ax.tick_params(which='both', direction='in')\n",
    "    ax.tick_params(which='major', length=10, width =3)\n",
    "    ax.tick_params(which='minor', length=5, width =2)\n",
    "    ax.set_xlabel('Distance (syllables)', fontsize=18)\n",
    "    ax.set_xscale( \"log\" , basex=10)\n",
    "    for axis in ['top','bottom','left','right']:\n",
    "        ax.spines[axis].set_linewidth(3)\n",
    "        ax.spines[axis].set_color('k')\n",
    "\n",
    "axs[0].set_ylabel('$r^2$ comp. model', fontsize=18)\n",
    "plt.tight_layout()\n",
    "\n",
    "save_fig(FIGURE_DIR/'R2_song')"
   ]
  },
  {
   "cell_type": "markdown",
   "metadata": {
    "ExecuteTime": {
     "end_time": "2019-03-04T20:41:04.383722Z",
     "start_time": "2019-03-04T20:41:04.378925Z"
    }
   },
   "source": [
    "##### R2 of power-law compenent"
   ]
  },
  {
   "cell_type": "code",
   "execution_count": null,
   "metadata": {
    "ExecuteTime": {
     "end_time": "2019-04-12T04:33:35.331145Z",
     "start_time": "2019-04-12T04:33:11.980422Z"
    }
   },
   "outputs": [],
   "source": [
    "ncol = len(np.unique(fit_df.species))\n",
    "zoom = 4\n",
    "fig, axs = plt.subplots(ncols=ncol, figsize= (ncol*zoom, zoom))\n",
    "for sax, species in enumerate(np.unique(fit_df.species)):\n",
    "    color = BCOL_DICT[species]\n",
    "    ax = axs.flatten()[sax]\n",
    "    spec_fit_df = fit_df[fit_df.species == species]\n",
    "    ax.plot(spec_fit_df.d, spec_fit_df.R2_pow_comp.values, lw=4, color=color)\n",
    "    #ax.plot(spec_fit_df.d, spec_fit_df.R2_pow_comp.values, lw=4, color=color)\n",
    "    ax.set_title(spc[species], fontsize=16)\n",
    "    ax.set_ylim([0.5,1.01])\n",
    "    ax.set_xlim([np.min(spec_fit_df.d), np.max(spec_fit_df.d)])\n",
    "    \n",
    "    #ax.axvline(d,color='k', ls='dashed', alpha=0.5)\n",
    "    #ax.set_ylim(np.exp(sig_lims))\n",
    "    ax.tick_params(which='both', direction='in')\n",
    "    ax.tick_params(which='major', length=10, width =3)\n",
    "    ax.tick_params(which='minor', length=5, width =2)\n",
    "    ax.set_xlabel('Distance (syllables)', fontsize=18)\n",
    "    ax.set_xscale( \"log\" , basex=10)\n",
    "    for axis in ['top','bottom','left','right']:\n",
    "        ax.spines[axis].set_linewidth(3)\n",
    "        ax.spines[axis].set_color('k')\n",
    "\n",
    "axs[0].set_ylabel('$r^2$ power-law component', fontsize=18)\n",
    "plt.tight_layout()\n",
    "\n",
    "\n",
    "save_fig(FIGURE_DIR/'r2_powerlaw_song')\n"
   ]
  },
  {
   "cell_type": "markdown",
   "metadata": {},
   "source": [
    "##### $\\Delta$AICc composite vs expon"
   ]
  },
  {
   "cell_type": "code",
   "execution_count": null,
   "metadata": {
    "ExecuteTime": {
     "end_time": "2019-04-12T04:37:29.509977Z",
     "start_time": "2019-04-12T04:37:06.525625Z"
    }
   },
   "outputs": [],
   "source": [
    "ncol = len(np.unique(fit_df.species))\n",
    "zoom = 4\n",
    "fig, axs = plt.subplots(ncols=ncol, figsize= (ncol*zoom, zoom))\n",
    "for sax, species in enumerate(np.unique(fit_df.species)):\n",
    "    color = BCOL_DICT[species]\n",
    "    ax = axs.flatten()[sax]\n",
    "    spec_fit_df = fit_df[fit_df.species == species]\n",
    "    ax.plot(spec_fit_df.d, spec_fit_df.AICc_concat.values - spec_fit_df.AICc_exp.values, lw=4, color=color)\n",
    "    ax.set_title(spc[species], fontsize=16)\n",
    "    ax.tick_params(which='both', direction='in')\n",
    "    ax.tick_params(which='major', length=10, width =3)\n",
    "    ax.tick_params(which='minor', length=5, width =2)\n",
    "    ax.set_xlabel('Distance (syllables)', fontsize=18)\n",
    "    ax.set_xscale( \"log\" , basex=10)\n",
    "    for axis in ['top','bottom','left','right']:\n",
    "        ax.spines[axis].set_linewidth(3)\n",
    "        ax.spines[axis].set_color('k')\n",
    "    ax.set_xlim([np.min(spec_fit_df.d), np.max(spec_fit_df.d)])\n",
    "\n",
    "axs[0].set_ylabel('$\\Delta$AICc (comp.- exp.)', fontsize=18)\n",
    "plt.tight_layout()\n",
    "\n",
    "save_fig(FIGURE_DIR/'delta_AIC_song')"
   ]
  },
  {
   "cell_type": "code",
   "execution_count": null,
   "metadata": {},
   "outputs": [],
   "source": []
  }
 ],
 "metadata": {
  "kernelspec": {
   "display_name": "Python 3",
   "language": "python",
   "name": "python3"
  },
  "language_info": {
   "codemirror_mode": {
    "name": "ipython",
    "version": 3
   },
   "file_extension": ".py",
   "mimetype": "text/x-python",
   "name": "python",
   "nbconvert_exporter": "python",
   "pygments_lexer": "ipython3",
   "version": "3.6.8"
  }
 },
 "nbformat": 4,
 "nbformat_minor": 2
}
