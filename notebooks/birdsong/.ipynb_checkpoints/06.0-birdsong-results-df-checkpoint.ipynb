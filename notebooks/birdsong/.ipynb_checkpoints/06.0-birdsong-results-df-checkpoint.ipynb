{
 "cells": [
  {
   "cell_type": "markdown",
   "metadata": {},
   "source": [
    "# create a results dataframe and table to export to latex"
   ]
  },
  {
   "cell_type": "code",
   "execution_count": null,
   "metadata": {
    "ExecuteTime": {
     "end_time": "2019-03-23T06:16:16.350710Z",
     "start_time": "2019-03-23T06:16:14.571785Z"
    }
   },
   "outputs": [],
   "source": [
    "import pandas as pd\n",
    "from parallelspaper.config.paths import DATA_DIR\n",
    "import numpy as np\n",
    "from parallelspaper import model_fitting as mf"
   ]
  },
  {
   "cell_type": "markdown",
   "metadata": {},
   "source": [
    "### load data"
   ]
  },
  {
   "cell_type": "code",
   "execution_count": null,
   "metadata": {
    "ExecuteTime": {
     "end_time": "2019-03-23T06:16:16.433011Z",
     "start_time": "2019-03-23T06:16:16.353375Z"
    }
   },
   "outputs": [],
   "source": [
    "MI_DF = pd.read_pickle((DATA_DIR / 'MI_DF/birdsong/birdsong_MI_DF_fitted.pickle'))"
   ]
  },
  {
   "cell_type": "code",
   "execution_count": null,
   "metadata": {
    "ExecuteTime": {
     "end_time": "2019-03-23T06:16:16.456074Z",
     "start_time": "2019-03-23T06:16:16.435134Z"
    }
   },
   "outputs": [],
   "source": [
    "subset_MI_DF = MI_DF[MI_DF.type == 'day']"
   ]
  },
  {
   "cell_type": "code",
   "execution_count": null,
   "metadata": {
    "ExecuteTime": {
     "end_time": "2019-03-23T06:16:16.709014Z",
     "start_time": "2019-03-23T06:16:16.458190Z"
    }
   },
   "outputs": [],
   "source": [
    "subset_MI_DF"
   ]
  },
  {
   "cell_type": "markdown",
   "metadata": {},
   "source": [
    "### Calculate R2"
   ]
  },
  {
   "cell_type": "code",
   "execution_count": null,
   "metadata": {
    "ExecuteTime": {
     "end_time": "2019-03-23T06:16:57.755406Z",
     "start_time": "2019-03-23T06:16:57.728477Z"
    }
   },
   "outputs": [],
   "source": [
    "R2 = subset_MI_DF[['R2_exp', 'R2_concat', 'R2_power']]\n",
    "R2.columns = ['exp', 'composite', 'power-law']\n",
    "R2.index = subset_MI_DF.species.values\n",
    "R2 = R2.T\n",
    "R2"
   ]
  },
  {
   "cell_type": "markdown",
   "metadata": {},
   "source": [
    "#### AICc"
   ]
  },
  {
   "cell_type": "code",
   "execution_count": null,
   "metadata": {
    "ExecuteTime": {
     "end_time": "2019-03-23T06:16:58.037511Z",
     "start_time": "2019-03-23T06:16:58.010289Z"
    }
   },
   "outputs": [],
   "source": [
    "AICcs = subset_MI_DF[['AICc_exp', 'AICc_concat', 'AICc_power']]\n",
    "AICcs.index = subset_MI_DF.species.values\n",
    "AICcs.columns = ['exp', 'composite', 'power-law']\n",
    "AICcs.index = subset_MI_DF.species.values\n",
    "AICcs = AICcs.T\n",
    "AICcs"
   ]
  },
  {
   "cell_type": "markdown",
   "metadata": {},
   "source": [
    "#### $\\Delta$AIC"
   ]
  },
  {
   "cell_type": "code",
   "execution_count": null,
   "metadata": {
    "ExecuteTime": {
     "end_time": "2019-03-23T06:16:58.303967Z",
     "start_time": "2019-03-23T06:16:58.279133Z"
    }
   },
   "outputs": [],
   "source": [
    "delta_AICcs = AICcs.T - np.repeat(np.min(AICcs.T.values, axis=1),3).reshape(4,3)\n",
    "delta_AICcs = delta_AICcs.T\n",
    "delta_AICcs"
   ]
  },
  {
   "cell_type": "markdown",
   "metadata": {},
   "source": [
    "#### Relative likelihood"
   ]
  },
  {
   "cell_type": "code",
   "execution_count": null,
   "metadata": {
    "ExecuteTime": {
     "end_time": "2019-03-23T06:16:58.588181Z",
     "start_time": "2019-03-23T06:16:58.562278Z"
    }
   },
   "outputs": [],
   "source": [
    "relative_likelihoods = mf.relative_likelihood(delta_AICcs)\n",
    "relative_likelihoods"
   ]
  },
  {
   "cell_type": "markdown",
   "metadata": {},
   "source": [
    "#### Relative probability of models"
   ]
  },
  {
   "cell_type": "code",
   "execution_count": null,
   "metadata": {
    "ExecuteTime": {
     "end_time": "2019-03-23T06:16:58.884393Z",
     "start_time": "2019-03-23T06:16:58.856714Z"
    }
   },
   "outputs": [],
   "source": [
    "prob_models = mf.Prob_model_Given_data_and_models(relative_likelihoods)\n",
    "prob_models"
   ]
  },
  {
   "cell_type": "markdown",
   "metadata": {},
   "source": [
    "#### Join tables"
   ]
  },
  {
   "cell_type": "code",
   "execution_count": null,
   "metadata": {
    "ExecuteTime": {
     "end_time": "2019-03-23T06:16:59.157145Z",
     "start_time": "2019-03-23T06:16:59.145750Z"
    }
   },
   "outputs": [],
   "source": [
    "AICcs['superlabel'] = 'AICc'\n",
    "relative_likelihoods['superlabel'] = 'Relative likelihood'\n",
    "R2['superlabel'] = '$r^2$'\n",
    "prob_models['superlabel'] = 'Relative probability'"
   ]
  },
  {
   "cell_type": "code",
   "execution_count": null,
   "metadata": {
    "ExecuteTime": {
     "end_time": "2019-03-23T06:16:59.332920Z",
     "start_time": "2019-03-23T06:16:59.292330Z"
    }
   },
   "outputs": [],
   "source": [
    "results_table = pd.concat([\n",
    "    AICcs,\n",
    "    R2,\n",
    "    relative_likelihoods,\n",
    "    prob_models\n",
    "]).round(3).replace(0, '<0.001').replace(1, '>0.999')\n",
    "results_table[''] = results_table.index\n",
    "results_table.set_index(['superlabel', ''], inplace=True)\n",
    "results_table"
   ]
  },
  {
   "cell_type": "markdown",
   "metadata": {},
   "source": [
    "#### print in latex format"
   ]
  },
  {
   "cell_type": "code",
   "execution_count": null,
   "metadata": {
    "ExecuteTime": {
     "end_time": "2019-03-23T06:16:59.808756Z",
     "start_time": "2019-03-23T06:16:59.792391Z"
    }
   },
   "outputs": [],
   "source": [
    "results_string = results_table.to_latex(bold_rows=True, escape=False)\\\n",
    "      .replace('>', '$>$')\\\n",
    "      .replace('<', '$<$')\\\n",
    "      .replace('superlabel', '')\\\n",
    "     .replace('\\n\\\\textbf', '\\n\\midrule\\n\\\\textbf')\n",
    "print(results_string)"
   ]
  },
  {
   "cell_type": "markdown",
   "metadata": {},
   "source": [
    "### Curvature minimum and maximum"
   ]
  },
  {
   "cell_type": "code",
   "execution_count": null,
   "metadata": {
    "ExecuteTime": {
     "end_time": "2019-03-23T06:17:01.383082Z",
     "start_time": "2019-03-23T06:17:01.318020Z"
    }
   },
   "outputs": [],
   "source": [
    "CAVICATH_stats_df = pd.read_pickle(DATA_DIR / 'stats_df/CAVICATH_stats_df.pickle')\n",
    "Starling_stats_df = pd.read_pickle(DATA_DIR / 'stats_df/starling_stats_df.pickle')\n",
    "BF_stats_df = pd.read_pickle(DATA_DIR / 'stats_df/BF_stats_df.pickle')"
   ]
  },
  {
   "cell_type": "code",
   "execution_count": null,
   "metadata": {
    "ExecuteTime": {
     "end_time": "2019-03-23T06:17:01.483073Z",
     "start_time": "2019-03-23T06:17:01.460098Z"
    }
   },
   "outputs": [],
   "source": [
    "stats_df = pd.concat([CAVICATH_stats_df, Starling_stats_df, BF_stats_df])"
   ]
  },
  {
   "cell_type": "code",
   "execution_count": null,
   "metadata": {
    "ExecuteTime": {
     "end_time": "2019-03-23T06:17:01.705535Z",
     "start_time": "2019-03-23T06:17:01.613151Z"
    }
   },
   "outputs": [],
   "source": [
    "stats_df"
   ]
  },
  {
   "cell_type": "code",
   "execution_count": null,
   "metadata": {
    "ExecuteTime": {
     "end_time": "2019-03-23T06:17:01.769721Z",
     "start_time": "2019-03-23T06:17:01.761409Z"
    }
   },
   "outputs": [],
   "source": [
    "curvature_dist = np.logspace(0,np.log10(100), base=10, num=1000)"
   ]
  },
  {
   "cell_type": "code",
   "execution_count": null,
   "metadata": {},
   "outputs": [],
   "source": []
  },
  {
   "cell_type": "code",
   "execution_count": null,
   "metadata": {
    "ExecuteTime": {
     "end_time": "2019-03-23T06:17:02.137961Z",
     "start_time": "2019-03-23T06:17:02.059624Z"
    }
   },
   "outputs": [],
   "source": [
    "for idx, row in subset_MI_DF.iterrows():\n",
    "    birdrow = stats_df.species.values == row.species\n",
    "    median_syllable_len = np.median(stats_df[birdrow].syllable_duration_s.values[0])\n",
    "    median_isi =  np.median(stats_df[birdrow].isi.values[0])\n",
    "    curvature_len = curvature_dist[int(row.min_peak)]\n",
    "    curv_max = curvature_dist[np.argmax(row.curvature)]\n",
    "    print(row.species)\n",
    "    #print(curvature_len,median_syllable_len)\n",
    "    print('\\tmin curv phones:', round(curvature_len,3))\n",
    "    print('\\tmin curv seconds:', round(curvature_len*(median_syllable_len+median_isi),3))\n",
    "    print('\\tmax curv phones:', round(curv_max,3))\n",
    "    print('\\tmax curv seconds:', round(curv_max*(median_syllable_len+median_isi),3))\n",
    "    print('\\tsylls per bout:', np.median(stats_df[birdrow].recording_duration_syllable.values[0]))\n"
   ]
  },
  {
   "cell_type": "code",
   "execution_count": null,
   "metadata": {},
   "outputs": [],
   "source": []
  },
  {
   "cell_type": "code",
   "execution_count": null,
   "metadata": {},
   "outputs": [],
   "source": []
  }
 ],
 "metadata": {
  "kernelspec": {
   "display_name": "Python 3",
   "language": "python",
   "name": "python3"
  },
  "language_info": {
   "codemirror_mode": {
    "name": "ipython",
    "version": 3
   },
   "file_extension": ".py",
   "mimetype": "text/x-python",
   "name": "python",
   "nbconvert_exporter": "python",
   "pygments_lexer": "ipython3",
   "version": "3.6.8"
  }
 },
 "nbformat": 4,
 "nbformat_minor": 2
}
