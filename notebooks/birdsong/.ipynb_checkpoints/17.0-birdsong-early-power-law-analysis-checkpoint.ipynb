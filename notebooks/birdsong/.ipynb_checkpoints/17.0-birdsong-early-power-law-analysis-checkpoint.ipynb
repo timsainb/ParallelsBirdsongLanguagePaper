{
 "cells": [
  {
   "cell_type": "markdown",
   "metadata": {},
   "source": [
    "# Get model contribution by distance"
   ]
  },
  {
   "cell_type": "code",
   "execution_count": null,
   "metadata": {
    "ExecuteTime": {
     "end_time": "2019-03-23T01:23:54.659232Z",
     "start_time": "2019-03-23T01:23:52.545679Z"
    }
   },
   "outputs": [],
   "source": [
    "import pandas as pd\n",
    "from parallelspaper.config.paths import DATA_DIR, FIGURE_DIR\n",
    "from parallelspaper.birdsong_datasets import BCOL_DICT\n",
    "import numpy as np\n",
    "from parallelspaper import model_fitting as mf\n",
    "from parallelspaper.utils import save_fig\n",
    "from parallelspaper import information_theory as it "
   ]
  },
  {
   "cell_type": "code",
   "execution_count": null,
   "metadata": {
    "ExecuteTime": {
     "end_time": "2019-03-23T01:23:54.668733Z",
     "start_time": "2019-03-23T01:23:54.661795Z"
    }
   },
   "outputs": [],
   "source": [
    "from matplotlib import gridspec\n",
    "import matplotlib.pyplot as plt\n",
    "%matplotlib inline"
   ]
  },
  {
   "cell_type": "code",
   "execution_count": null,
   "metadata": {
    "ExecuteTime": {
     "end_time": "2019-03-23T01:23:54.832996Z",
     "start_time": "2019-03-23T01:23:54.670979Z"
    }
   },
   "outputs": [],
   "source": [
    "# stats\n",
    "CAVICATH_stats_df = pd.read_pickle(DATA_DIR / 'stats_df/CAVICATH_stats_df.pickle')\n",
    "Starling_stats_df = pd.read_pickle(DATA_DIR / 'stats_df/starling_stats_df.pickle')\n",
    "BF_stats_df = pd.read_pickle(DATA_DIR / 'stats_df/BF_stats_df.pickle')\n",
    "\n",
    "stats_df = pd.concat([CAVICATH_stats_df, Starling_stats_df, BF_stats_df])"
   ]
  },
  {
   "cell_type": "code",
   "execution_count": null,
   "metadata": {
    "ExecuteTime": {
     "end_time": "2019-03-23T01:23:54.925403Z",
     "start_time": "2019-03-23T01:23:54.835424Z"
    }
   },
   "outputs": [],
   "source": [
    " MI_DF = pd.read_pickle(DATA_DIR / 'MI_DF/birdsong/birdsong_MI_DF_fitted.pickle')"
   ]
  },
  {
   "cell_type": "code",
   "execution_count": null,
   "metadata": {
    "ExecuteTime": {
     "end_time": "2019-03-23T01:23:54.990287Z",
     "start_time": "2019-03-23T01:23:54.927524Z"
    }
   },
   "outputs": [],
   "source": [
    "subset_MI_DF = MI_DF[MI_DF.type == 'day']"
   ]
  },
  {
   "cell_type": "code",
   "execution_count": null,
   "metadata": {
    "ExecuteTime": {
     "end_time": "2019-03-23T01:23:55.180796Z",
     "start_time": "2019-03-23T01:23:54.992277Z"
    }
   },
   "outputs": [],
   "source": [
    "subset_MI_DF"
   ]
  },
  {
   "cell_type": "code",
   "execution_count": null,
   "metadata": {
    "ExecuteTime": {
     "end_time": "2019-03-23T01:23:55.346342Z",
     "start_time": "2019-03-23T01:23:55.182720Z"
    }
   },
   "outputs": [],
   "source": [
    "distances = np.logspace(0,2, base=10, num=1000)"
   ]
  },
  {
   "cell_type": "code",
   "execution_count": null,
   "metadata": {
    "ExecuteTime": {
     "end_time": "2019-03-23T01:23:58.589716Z",
     "start_time": "2019-03-23T01:23:55.348428Z"
    }
   },
   "outputs": [],
   "source": [
    "fig, axs = plt.subplots(ncols = 4, figsize=(16,4))\n",
    "for axi, (idx, row) in enumerate(subset_MI_DF.iterrows()):\n",
    "    \n",
    "    birdrow = stats_df.species.values == row.species\n",
    "    median_syllable_len = np.median(stats_df[birdrow].syllable_duration_s.values[0])\n",
    "    median_isi =  np.median(stats_df[birdrow].isi.values[0])\n",
    "    \n",
    "    max_peak_dist = distances[int(np.argmax(row.curvature))]\n",
    "    lower_mask = row.distances < max_peak_dist\n",
    "    y_model = mf.get_y(mf.pow_exp_decay, row.concat_results, row.distances)\n",
    "    y_pow = mf.get_y(mf.powerlaw_decay, row.concat_results, row.distances)\n",
    "    y_exp = mf.get_y(mf.exp_decay, row.concat_results, row.distances)\n",
    "    y = row.MI - row.MI_shuff\n",
    "    \n",
    "    print(\n",
    "        row.species, \n",
    "        np.sum(y_pow[lower_mask]/y_model[lower_mask])/np.sum(lower_mask),\n",
    "        (median_syllable_len+median_isi)* max_peak_dist\n",
    "    )\n",
    "    \n",
    "    \n",
    "    axs[axi].loglog(row.distances, y_model, color = BCOL_DICT[row.species])\n",
    "    axs[axi].loglog(row.distances, y_pow, color = BCOL_DICT[row.species], ls='dotted')\n",
    "    axs[axi].loglog(row.distances, y_exp, color = BCOL_DICT[row.species], ls='dashed')\n"
   ]
  },
  {
   "cell_type": "code",
   "execution_count": null,
   "metadata": {},
   "outputs": [],
   "source": []
  }
 ],
 "metadata": {
  "kernelspec": {
   "display_name": "Python 3",
   "language": "python",
   "name": "python3"
  },
  "language_info": {
   "codemirror_mode": {
    "name": "ipython",
    "version": 3
   },
   "file_extension": ".py",
   "mimetype": "text/x-python",
   "name": "python",
   "nbconvert_exporter": "python",
   "pygments_lexer": "ipython3",
   "version": "3.6.8"
  }
 },
 "nbformat": 4,
 "nbformat_minor": 2
}
