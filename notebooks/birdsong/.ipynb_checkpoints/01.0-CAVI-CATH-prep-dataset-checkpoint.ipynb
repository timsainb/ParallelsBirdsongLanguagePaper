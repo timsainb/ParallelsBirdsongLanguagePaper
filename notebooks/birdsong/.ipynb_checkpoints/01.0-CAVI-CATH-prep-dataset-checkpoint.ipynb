{
 "cells": [
  {
   "cell_type": "markdown",
   "metadata": {},
   "source": [
    "# Prepare sequence dataframe of Cassin's vireo and California thrasher\n",
    "1. load transcriptions\n",
    "2. reformat to a sequence dataset"
   ]
  },
  {
   "cell_type": "code",
   "execution_count": null,
   "metadata": {
    "ExecuteTime": {
     "end_time": "2019-03-04T04:54:58.524727Z",
     "start_time": "2019-03-04T04:54:57.231425Z"
    }
   },
   "outputs": [],
   "source": [
    "import numpy as np\n",
    "import textgrid\n",
    "from glob import glob\n",
    "from tqdm import tqdm_notebook as tqdm\n",
    "import pandas as pd\n",
    "from datetime import datetime, timedelta\n",
    "from parallelspaper.birdsong_datasets import prep_CAVI_CATH\n",
    "from parallelspaper.config.paths import DATA_DIR"
   ]
  },
  {
   "cell_type": "markdown",
   "metadata": {},
   "source": [
    "### load data"
   ]
  },
  {
   "cell_type": "code",
   "execution_count": null,
   "metadata": {
    "ExecuteTime": {
     "end_time": "2019-03-04T04:54:59.122274Z",
     "start_time": "2019-03-04T04:54:59.119545Z"
    }
   },
   "outputs": [],
   "source": [
    "# I grabbed all of the bird-db transcripts and hosted them locally for this\n",
    "bird_db_locs = '/mnt/cube/Datasets/bird-db/songs/*/*'"
   ]
  },
  {
   "cell_type": "code",
   "execution_count": null,
   "metadata": {
    "ExecuteTime": {
     "end_time": "2019-03-04T04:54:59.276335Z",
     "start_time": "2019-03-04T04:54:59.271615Z"
    }
   },
   "outputs": [],
   "source": [
    "isi_thresh = 60\n",
    "all_indvs = glob(bird_db_locs)"
   ]
  },
  {
   "cell_type": "code",
   "execution_count": null,
   "metadata": {
    "ExecuteTime": {
     "end_time": "2019-03-04T04:55:33.585132Z",
     "start_time": "2019-03-04T04:54:59.394228Z"
    }
   },
   "outputs": [],
   "source": [
    "(song_df, CATH_isi, CAVI_isi, CATH_syll_lens, CAVI_syll_lens, CATH_grid_lens,\n",
    " CAVI_grid_lens, CAVI_isi, CATH_isi) = prep_CAVI_CATH(all_indvs, isi_thresh=isi_thresh)"
   ]
  },
  {
   "cell_type": "code",
   "execution_count": null,
   "metadata": {
    "ExecuteTime": {
     "end_time": "2019-03-04T04:55:33.616474Z",
     "start_time": "2019-03-04T04:55:33.587772Z"
    }
   },
   "outputs": [],
   "source": [
    "song_df[:3]"
   ]
  },
  {
   "cell_type": "code",
   "execution_count": null,
   "metadata": {
    "ExecuteTime": {
     "end_time": "2019-03-04T04:55:33.753599Z",
     "start_time": "2019-03-04T04:55:33.618150Z"
    }
   },
   "outputs": [],
   "source": [
    "# save dataset\n",
    "song_df[['bird', 'species', 'syllables', 'rec_num', 'day']].to_pickle(DATA_DIR / 'song_seq_df/CAVI_CATH.pickle')"
   ]
  },
  {
   "cell_type": "markdown",
   "metadata": {},
   "source": [
    "##### make a second dataset which includes all vocalizations within the same recording (for longest recording figure)"
   ]
  },
  {
   "cell_type": "code",
   "execution_count": null,
   "metadata": {
    "ExecuteTime": {
     "end_time": "2019-03-04T23:37:03.817588Z",
     "start_time": "2019-03-04T23:36:26.141749Z"
    }
   },
   "outputs": [],
   "source": [
    "(song_df, CATH_isi, CAVI_isi, CATH_syll_lens, CAVI_syll_lens, CATH_grid_lens,\n",
    " CAVI_grid_lens, CAVI_isi, CATH_isi) = prep_CAVI_CATH(all_indvs, isi_thresh=10e5)"
   ]
  },
  {
   "cell_type": "code",
   "execution_count": null,
   "metadata": {
    "ExecuteTime": {
     "end_time": "2019-03-04T23:37:56.026521Z",
     "start_time": "2019-03-04T23:37:55.991989Z"
    }
   },
   "outputs": [],
   "source": [
    "# save dataset\n",
    "song_df[['bird', 'species', 'syllables', 'rec_num', 'day']].to_pickle(DATA_DIR / 'song_seq_df/CAVI_CATH_full_recording.pickle')"
   ]
  },
  {
   "cell_type": "markdown",
   "metadata": {},
   "source": [
    "### Get song statistics"
   ]
  },
  {
   "cell_type": "code",
   "execution_count": null,
   "metadata": {
    "ExecuteTime": {
     "end_time": "2019-03-04T04:55:33.793726Z",
     "start_time": "2019-03-04T04:55:33.756366Z"
    }
   },
   "outputs": [],
   "source": [
    "stats_df = pd.DataFrame(\n",
    "    columns = [\n",
    "        'species',\n",
    "        \n",
    "        'unique_birds',\n",
    "        'num_birds',\n",
    "        \n",
    "        'num_syllables_per_bird',\n",
    "        'num_syllables_total',\n",
    "        'num_recordings',\n",
    "        'recording_duration_syllable',\n",
    "        \n",
    "        'unique_syllables_per_bird',\n",
    "        'unique_syllables_total',\n",
    "        \n",
    "        'recordings_length_total',\n",
    "        'recordings_lengths',\n",
    "        'syllable_duration_s',\n",
    "        'isi'\n",
    "        ]\n",
    ")"
   ]
  },
  {
   "cell_type": "code",
   "execution_count": null,
   "metadata": {
    "ExecuteTime": {
     "end_time": "2019-03-04T04:55:33.928645Z",
     "start_time": "2019-03-04T04:55:33.795999Z"
    }
   },
   "outputs": [],
   "source": [
    "CATH_all_syll_lens = np.concatenate(CATH_syll_lens)\n",
    "CAVI_all_syll_lens = np.concatenate(CAVI_syll_lens)\n",
    "all_CAVI_isi = np.concatenate(CAVI_isi)\n",
    "all_CATH_isi = np.concatenate(CATH_isi)\n",
    "cath_seq_lens = [len(i) for i in song_df[song_df.species=='CATH'].syllables]\n",
    "cavi_seq_lens = [len(i) for i in song_df[song_df.species=='CAVI'].syllables]"
   ]
  },
  {
   "cell_type": "code",
   "execution_count": null,
   "metadata": {
    "ExecuteTime": {
     "end_time": "2019-03-04T04:55:34.152615Z",
     "start_time": "2019-03-04T04:55:33.930901Z"
    }
   },
   "outputs": [],
   "source": [
    "species = 'CAVI'\n",
    "unique_birds = np.unique(song_df[song_df.species==species].indv)\n",
    "num_birds = len(unique_birds)\n",
    "num_syllables_per_bird = [len(np.concatenate(song_df[song_df.indv.values == bird].syllables.values)) for bird in unique_birds]\n",
    "unique_syllables_per_bird = [len(np.unique(np.concatenate(song_df[song_df.indv.values == bird].syllables.values))) for bird in unique_birds]\n",
    "num_recordings = len(song_df[song_df.species==species])\n",
    "recording_duration_syllable = [len(i) for i in song_df[song_df.species==species].syllables]\n",
    "unique_syllables_total = len(np.unique(np.concatenate(song_df[song_df.species==species].syllables.values)))\n",
    "recordings_length_total = np.sum(CAVI_grid_lens)\n",
    "recordings_lengths = CAVI_grid_lens\n",
    "syllable_duration_s = CAVI_all_syll_lens\n",
    "num_syllables_total = np.sum(recording_duration_syllable)"
   ]
  },
  {
   "cell_type": "code",
   "execution_count": null,
   "metadata": {
    "ExecuteTime": {
     "end_time": "2019-03-04T04:55:34.173018Z",
     "start_time": "2019-03-04T04:55:34.155898Z"
    }
   },
   "outputs": [],
   "source": [
    "stats_df.loc[len(stats_df)] = [\n",
    "    species,\n",
    "\n",
    "    unique_birds,\n",
    "    num_birds,\n",
    "\n",
    "    num_syllables_per_bird,\n",
    "    num_syllables_total,\n",
    "    num_recordings,\n",
    "    recording_duration_syllable,\n",
    "    \n",
    "    unique_syllables_per_bird,\n",
    "    unique_syllables_total,\n",
    "    \n",
    "    recordings_length_total,\n",
    "    recordings_lengths,\n",
    "    syllable_duration_s,\n",
    "    all_CAVI_isi\n",
    "]"
   ]
  },
  {
   "cell_type": "code",
   "execution_count": null,
   "metadata": {
    "ExecuteTime": {
     "end_time": "2019-03-04T04:55:34.286981Z",
     "start_time": "2019-03-04T04:55:34.175785Z"
    }
   },
   "outputs": [],
   "source": [
    "species = 'CATH'\n",
    "unique_birds = np.unique(song_df[song_df.species == species].indv)\n",
    "num_birds = len(unique_birds)\n",
    "num_syllables_per_bird = [len(np.concatenate(\n",
    "    song_df[song_df.indv.values == bird].syllables.values)) for bird in unique_birds]\n",
    "unique_syllables_per_bird = [len(np.unique(np.concatenate(\n",
    "    song_df[song_df.indv.values == bird].syllables.values))) for bird in unique_birds]\n",
    "num_recordings = len(song_df[song_df.species == species])\n",
    "recording_duration_syllable = [\n",
    "    len(i) for i in song_df[song_df.species == species].syllables]\n",
    "unique_syllables_total = len(np.unique(np.concatenate(\n",
    "    song_df[song_df.species == species].syllables.values)))\n",
    "recordings_length_total = np.sum(CATH_grid_lens)\n",
    "recordings_lengths = CATH_grid_lens\n",
    "syllable_duration_s = CATH_all_syll_lens\n",
    "num_syllables_total = np.sum(recording_duration_syllable)"
   ]
  },
  {
   "cell_type": "code",
   "execution_count": null,
   "metadata": {
    "ExecuteTime": {
     "end_time": "2019-03-04T04:55:34.373905Z",
     "start_time": "2019-03-04T04:55:34.289094Z"
    }
   },
   "outputs": [],
   "source": [
    "stats_df.loc[len(stats_df)] = [\n",
    "    species,\n",
    "\n",
    "    unique_birds,\n",
    "    num_birds,\n",
    "\n",
    "    num_syllables_per_bird,\n",
    "    num_syllables_total,\n",
    "    num_recordings,\n",
    "    recording_duration_syllable,\n",
    "    \n",
    "    unique_syllables_per_bird,\n",
    "    unique_syllables_total,\n",
    "    \n",
    "    recordings_length_total,\n",
    "    recordings_lengths,\n",
    "    syllable_duration_s,\n",
    "    all_CATH_isi\n",
    "]"
   ]
  },
  {
   "cell_type": "code",
   "execution_count": null,
   "metadata": {
    "ExecuteTime": {
     "end_time": "2019-03-04T04:55:34.496922Z",
     "start_time": "2019-03-04T04:55:34.376653Z"
    }
   },
   "outputs": [],
   "source": [
    "stats_df.to_pickle(DATA_DIR / 'stats_df/CAVICATH_stats_df.pickle')"
   ]
  },
  {
   "cell_type": "code",
   "execution_count": null,
   "metadata": {},
   "outputs": [],
   "source": []
  }
 ],
 "metadata": {
  "kernelspec": {
   "display_name": "Python 3",
   "language": "python",
   "name": "python3"
  },
  "language_info": {
   "codemirror_mode": {
    "name": "ipython",
    "version": 3
   },
   "file_extension": ".py",
   "mimetype": "text/x-python",
   "name": "python",
   "nbconvert_exporter": "python",
   "pygments_lexer": "ipython3",
   "version": "3.6.8"
  }
 },
 "nbformat": 4,
 "nbformat_minor": 2
}
