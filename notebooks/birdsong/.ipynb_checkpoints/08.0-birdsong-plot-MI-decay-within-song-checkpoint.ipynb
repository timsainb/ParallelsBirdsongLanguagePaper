{
 "cells": [
  {
   "cell_type": "markdown",
   "metadata": {},
   "source": [
    "# plot MI decay for birdsong"
   ]
  },
  {
   "cell_type": "code",
   "execution_count": null,
   "metadata": {
    "ExecuteTime": {
     "end_time": "2019-03-23T06:03:21.263972Z",
     "start_time": "2019-03-23T06:03:18.656545Z"
    }
   },
   "outputs": [],
   "source": [
    "import pandas as pd\n",
    "from parallelspaper.config.paths import DATA_DIR, FIGURE_DIR\n",
    "from parallelspaper.birdsong_datasets import BCOL_DICT\n",
    "import numpy as np\n",
    "from parallelspaper import model_fitting as mf\n",
    "from parallelspaper.utils import save_fig\n"
   ]
  },
  {
   "cell_type": "code",
   "execution_count": null,
   "metadata": {
    "ExecuteTime": {
     "end_time": "2019-03-23T06:03:21.279296Z",
     "start_time": "2019-03-23T06:03:21.269101Z"
    }
   },
   "outputs": [],
   "source": [
    "from matplotlib import gridspec\n",
    "import matplotlib.pyplot as plt\n",
    "%matplotlib inline"
   ]
  },
  {
   "cell_type": "markdown",
   "metadata": {},
   "source": [
    "### load data"
   ]
  },
  {
   "cell_type": "code",
   "execution_count": null,
   "metadata": {
    "ExecuteTime": {
     "end_time": "2019-03-23T06:03:21.424347Z",
     "start_time": "2019-03-23T06:03:21.282520Z"
    }
   },
   "outputs": [],
   "source": [
    "MI_DF = pd.read_pickle((DATA_DIR / 'MI_DF/birdsong/birdsong_MI_DF_fitted.pickle'))"
   ]
  },
  {
   "cell_type": "code",
   "execution_count": null,
   "metadata": {
    "ExecuteTime": {
     "end_time": "2019-03-23T06:03:21.439012Z",
     "start_time": "2019-03-23T06:03:21.427303Z"
    }
   },
   "outputs": [],
   "source": [
    "subset_MI_DF = MI_DF[MI_DF.type == 'song']"
   ]
  },
  {
   "cell_type": "code",
   "execution_count": null,
   "metadata": {
    "ExecuteTime": {
     "end_time": "2019-03-23T06:03:21.607364Z",
     "start_time": "2019-03-23T06:03:21.441359Z"
    }
   },
   "outputs": [],
   "source": [
    "subset_MI_DF"
   ]
  },
  {
   "cell_type": "markdown",
   "metadata": {},
   "source": [
    "### plot main decay results for birdsong"
   ]
  },
  {
   "cell_type": "code",
   "execution_count": null,
   "metadata": {
    "ExecuteTime": {
     "end_time": "2019-03-23T06:06:05.252879Z",
     "start_time": "2019-03-23T06:05:33.767764Z"
    }
   },
   "outputs": [],
   "source": [
    "yoff=-.20\n",
    "ncols = 4\n",
    "zoom = 5\n",
    "hr = [1, 0.5, 0.5, 0.5]\n",
    "nrows = np.ceil(len(subset_MI_DF)/ncols).astype(int)\n",
    "fig = plt.figure(figsize=(len(subset_MI_DF)*zoom,np.sum(hr)*zoom)) \n",
    "gs = gridspec.GridSpec(ncols=len(subset_MI_DF), nrows=4, height_ratios=hr) \n",
    "\n",
    "for axi, (idx, row) in enumerate(subset_MI_DF.sort_values(by=['type', 'species']).iterrows()):\n",
    "    color = BCOL_DICT[row.species]\n",
    "    ax0 = plt.subplot(gs[0,axi])\n",
    "    ax = ax0\n",
    "    sig = np.array(row.MI-row.MI_shuff)\n",
    "    distances = row.distances\n",
    "    sig = sig\n",
    "    distances = distances\n",
    "    # get signal limits\n",
    "    sig_lims = np.log([np.min(sig[sig>0]), np.nanmax(sig)])\n",
    "    sig_lims = [sig_lims[0] - (sig_lims[1]-sig_lims[0])/10,\n",
    "                    sig_lims[1] + (sig_lims[1]-sig_lims[0])/10]\n",
    "            \n",
    "    if axi==0: \n",
    "            ax.set_ylabel('Mutual Information (bits)', labelpad=5, fontsize=18)\n",
    "            ax.yaxis.set_label_coords(yoff,0.5)\n",
    "            \n",
    "    # model data\n",
    "    #row.concat_results.params.intercept = 0\n",
    "    distances_model = np.logspace(0,np.log10(distances[-1]), base=10, num=1000)\n",
    "    y_model = mf.get_y(mf.pow_exp_decay, row.concat_results, distances)\n",
    "    y_pow = mf.get_y(mf.powerlaw_decay, row.concat_results, distances_model)\n",
    "    y_exp = mf.get_y(mf.exp_decay, row.concat_results, distances_model)\n",
    "    y_pow_dat = mf.get_y(mf.powerlaw_decay, row.concat_results, distances)\n",
    "    y_exp_dat = mf.get_y(mf.exp_decay, row.concat_results, distances)\n",
    "    \n",
    "    # plot real data\n",
    "    ax.scatter(distances, sig, alpha = 1, s=40, color=color)   \n",
    "    ax.plot(distances_model, y_pow, ls='dotted', color= 'k', lw=5, alpha=0.5)\n",
    "    ax.plot(distances_model, y_exp-row.concat_results.params['intercept'].value, ls='dashed', color= 'k', lw=5, alpha=0.5)\n",
    "    \n",
    "    # plot modelled data\n",
    "    ax.plot(distances, y_model, alpha = 0.5, lw=10, color=color)\n",
    "    \n",
    "    # plot powerlaw component\n",
    "    ax1 = plt.subplot(gs[1,axi])\n",
    "    ax = ax1\n",
    "    ax.plot(distances_model, y_pow-row.concat_results.params['intercept'].value, alpha = 0.5, lw=10, color=color)\n",
    "    ax.scatter(distances, sig-y_exp_dat, alpha = 1, s=40, color=color)   \n",
    "    \n",
    "    # plot exponential component\n",
    "    ax2 = plt.subplot(gs[2,axi])\n",
    "    ax = ax2\n",
    "    ax.plot(distances_model, y_exp-row.concat_results.params['intercept'].value, alpha = 0.5, lw=10, color=color)\n",
    "    ax.scatter(distances, sig-y_pow_dat, alpha = 1, s=40, color=color)   \n",
    "    \n",
    "    # plot curvature\n",
    "    ax3 = plt.subplot(gs[3,axi])\n",
    "    ax = ax3\n",
    "    if axi==0: \n",
    "        ax.set_ylabel('Curvature', labelpad=5, fontsize=18)\n",
    "        ax.yaxis.set_label_coords(yoff,0.5)\n",
    "        ax.set_yticks([0.0])\n",
    "        ax.set_yticklabels(['0.0'])\n",
    "    else:\n",
    "        ax.set_yticks([0.0])\n",
    "        ax.set_yticklabels(['0.0'])\n",
    "    \n",
    "    \n",
    "    # curvature \n",
    "    distances = np.logspace(0,np.log10(100), base=10, num=1000)\n",
    "    y_model = mf.get_y(mf.pow_exp_decay, row.concat_results, distances)\n",
    "    curvature_model = row.curvature\n",
    "    ax.plot(distances[5:-5], curvature_model[5:-5], alpha = 1, lw=5, color=color)\n",
    "    ax.set_ylim([-1e-4,1e-4])\n",
    "    \n",
    "    peak_of_interest = int(row.min_peak)\n",
    "    ax.axvline(distances[peak_of_interest], lw=3,alpha=0.5, color=color, ls='dashed')\n",
    "    ax.set_xlabel('Distance (syllables)', labelpad=5, fontsize=18)\n",
    "    print(row.species, distances[peak_of_interest])\n",
    "    \n",
    "    \n",
    "    # axis labelling, etc\n",
    "    ax.tick_params(which='both', direction='in', labelsize=14, pad=10)\n",
    "    ax.tick_params(which='major', length=10, width =3)\n",
    "    ax.tick_params(which='minor', length=5, width =2)\n",
    "    ax.set_xscale( \"log\" , basex=10)\n",
    "    for axis in ['top','bottom','left','right']:\n",
    "        ax.spines[axis].set_linewidth(3)\n",
    "        ax.spines[axis].set_color('k')\n",
    "    ax.set_xlim([1,100])\n",
    "    \n",
    "    # set axis limits, etc\n",
    "    for ax in [ax1, ax2]:\n",
    "        if axi==0: \n",
    "            ax.set_ylabel('MI (bits)', labelpad=5, fontsize=18)\n",
    "            ax.yaxis.set_label_coords(yoff,0.5)\n",
    "    \n",
    "    for ax in [ax0,ax1,ax2]:\n",
    "        ax.set_xlim([distances[0], distances[-1]])\n",
    "        ax.set_ylim([10**-2,2.5])\n",
    "        ax.tick_params(which='both', direction='in', labelsize=14, pad=10)\n",
    "        ax.tick_params(which='major', length=10, width =3)\n",
    "        ax.tick_params(which='minor', length=5, width =2)\n",
    "        ax.set_xscale( \"log\" , basex=10)\n",
    "        ax.set_yscale( \"log\" , basey=10)\n",
    "        ax.set_xticks([])\n",
    "        ax.set_ylim(np.exp(sig_lims))\n",
    "        for axis in ['top','bottom','left','right']:\n",
    "            ax.spines[axis].set_linewidth(3)\n",
    "            ax.spines[axis].set_color('k')\n",
    "        ax.set_ylim([10**-2,2.5])\n",
    "    ax3.set_xticks([1,10,100])\n",
    "    ax3.set_xticklabels(['1','10','100'])\n",
    "\n",
    "save_fig(FIGURE_DIR/'within_song')"
   ]
  },
  {
   "cell_type": "code",
   "execution_count": null,
   "metadata": {},
   "outputs": [],
   "source": []
  }
 ],
 "metadata": {
  "kernelspec": {
   "display_name": "Python 3",
   "language": "python",
   "name": "python3"
  },
  "language_info": {
   "codemirror_mode": {
    "name": "ipython",
    "version": 3
   },
   "file_extension": ".py",
   "mimetype": "text/x-python",
   "name": "python",
   "nbconvert_exporter": "python",
   "pygments_lexer": "ipython3",
   "version": "3.6.8"
  }
 },
 "nbformat": 4,
 "nbformat_minor": 2
}
