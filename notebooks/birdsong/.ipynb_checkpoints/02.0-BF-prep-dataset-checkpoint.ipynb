{
 "cells": [
  {
   "cell_type": "markdown",
   "metadata": {},
   "source": [
    "# Prepare sequence dataframe of Bengalese finch\n",
    "1. load transcriptions\n",
    "2. reformat to a sequence dataset"
   ]
  },
  {
   "cell_type": "code",
   "execution_count": null,
   "metadata": {
    "ExecuteTime": {
     "end_time": "2019-03-03T21:49:22.712299Z",
     "start_time": "2019-03-03T21:49:21.368175Z"
    }
   },
   "outputs": [],
   "source": [
    "from glob import glob\n",
    "import numpy as np\n",
    "from parallelspaper.birdsong_datasets import prep_BF\n",
    "from parallelspaper.config.paths import DATA_DIR\n",
    "import pandas as pd"
   ]
  },
  {
   "cell_type": "markdown",
   "metadata": {},
   "source": [
    "### load/prep data"
   ]
  },
  {
   "cell_type": "code",
   "execution_count": null,
   "metadata": {
    "ExecuteTime": {
     "end_time": "2019-03-03T21:49:22.774710Z",
     "start_time": "2019-03-03T21:49:22.715316Z"
    }
   },
   "outputs": [],
   "source": [
    "dset_loc= '/mnt/cube/Datasets/BengaleseFinch/sober/'\n",
    "label_locs = glob(dset_loc + '*/*.not.mat')"
   ]
  },
  {
   "cell_type": "code",
   "execution_count": null,
   "metadata": {
    "ExecuteTime": {
     "end_time": "2019-03-03T21:49:40.069984Z",
     "start_time": "2019-03-03T21:49:22.776825Z"
    }
   },
   "outputs": [],
   "source": [
    "song_df, bf_isi = prep_BF(label_locs)"
   ]
  },
  {
   "cell_type": "code",
   "execution_count": null,
   "metadata": {
    "ExecuteTime": {
     "end_time": "2019-03-03T21:49:40.105609Z",
     "start_time": "2019-03-03T21:49:40.072382Z"
    }
   },
   "outputs": [],
   "source": [
    "song_df[:3]"
   ]
  },
  {
   "cell_type": "code",
   "execution_count": null,
   "metadata": {
    "ExecuteTime": {
     "end_time": "2019-03-03T21:49:40.202980Z",
     "start_time": "2019-03-03T21:49:40.107362Z"
    }
   },
   "outputs": [],
   "source": [
    "# save dataset\n",
    "song_df[['bird', 'species', 'syllables', 'rec_num', 'day']].to_pickle(DATA_DIR / 'song_seq_df/BF.pickle')"
   ]
  },
  {
   "cell_type": "markdown",
   "metadata": {},
   "source": [
    "### Song statistics"
   ]
  },
  {
   "cell_type": "code",
   "execution_count": null,
   "metadata": {
    "ExecuteTime": {
     "end_time": "2019-03-03T21:49:40.283855Z",
     "start_time": "2019-03-03T21:49:40.204866Z"
    }
   },
   "outputs": [],
   "source": [
    "stats_df = pd.DataFrame(\n",
    "    columns = [\n",
    "        'species',\n",
    "        \n",
    "        'unique_birds',\n",
    "        'num_birds',\n",
    "        \n",
    "        'num_syllables_per_bird',\n",
    "        'num_syllables_total',\n",
    "        'num_recordings',\n",
    "        'recording_duration_syllable',\n",
    "        \n",
    "        'unique_syllables_per_bird',\n",
    "        'unique_syllables_total',\n",
    "        \n",
    "        'recordings_length_total',\n",
    "        'recordings_lengths',\n",
    "        'syllable_duration_s',\n",
    "        'isi'\n",
    "        ]\n",
    ")"
   ]
  },
  {
   "cell_type": "code",
   "execution_count": null,
   "metadata": {
    "ExecuteTime": {
     "end_time": "2019-03-03T21:49:40.381085Z",
     "start_time": "2019-03-03T21:49:40.285631Z"
    }
   },
   "outputs": [],
   "source": [
    "np.unique(song_df.bird)"
   ]
  },
  {
   "cell_type": "code",
   "execution_count": null,
   "metadata": {
    "ExecuteTime": {
     "end_time": "2019-03-03T21:49:40.472129Z",
     "start_time": "2019-03-03T21:49:40.382770Z"
    }
   },
   "outputs": [],
   "source": [
    "species = 'BF'\n",
    "unique_birds = np.unique(song_df.bird)\n",
    "num_birds = len(unique_birds)"
   ]
  },
  {
   "cell_type": "code",
   "execution_count": null,
   "metadata": {
    "ExecuteTime": {
     "end_time": "2019-03-03T21:49:40.636172Z",
     "start_time": "2019-03-03T21:49:40.474030Z"
    }
   },
   "outputs": [],
   "source": [
    "num_syllables_per_bird = [len((np.concatenate(song_df[song_df.bird == bird].syllables.values))) for bird in np.unique(song_df.bird)]\n",
    "unique_syllables_per_bird = [len(np.unique(np.concatenate(song_df[song_df.bird == bird].syllables.values))) for bird in np.unique(song_df.bird)]\n",
    "num_recordings = len(song_df)\n",
    "recording_duration_syllable = song_df.NumNote.values\n",
    "unique_syllables_total = None\n",
    "recordings_length_total = np.sum(song_df.bout_duration.values)\n",
    "recordings_lengths = song_df.bout_duration.values\n",
    "syllable_duration_s = np.concatenate(song_df.syll_lens.values)\n",
    "num_syllables_total = np.sum(song_df.NumNote.values)"
   ]
  },
  {
   "cell_type": "code",
   "execution_count": null,
   "metadata": {
    "ExecuteTime": {
     "end_time": "2019-03-03T21:49:40.692808Z",
     "start_time": "2019-03-03T21:49:40.638205Z"
    }
   },
   "outputs": [],
   "source": [
    "stats_df.loc[len(stats_df)] = [\n",
    "    species,\n",
    "\n",
    "    unique_birds,\n",
    "    num_birds,\n",
    "\n",
    "    num_syllables_per_bird,\n",
    "    num_syllables_total,\n",
    "    num_recordings,\n",
    "    recording_duration_syllable,\n",
    "    \n",
    "    unique_syllables_per_bird,\n",
    "    unique_syllables_total,\n",
    "    \n",
    "    recordings_length_total,\n",
    "    recordings_lengths,\n",
    "    syllable_duration_s,\n",
    "    bf_isi\n",
    "]"
   ]
  },
  {
   "cell_type": "code",
   "execution_count": null,
   "metadata": {
    "ExecuteTime": {
     "end_time": "2019-03-03T21:49:40.798374Z",
     "start_time": "2019-03-03T21:49:40.694548Z"
    }
   },
   "outputs": [],
   "source": [
    "stats_df[:3]"
   ]
  },
  {
   "cell_type": "code",
   "execution_count": null,
   "metadata": {
    "ExecuteTime": {
     "end_time": "2019-03-03T21:49:53.182359Z",
     "start_time": "2019-03-03T21:49:53.142116Z"
    }
   },
   "outputs": [],
   "source": [
    "stats_df.to_pickle(DATA_DIR / 'stats_df/BF_stats_df.pickle')"
   ]
  },
  {
   "cell_type": "code",
   "execution_count": null,
   "metadata": {},
   "outputs": [],
   "source": []
  }
 ],
 "metadata": {
  "kernelspec": {
   "display_name": "Python 3",
   "language": "python",
   "name": "python3"
  },
  "language_info": {
   "codemirror_mode": {
    "name": "ipython",
    "version": 3
   },
   "file_extension": ".py",
   "mimetype": "text/x-python",
   "name": "python",
   "nbconvert_exporter": "python",
   "pygments_lexer": "ipython3",
   "version": "3.6.8"
  }
 },
 "nbformat": 4,
 "nbformat_minor": 2
}
