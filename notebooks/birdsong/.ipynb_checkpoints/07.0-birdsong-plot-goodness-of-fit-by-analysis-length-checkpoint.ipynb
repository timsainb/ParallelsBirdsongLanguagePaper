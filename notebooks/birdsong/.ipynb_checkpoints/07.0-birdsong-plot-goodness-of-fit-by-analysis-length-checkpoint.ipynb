{
 "cells": [
  {
   "cell_type": "markdown",
   "metadata": {},
   "source": [
    "# Calculate MI for each species and plot goodness of fit by length of analysis\n",
    "1. load datasets\n",
    "2. calculate MI"
   ]
  },
  {
   "cell_type": "code",
   "execution_count": null,
   "metadata": {
    "ExecuteTime": {
     "end_time": "2019-03-23T01:31:03.481942Z",
     "start_time": "2019-03-23T01:31:01.472522Z"
    }
   },
   "outputs": [],
   "source": [
    "import pandas as pd\n",
    "import numpy as np\n",
    "from parallelspaper.config.paths import DATA_DIR, FIGURE_DIR\n",
    "from parallelspaper.birdsong_datasets import MI_seqs, compress_seq, BCOL_DICT\n",
    "from parallelspaper import information_theory as it \n",
    "from tqdm.autonotebook import tqdm\n",
    "from parallelspaper import model_fitting as mf\n",
    "from parallelspaper.utils import save_fig"
   ]
  },
  {
   "cell_type": "code",
   "execution_count": null,
   "metadata": {
    "ExecuteTime": {
     "end_time": "2019-03-23T01:31:03.489758Z",
     "start_time": "2019-03-23T01:31:03.484949Z"
    }
   },
   "outputs": [],
   "source": [
    "import matplotlib.pyplot as plt\n",
    "%matplotlib inline"
   ]
  },
  {
   "cell_type": "markdown",
   "metadata": {},
   "source": [
    "### Load data"
   ]
  },
  {
   "cell_type": "code",
   "execution_count": null,
   "metadata": {
    "ExecuteTime": {
     "end_time": "2019-03-23T01:31:03.621630Z",
     "start_time": "2019-03-23T01:31:03.491561Z"
    }
   },
   "outputs": [],
   "source": [
    "starling_seq_df = pd.read_pickle(DATA_DIR / 'song_seq_df/starling.pickle')\n",
    "CAVI_CATH_seq_df = pd.read_pickle(DATA_DIR / 'song_seq_df/CAVI_CATH.pickle')\n",
    "BF_seq_df = pd.read_pickle(DATA_DIR / 'song_seq_df/BF.pickle')"
   ]
  },
  {
   "cell_type": "code",
   "execution_count": null,
   "metadata": {
    "ExecuteTime": {
     "end_time": "2019-03-23T01:31:03.657400Z",
     "start_time": "2019-03-23T01:31:03.623622Z"
    }
   },
   "outputs": [],
   "source": [
    "seq_dfs = pd.concat([starling_seq_df, CAVI_CATH_seq_df, BF_seq_df])"
   ]
  },
  {
   "cell_type": "code",
   "execution_count": null,
   "metadata": {
    "ExecuteTime": {
     "end_time": "2019-03-23T01:31:03.737883Z",
     "start_time": "2019-03-23T01:31:03.659361Z"
    }
   },
   "outputs": [],
   "source": [
    "# sequence lengths\n",
    "seq_dfs['sequence_lens'] = [len(i) for i in seq_dfs.syllables]\n",
    "# recording number as integer\n",
    "seq_dfs['rec_num'] = seq_dfs.rec_num.values.astype('int32')\n",
    "# sort sequences\n",
    "seq_dfs = seq_dfs.sort_values(by=['species', 'bird', 'rec_num'])\n",
    "# get rid of unID'd birds (CAVI, CATH)\n",
    "seq_dfs = seq_dfs[seq_dfs.bird != '?']"
   ]
  },
  {
   "cell_type": "code",
   "execution_count": null,
   "metadata": {
    "ExecuteTime": {
     "end_time": "2019-03-23T01:31:03.822407Z",
     "start_time": "2019-03-23T01:31:03.739760Z"
    }
   },
   "outputs": [],
   "source": [
    "len(seq_dfs)"
   ]
  },
  {
   "cell_type": "code",
   "execution_count": null,
   "metadata": {
    "ExecuteTime": {
     "end_time": "2019-03-23T01:31:03.958402Z",
     "start_time": "2019-03-23T01:31:03.824705Z"
    }
   },
   "outputs": [],
   "source": [
    "seq_dfs[:3]"
   ]
  },
  {
   "cell_type": "markdown",
   "metadata": {},
   "source": [
    "### Calculate MI"
   ]
  },
  {
   "cell_type": "code",
   "execution_count": null,
   "metadata": {
    "ExecuteTime": {
     "end_time": "2019-03-23T01:31:04.011586Z",
     "start_time": "2019-03-23T01:31:03.961255Z"
    }
   },
   "outputs": [],
   "source": [
    "distances = np.arange(1,1001)\n",
    "verbosity = 0; n_jobs = 20"
   ]
  },
  {
   "cell_type": "code",
   "execution_count": null,
   "metadata": {
    "ExecuteTime": {
     "end_time": "2019-03-23T01:31:04.085687Z",
     "start_time": "2019-03-23T01:31:04.013518Z"
    }
   },
   "outputs": [],
   "source": [
    "np.unique(seq_dfs.species)"
   ]
  },
  {
   "cell_type": "code",
   "execution_count": null,
   "metadata": {
    "ExecuteTime": {
     "end_time": "2019-03-23T01:37:09.201744Z",
     "start_time": "2019-03-23T01:31:04.087656Z"
    }
   },
   "outputs": [],
   "source": [
    "MI_DF = pd.DataFrame(columns=['species', 'type', 'MI', 'MI_shuff', 'distances',\n",
    "                              'MI_var', 'MI_shuff_var'])\n",
    "\n",
    "for species in np.unique(seq_dfs.species):\n",
    "    species_df = seq_dfs[seq_dfs.species == species].sort_values(by=['bird', 'rec_num'])\n",
    "    print(species)\n",
    "   \n",
    "    # analysis by day\n",
    "    day_group = []\n",
    "    for bird in np.unique(species_df.bird.values):\n",
    "        bird_df = species_df[species_df.bird==bird]\n",
    "        for day in np.unique(bird_df.day.values):\n",
    "            day_df = bird_df[bird_df.day == day]\n",
    "            day_group.append(np.concatenate(day_df.syllables.values))\n",
    "    units = day_group\n",
    "    (MI, var_MI), (MI_shuff, MI_shuff_var) = it.sequential_mutual_information(units, distances, n_jobs = n_jobs, verbosity = verbosity)\n",
    "    MI_DF.loc[len(MI_DF)] = [species, 'session', MI, MI_shuff, distances, var_MI, MI_shuff_var]"
   ]
  },
  {
   "cell_type": "code",
   "execution_count": null,
   "metadata": {
    "ExecuteTime": {
     "end_time": "2019-03-23T01:37:09.218531Z",
     "start_time": "2019-03-23T01:37:09.204982Z"
    }
   },
   "outputs": [],
   "source": [
    "MI_DF.to_pickle(DATA_DIR / 'MI_DF/birdsong/birdsong_MI_DF_long.pickle')"
   ]
  },
  {
   "cell_type": "code",
   "execution_count": null,
   "metadata": {
    "ExecuteTime": {
     "end_time": "2019-03-23T01:37:09.371382Z",
     "start_time": "2019-03-23T01:37:09.220371Z"
    }
   },
   "outputs": [],
   "source": [
    "MI_DF"
   ]
  },
  {
   "cell_type": "markdown",
   "metadata": {},
   "source": [
    "### Calculate fit"
   ]
  },
  {
   "cell_type": "code",
   "execution_count": null,
   "metadata": {
    "ExecuteTime": {
     "end_time": "2019-03-23T01:37:09.417667Z",
     "start_time": "2019-03-23T01:37:09.373522Z"
    }
   },
   "outputs": [],
   "source": [
    "from sklearn.externals.joblib import Parallel, delayed\n",
    "n_jobs = 20; verbosity = 0"
   ]
  },
  {
   "cell_type": "code",
   "execution_count": null,
   "metadata": {
    "ExecuteTime": {
     "end_time": "2019-03-23T01:37:09.488523Z",
     "start_time": "2019-03-23T01:37:09.419777Z"
    }
   },
   "outputs": [],
   "source": [
    "def get_fit(species, d, distances, sig):\n",
    "    results_power, results_exp, results_pow_exp, best_fit_model = mf.fit_models(\n",
    "        distances[:d], sig[:d])\n",
    "    R2_exp, R2_concat, R2_power, AICc_exp, AICc_pow, AICc_concat = mf.fit_results(\n",
    "        sig[:d], distances[:d],  results_exp, results_power, results_pow_exp)\n",
    "\n",
    "    y_model = mf.get_y(mf.pow_exp_decay, results_pow_exp, distances)\n",
    "    y_pow = mf.get_y(mf.powerlaw_decay, results_pow_exp, distances)\n",
    "    y_exp = mf.get_y(mf.exp_decay, results_pow_exp, distances)\n",
    "\n",
    "    R2_exp_comp = mf.r2(sig[:d] - y_pow[:d], y_exp[:d] -\n",
    "                        results_pow_exp.params['intercept'].value, distances[:d], logscaled=True)\n",
    "    s = sig[:d] - y_exp[:d]\n",
    "    m = y_pow[:d]-results_pow_exp.params['intercept'].value\n",
    "    mask = s > 0\n",
    "    R2_pow_comp = mf.r2(s[mask], m[mask], distances[:d][mask], logscaled=True)\n",
    "    # print(R2_pow_comp)\n",
    "    #plt.plot(distances[:d], mf.residuals(s, m,distances[:d]))\n",
    "\n",
    "    AICc_exp_comp = mf.AICc(d, len(results_exp.params), sig[:d] - y_pow[:d], y_exp[:d] -\n",
    "                            results_pow_exp.params['intercept'].value, distances[:d], logscaled=True)\n",
    "    AICc_pow_comp = mf.AICc(d, len(results_power.params),\n",
    "                            sig[:d] - y_exp[:d], y_pow[:d]-results_pow_exp.params['intercept'].value, distances[:d], logscaled=True)\n",
    "    return (species, d, R2_exp, R2_concat, R2_power, AICc_exp, AICc_pow, \n",
    "            AICc_concat, R2_pow_comp, R2_exp_comp, AICc_exp_comp, AICc_pow_comp)"
   ]
  },
  {
   "cell_type": "code",
   "execution_count": null,
   "metadata": {
    "ExecuteTime": {
     "end_time": "2019-03-23T01:38:07.508843Z",
     "start_time": "2019-03-23T01:37:09.495119Z"
    }
   },
   "outputs": [],
   "source": [
    "# aic / r2 for individual components\n",
    "fit_df = []\n",
    "\n",
    "columns = ['species', 'd', 'R2_exp', 'R2_concat', 'R2_power', 'AICc_exp', 'AICc_pow', \n",
    "                                 'AICc_concat', 'R2_pow_comp', 'R2_exp_comp',  'AICc_exp_comp', 'AICc_pow_comp']\n",
    "\n",
    "for axi, (idx, row) in enumerate(MI_DF.sort_values(by=['species']).iterrows()):\n",
    "    species = row.species\n",
    "    sig = row.MI-row.MI_shuff\n",
    "    with Parallel(n_jobs=n_jobs, verbose=verbosity) as parallel:\n",
    "        x = parallel(\n",
    "            delayed(get_fit)(species, d, row.distances, sig)\n",
    "                 for d in tqdm(np.unique(np.linspace(16,1000, 200).astype(int))))\n",
    "    \n",
    "    fit_df_lang = pd.DataFrame(x, columns = columns)\n",
    "    fit_df.append(fit_df_lang)\n",
    "fit_df = pd.concat(fit_df)"
   ]
  },
  {
   "cell_type": "code",
   "execution_count": null,
   "metadata": {
    "ExecuteTime": {
     "end_time": "2019-03-23T01:38:07.522044Z",
     "start_time": "2019-03-23T01:38:07.512289Z"
    }
   },
   "outputs": [],
   "source": [
    "fit_df.to_pickle(DATA_DIR / 'MI_DF/birdsong/birdsong_fit_df_long.pickle')"
   ]
  },
  {
   "cell_type": "code",
   "execution_count": null,
   "metadata": {
    "ExecuteTime": {
     "end_time": "2019-03-23T01:38:07.625840Z",
     "start_time": "2019-03-23T01:38:07.524000Z"
    }
   },
   "outputs": [],
   "source": [
    "fit_df[:3]"
   ]
  },
  {
   "cell_type": "markdown",
   "metadata": {},
   "source": [
    "### Plot results"
   ]
  },
  {
   "cell_type": "code",
   "execution_count": null,
   "metadata": {
    "ExecuteTime": {
     "end_time": "2019-03-23T01:38:07.698318Z",
     "start_time": "2019-03-23T01:38:07.627709Z"
    }
   },
   "outputs": [],
   "source": [
    "import matplotlib.pyplot as plt"
   ]
  },
  {
   "cell_type": "markdown",
   "metadata": {},
   "source": [
    "##### R2 full concatenative model"
   ]
  },
  {
   "cell_type": "code",
   "execution_count": null,
   "metadata": {
    "ExecuteTime": {
     "end_time": "2019-03-23T01:38:16.572325Z",
     "start_time": "2019-03-23T01:38:07.700103Z"
    }
   },
   "outputs": [],
   "source": [
    "ncol = len(np.unique(fit_df.species))\n",
    "zoom = 4\n",
    "fig, axs = plt.subplots(ncols=ncol, figsize= (ncol*zoom, zoom))\n",
    "for sax, species in enumerate(np.unique(fit_df.species)):\n",
    "    color = BCOL_DICT[species]\n",
    "    ax = axs.flatten()[sax]\n",
    "    spec_fit_df = fit_df[fit_df.species == species]\n",
    "    \n",
    "    ax.plot(spec_fit_df.d, spec_fit_df.R2_concat.values, lw=4, color=color)\n",
    "    ax.set_title(species)\n",
    "    ax.set_ylim([0.5,1.01])\n",
    "    ax.set_xlim([np.min(spec_fit_df.d), np.max(spec_fit_df.d)])\n",
    "    spec_fit_df = spec_fit_df[spec_fit_df.d > 100]\n",
    "    d = spec_fit_df.d.values[np.where(spec_fit_df.R2_concat.values > (spec_fit_df.R2_concat.values[0]*.999))[0][-1]]\n",
    "    print(d)\n",
    "    #ax.axvline(d,color='k', ls='dashed', alpha=0.5)\n",
    "    #ax.set_ylim(np.exp(sig_lims))\n",
    "    ax.tick_params(which='both', direction='in')\n",
    "    ax.tick_params(which='major', length=10, width =3)\n",
    "    ax.tick_params(which='minor', length=5, width =2)\n",
    "    ax.set_xlabel('Distance (syllables)', fontsize=18)\n",
    "    ax.set_xscale( \"log\" , basex=10)\n",
    "    for axis in ['top','bottom','left','right']:\n",
    "        ax.spines[axis].set_linewidth(3)\n",
    "        ax.spines[axis].set_color('k')\n",
    "\n",
    "axs[0].set_ylabel('$r^2$ concat. model', fontsize=18)\n",
    "plt.tight_layout()\n",
    "\n",
    "save_fig(FIGURE_DIR/'R2_song')\n"
   ]
  },
  {
   "cell_type": "markdown",
   "metadata": {
    "ExecuteTime": {
     "end_time": "2019-03-04T20:41:04.383722Z",
     "start_time": "2019-03-04T20:41:04.378925Z"
    }
   },
   "source": [
    "##### R2 of power-law compenent"
   ]
  },
  {
   "cell_type": "code",
   "execution_count": null,
   "metadata": {
    "ExecuteTime": {
     "end_time": "2019-03-23T06:29:45.582760Z",
     "start_time": "2019-03-23T06:29:36.496527Z"
    }
   },
   "outputs": [],
   "source": [
    "ncol = len(np.unique(fit_df.species))\n",
    "zoom = 4\n",
    "fig, axs = plt.subplots(ncols=ncol, figsize= (ncol*zoom, zoom))\n",
    "for sax, species in enumerate(np.unique(fit_df.species)):\n",
    "    color = BCOL_DICT[species]\n",
    "    ax = axs.flatten()[sax]\n",
    "    spec_fit_df = fit_df[fit_df.species == species]\n",
    "    ax.plot(spec_fit_df.d, spec_fit_df.R2_pow_comp.values, lw=4, color=color)\n",
    "    #ax.plot(spec_fit_df.d, spec_fit_df.R2_pow_comp.values, lw=4, color=color)\n",
    "    ax.set_title(species)\n",
    "    ax.set_ylim([0.5,1.01])\n",
    "    ax.set_xlim([np.min(spec_fit_df.d), np.max(spec_fit_df.d)])\n",
    "    \n",
    "    #ax.axvline(d,color='k', ls='dashed', alpha=0.5)\n",
    "    #ax.set_ylim(np.exp(sig_lims))\n",
    "    ax.tick_params(which='both', direction='in')\n",
    "    ax.tick_params(which='major', length=10, width =3)\n",
    "    ax.tick_params(which='minor', length=5, width =2)\n",
    "    ax.set_xlabel('Distance (syllables)', fontsize=18)\n",
    "    ax.set_xscale( \"log\" , basex=10)\n",
    "    for axis in ['top','bottom','left','right']:\n",
    "        ax.spines[axis].set_linewidth(3)\n",
    "        ax.spines[axis].set_color('k')\n",
    "\n",
    "axs[0].set_ylabel('$r^2$ power-law component', fontsize=18)\n",
    "plt.tight_layout()\n",
    "\n",
    "\n",
    "save_fig(FIGURE_DIR/'r2_powerlaw_song')\n"
   ]
  },
  {
   "cell_type": "markdown",
   "metadata": {},
   "source": [
    "##### $\\Delta$AICc concat vs expon"
   ]
  },
  {
   "cell_type": "code",
   "execution_count": null,
   "metadata": {
    "ExecuteTime": {
     "end_time": "2019-03-23T06:29:54.486204Z",
     "start_time": "2019-03-23T06:29:45.585017Z"
    }
   },
   "outputs": [],
   "source": [
    "ncol = len(np.unique(fit_df.species))\n",
    "zoom = 4\n",
    "fig, axs = plt.subplots(ncols=ncol, figsize= (ncol*zoom, zoom))\n",
    "for sax, species in enumerate(np.unique(fit_df.species)):\n",
    "    color = BCOL_DICT[species]\n",
    "    ax = axs.flatten()[sax]\n",
    "    spec_fit_df = fit_df[fit_df.species == species]\n",
    "    ax.plot(spec_fit_df.d, spec_fit_df.AICc_concat.values - spec_fit_df.AICc_exp.values, lw=4, color=color)\n",
    "    ax.set_title(species)\n",
    "    ax.tick_params(which='both', direction='in')\n",
    "    ax.tick_params(which='major', length=10, width =3)\n",
    "    ax.tick_params(which='minor', length=5, width =2)\n",
    "    ax.set_xlabel('Distance (syllables)', fontsize=18)\n",
    "    ax.set_xscale( \"log\" , basex=10)\n",
    "    for axis in ['top','bottom','left','right']:\n",
    "        ax.spines[axis].set_linewidth(3)\n",
    "        ax.spines[axis].set_color('k')\n",
    "    ax.set_xlim([np.min(spec_fit_df.d), np.max(spec_fit_df.d)])\n",
    "\n",
    "axs[0].set_ylabel('$\\Delta$AICc (concat.- exp.)', fontsize=18)\n",
    "plt.tight_layout()\n",
    "\n",
    "save_fig(FIGURE_DIR/'delta_AIC_song')"
   ]
  },
  {
   "cell_type": "code",
   "execution_count": null,
   "metadata": {},
   "outputs": [],
   "source": []
  }
 ],
 "metadata": {
  "kernelspec": {
   "display_name": "Python 3",
   "language": "python",
   "name": "python3"
  },
  "language_info": {
   "codemirror_mode": {
    "name": "ipython",
    "version": 3
   },
   "file_extension": ".py",
   "mimetype": "text/x-python",
   "name": "python",
   "nbconvert_exporter": "python",
   "pygments_lexer": "ipython3",
   "version": "3.6.8"
  }
 },
 "nbformat": 4,
 "nbformat_minor": 2
}
