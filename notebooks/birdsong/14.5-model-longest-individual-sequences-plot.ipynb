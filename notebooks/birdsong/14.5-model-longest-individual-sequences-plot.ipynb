{
 "cells": [
  {
   "cell_type": "markdown",
   "metadata": {},
   "source": [
    "# MI + model fitting for each songbird\n",
    "1. load datasets\n",
    "..."
   ]
  },
  {
   "cell_type": "code",
   "execution_count": null,
   "metadata": {
    "ExecuteTime": {
     "end_time": "2019-04-12T05:24:36.560688Z",
     "start_time": "2019-04-12T05:24:31.253976Z"
    }
   },
   "outputs": [],
   "source": [
    "import pandas as pd\n",
    "import numpy as np\n",
    "from parallelspaper.config.paths import DATA_DIR, FIGURE_DIR\n",
    "from parallelspaper.birdsong_datasets import MI_seqs, compress_seq, BCOL_DICT\n",
    "from parallelspaper import information_theory as it \n",
    "from sklearn.externals.joblib import Parallel, delayed\n",
    "from parallelspaper import model_fitting as mf\n",
    "from parallelspaper.utils import save_fig"
   ]
  },
  {
   "cell_type": "code",
   "execution_count": null,
   "metadata": {
    "ExecuteTime": {
     "end_time": "2019-04-12T05:24:36.584393Z",
     "start_time": "2019-04-12T05:24:36.566797Z"
    }
   },
   "outputs": [],
   "source": [
    "from parallelspaper.quickplots import plot_model_fits\n",
    "import matplotlib.pyplot as plt\n",
    "%matplotlib inline"
   ]
  },
  {
   "cell_type": "code",
   "execution_count": null,
   "metadata": {
    "ExecuteTime": {
     "end_time": "2019-04-12T05:24:36.687530Z",
     "start_time": "2019-04-12T05:24:36.592853Z"
    }
   },
   "outputs": [],
   "source": [
    "from tqdm.autonotebook import tqdm"
   ]
  },
  {
   "cell_type": "markdown",
   "metadata": {},
   "source": [
    "### Load data"
   ]
  },
  {
   "cell_type": "code",
   "execution_count": null,
   "metadata": {
    "ExecuteTime": {
     "end_time": "2019-04-12T05:24:36.789543Z",
     "start_time": "2019-04-12T05:24:36.699732Z"
    }
   },
   "outputs": [],
   "source": [
    "MI_DF = pd.read_pickle((DATA_DIR / 'MI_DF/birdsong/birdsong_MI_DF_longest_seq.pickle'))"
   ]
  },
  {
   "cell_type": "code",
   "execution_count": null,
   "metadata": {
    "ExecuteTime": {
     "end_time": "2019-04-12T05:24:37.035495Z",
     "start_time": "2019-04-12T05:24:36.802300Z"
    }
   },
   "outputs": [],
   "source": [
    "MI_DF[:3]"
   ]
  },
  {
   "cell_type": "code",
   "execution_count": null,
   "metadata": {
    "ExecuteTime": {
     "end_time": "2019-04-12T05:24:37.063958Z",
     "start_time": "2019-04-12T05:24:37.045615Z"
    }
   },
   "outputs": [],
   "source": [
    "len(MI_DF)"
   ]
  },
  {
   "cell_type": "markdown",
   "metadata": {},
   "source": [
    "### Calculate and plot MIs of longest sequences"
   ]
  },
  {
   "cell_type": "code",
   "execution_count": null,
   "metadata": {
    "ExecuteTime": {
     "end_time": "2019-04-12T05:24:37.145993Z",
     "start_time": "2019-04-12T05:24:37.072878Z"
    }
   },
   "outputs": [],
   "source": [
    "import matplotlib.gridspec as gridspec"
   ]
  },
  {
   "cell_type": "code",
   "execution_count": null,
   "metadata": {
    "ExecuteTime": {
     "end_time": "2019-04-12T06:22:04.165720Z",
     "start_time": "2019-04-12T06:15:01.053801Z"
    },
    "scrolled": false
   },
   "outputs": [],
   "source": [
    "show = True\n",
    "zoom = 3\n",
    "ncol = 2\n",
    "nrow = 9\n",
    "iii=0\n",
    "\n",
    "fig = plt.figure(figsize=(ncol*3*zoom, nrow*zoom))\n",
    "plt.subplots_adjust(wspace=0.1)\n",
    "outer = gridspec.GridSpec(1, ncol, width_ratios=[1 for i in range(ncol)])\n",
    "\n",
    "for col in tqdm(range(ncol)):\n",
    "    gs = gridspec.GridSpecFromSubplotSpec(\n",
    "        nrow, 3, subplot_spec=outer[col], wspace=0.1, hspace=0.15, width_ratios=[1, 1, 1])\n",
    "    for ri, (idx, row) in tqdm(enumerate(MI_DF[col*nrow:(col+1)*nrow].iterrows()), leave=False):\n",
    "        print(ri)\n",
    "        ax0 = fig.add_subplot(gs[ri, 0])\n",
    "        ax1 = fig.add_subplot(gs[ri, 1])\n",
    "        ax2 = fig.add_subplot(gs[ri, 2])\n",
    "        \n",
    "        \n",
    "        if not show: continue\n",
    "        \n",
    "        iii += 1\n",
    "        color = BCOL_DICT[row.species]\n",
    "        distances = np.unique(np.linspace(\n",
    "            start=1, stop=75, num=100).astype(int))\n",
    "\n",
    "        MI = row.MI\n",
    "        MI_shuff = row.MI_shuff\n",
    "        sig = row.MI-row.MI_shuff\n",
    "        results_power, results_exp, results_pow_exp, best_fit_model = mf.fit_models(\n",
    "            distances, sig)\n",
    "\n",
    "\n",
    "\n",
    "        ax = ax0\n",
    "        ax.scatter(distances, MI-MI_shuff, color=color)\n",
    "        bfm = {'pow_exp':'comp.', 'exp':'exp.', 'pow': 'power law'}\n",
    "        spc = {'CATH': 'thrasher', 'CAVI': 'vireo', 'Starling': 'starling', 'BF': 'finch'}\n",
    "        ax.set_title(' | '.join([spc[row.species], row.indv[:12], bfm[best_fit_model]]), fontsize=14)\n",
    "\n",
    "        dist_s = np.linspace(distances[0], distances[-1], 1000)\n",
    "        fit = mf.get_y(mf.pow_exp_decay, results_pow_exp, dist_s)\n",
    "        ax.plot(dist_s, fit, color=color, alpha=0.5, lw=10)\n",
    "        fit = mf.get_y(mf.exp_decay, results_pow_exp, distances)\n",
    "        ax.plot(distances, fit, color='k', alpha=0.5, lw=4)\n",
    "        fit = mf.get_y(mf.powerlaw_decay, results_pow_exp, distances)\n",
    "        ax.plot(distances, fit, color='k', alpha=0.5, lw=4)\n",
    "        sig = MI-MI_shuff\n",
    "        sig_lims = np.log([np.min(sig[sig > 0]), np.nanmax(sig)])\n",
    "        sig_lims = [sig_lims[0] - (sig_lims[1]-sig_lims[0])/10,\n",
    "                    sig_lims[1] + (sig_lims[1]-sig_lims[0])/10]\n",
    "        ax.set_ylim(np.exp(sig_lims))\n",
    "        ylim = ax.get_ylim()\n",
    "        if col == 0:\n",
    "            ax0.set_ylabel('MI (bits)',\n",
    "                           labelpad=5, fontsize=18)\n",
    "\n",
    "        ax = ax1\n",
    "        fit = mf.get_y(mf.exp_decay, results_pow_exp, distances)\n",
    "        ax.scatter(distances, MI-MI_shuff-fit, color=color)\n",
    "        fit = mf.get_y(mf.powerlaw_decay, results_pow_exp, distances)\n",
    "        ax.plot(distances,\n",
    "                fit - results_pow_exp.params['intercept'].value,\n",
    "                color=color, alpha=0.5, lw=10)\n",
    "        ax.set_title('power-law comp.', fontsize=14)\n",
    "        ax.set_ylim(np.exp(sig_lims))\n",
    "\n",
    "        ax = ax2\n",
    "        fit = mf.get_y(mf.powerlaw_decay, results_pow_exp, distances)\n",
    "        ax.scatter(distances, MI-MI_shuff-fit, color=color)\n",
    "        fit = mf.get_y(mf.exp_decay, results_pow_exp, distances)\n",
    "        ax.plot(distances,\n",
    "                fit - results_pow_exp.params['intercept'].value,\n",
    "                color=color, alpha=0.5, lw=10)\n",
    "        ax.set_title('exp. comp.', fontsize=14)\n",
    "\n",
    "        for axi, ax in enumerate([ax0, ax1, ax2]):\n",
    "            ax.set_ylim(np.exp(sig_lims))\n",
    "            ax.set_xscale(\"log\", basex=10)\n",
    "            ax.set_yscale(\"log\", basey=10)\n",
    "            ax.tick_params(axis='both', labelsize=10, pad=7)\n",
    "            for axis in ['top', 'bottom', 'left', 'right']:\n",
    "                ax.spines[axis].set_linewidth(3)\n",
    "                ax.spines[axis].set_color('k')\n",
    "            ax.grid(False)\n",
    "            ax.tick_params(which='both', direction='in')\n",
    "            ax.tick_params(which='major', length=10, width=3)\n",
    "            ax.tick_params(which='minor', length=5, width=2)\n",
    "            ax.set_xlim([1, distances[-1]])\n",
    "            # ax.set_ylim([-1e-4,1e-4])\n",
    "            ax.set_xscale(\"log\", basex=10)\n",
    "            if ri == nrow-1:\n",
    "                ax.set_xticks([1, 10, 100])\n",
    "                ax.set_xticklabels(['1', '10', '100'])\n",
    "            else:\n",
    "                ax.set_xticks([])\n",
    "\n",
    "            if ri == nrow-1:\n",
    "                ax.set_xlabel('Distance (syllables)',\n",
    "                              labelpad=5, fontsize=14)\n",
    "            ax.set_xlim([1, distances[-1]])\n",
    "        ax1.set_yticklabels([])\n",
    "        ax2.set_yticklabels([])\n",
    "\n",
    "plt.tight_layout()\n",
    "save_fig(FIGURE_DIR / 'voc_indv')\n",
    "plt.show()"
   ]
  },
  {
   "cell_type": "code",
   "execution_count": null,
   "metadata": {},
   "outputs": [],
   "source": []
  }
 ],
 "metadata": {
  "kernelspec": {
   "display_name": "Python 3",
   "language": "python",
   "name": "python3"
  },
  "language_info": {
   "codemirror_mode": {
    "name": "ipython",
    "version": 3
   },
   "file_extension": ".py",
   "mimetype": "text/x-python",
   "name": "python",
   "nbconvert_exporter": "python",
   "pygments_lexer": "ipython3",
   "version": "3.6.8"
  }
 },
 "nbformat": 4,
 "nbformat_minor": 2
}
