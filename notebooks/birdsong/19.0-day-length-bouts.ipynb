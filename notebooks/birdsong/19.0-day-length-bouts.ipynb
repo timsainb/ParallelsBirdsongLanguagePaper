{
 "cells": [
  {
   "cell_type": "markdown",
   "metadata": {},
   "source": [
    "# get bouts per day for each bird\n",
    "1. load datasets\n",
    "..."
   ]
  },
  {
   "cell_type": "code",
   "execution_count": null,
   "metadata": {
    "ExecuteTime": {
     "end_time": "2019-04-04T19:41:01.457267Z",
     "start_time": "2019-04-04T19:40:59.414713Z"
    }
   },
   "outputs": [],
   "source": [
    "import pandas as pd\n",
    "import numpy as np\n",
    "from parallelspaper.config.paths import DATA_DIR\n",
    "from parallelspaper.birdsong_datasets import MI_seqs, compress_seq"
   ]
  },
  {
   "cell_type": "code",
   "execution_count": null,
   "metadata": {
    "ExecuteTime": {
     "end_time": "2019-04-04T19:41:01.464756Z",
     "start_time": "2019-04-04T19:41:01.459508Z"
    }
   },
   "outputs": [],
   "source": [
    "from parallelspaper.quickplots import plot_model_fits\n",
    "import matplotlib.pyplot as plt\n",
    "%matplotlib inline"
   ]
  },
  {
   "cell_type": "markdown",
   "metadata": {},
   "source": [
    "### Load data"
   ]
  },
  {
   "cell_type": "code",
   "execution_count": null,
   "metadata": {
    "ExecuteTime": {
     "end_time": "2019-04-04T19:41:01.664199Z",
     "start_time": "2019-04-04T19:41:01.466589Z"
    }
   },
   "outputs": [],
   "source": [
    "starling_seq_df = pd.read_pickle(DATA_DIR / 'song_seq_df/starling.pickle')\n",
    "CAVI_CATH_seq_df = pd.read_pickle(DATA_DIR / 'song_seq_df/CAVI_CATH.pickle')\n",
    "BF_seq_df = pd.read_pickle(DATA_DIR / 'song_seq_df/BF.pickle')"
   ]
  },
  {
   "cell_type": "code",
   "execution_count": null,
   "metadata": {
    "ExecuteTime": {
     "end_time": "2019-04-04T19:41:01.704491Z",
     "start_time": "2019-04-04T19:41:01.666493Z"
    }
   },
   "outputs": [],
   "source": [
    "seq_dfs = pd.concat([starling_seq_df, CAVI_CATH_seq_df, BF_seq_df])"
   ]
  },
  {
   "cell_type": "code",
   "execution_count": null,
   "metadata": {
    "ExecuteTime": {
     "end_time": "2019-04-04T19:41:01.832509Z",
     "start_time": "2019-04-04T19:41:01.706567Z"
    }
   },
   "outputs": [],
   "source": [
    "# sequence lengths\n",
    "seq_dfs['sequence_lens'] = [len(i) for i in seq_dfs.syllables]\n",
    "# recording number as integer\n",
    "seq_dfs['rec_num'] = seq_dfs.rec_num.values.astype('int32')\n",
    "# sort sequences\n",
    "seq_dfs = seq_dfs.sort_values(by=['species', 'bird', 'rec_num'])\n",
    "# get rid of unID'd birds (CAVI, CATH)\n",
    "seq_dfs = seq_dfs[seq_dfs.bird != '?']"
   ]
  },
  {
   "cell_type": "code",
   "execution_count": null,
   "metadata": {
    "ExecuteTime": {
     "end_time": "2019-04-04T19:41:01.921782Z",
     "start_time": "2019-04-04T19:41:01.834356Z"
    }
   },
   "outputs": [],
   "source": [
    "seq_dfs[:3]"
   ]
  },
  {
   "cell_type": "code",
   "execution_count": null,
   "metadata": {
    "ExecuteTime": {
     "end_time": "2019-04-04T19:41:01.998909Z",
     "start_time": "2019-04-04T19:41:01.923473Z"
    }
   },
   "outputs": [],
   "source": [
    "# for each bird, for each day, count the number of bouts in that day"
   ]
  },
  {
   "cell_type": "code",
   "execution_count": null,
   "metadata": {
    "ExecuteTime": {
     "end_time": "2019-04-04T19:41:19.887769Z",
     "start_time": "2019-04-04T19:41:19.883997Z"
    }
   },
   "outputs": [],
   "source": [
    "from tqdm.autonotebook import tqdm"
   ]
  },
  {
   "cell_type": "code",
   "execution_count": null,
   "metadata": {
    "ExecuteTime": {
     "end_time": "2019-04-04T19:41:21.097472Z",
     "start_time": "2019-04-04T19:41:20.161881Z"
    }
   },
   "outputs": [],
   "source": [
    "day_bouts = {}\n",
    "for species in (np.unique(seq_dfs.species)):\n",
    "    day_bouts[species] = []\n",
    "    species_df = seq_dfs[seq_dfs.species == species]\n",
    "    for bird in tqdm(np.unique(species_df.bird.values)):\n",
    "        bird_df = species_df[species_df.bird == bird]\n",
    "        for day in np.unique(bird_df.day.values):\n",
    "            day_df = bird_df[bird_df.day==day]\n",
    "            day_bouts[species].append(len(day_df)) "
   ]
  },
  {
   "cell_type": "code",
   "execution_count": null,
   "metadata": {
    "ExecuteTime": {
     "end_time": "2019-04-04T19:41:22.346051Z",
     "start_time": "2019-04-04T19:41:21.579759Z"
    }
   },
   "outputs": [],
   "source": [
    "fig, axs = plt.subplots(ncols=4, figsize=(16,4))\n",
    "for si, species in enumerate(np.unique(seq_dfs.species)):\n",
    "    axs[si].hist(day_bouts[species])"
   ]
  },
  {
   "cell_type": "code",
   "execution_count": null,
   "metadata": {
    "ExecuteTime": {
     "end_time": "2019-04-04T19:41:22.352877Z",
     "start_time": "2019-04-04T19:41:22.348545Z"
    }
   },
   "outputs": [],
   "source": [
    "np.median(day_bouts['BF'])"
   ]
  },
  {
   "cell_type": "code",
   "execution_count": null,
   "metadata": {
    "ExecuteTime": {
     "end_time": "2019-04-04T19:41:22.440157Z",
     "start_time": "2019-04-04T19:41:22.354496Z"
    }
   },
   "outputs": [],
   "source": [
    "np.median(day_bouts['CAVI'])"
   ]
  },
  {
   "cell_type": "code",
   "execution_count": null,
   "metadata": {
    "ExecuteTime": {
     "end_time": "2019-04-04T19:41:22.533527Z",
     "start_time": "2019-04-04T19:41:22.442286Z"
    }
   },
   "outputs": [],
   "source": [
    "np.median(day_bouts['CATH'])"
   ]
  },
  {
   "cell_type": "code",
   "execution_count": null,
   "metadata": {
    "ExecuteTime": {
     "end_time": "2019-04-04T19:41:22.626511Z",
     "start_time": "2019-04-04T19:41:22.536995Z"
    }
   },
   "outputs": [],
   "source": [
    "np.median(day_bouts['Starling'])"
   ]
  },
  {
   "cell_type": "code",
   "execution_count": null,
   "metadata": {
    "ExecuteTime": {
     "end_time": "2019-04-04T19:41:25.649475Z",
     "start_time": "2019-04-04T19:41:25.642050Z"
    }
   },
   "outputs": [],
   "source": [
    "np.median(np.concatenate([day_bouts[i] for i in day_bouts.keys()]))"
   ]
  },
  {
   "cell_type": "code",
   "execution_count": null,
   "metadata": {},
   "outputs": [],
   "source": []
  }
 ],
 "metadata": {
  "kernelspec": {
   "display_name": "Python 3",
   "language": "python",
   "name": "python3"
  },
  "language_info": {
   "codemirror_mode": {
    "name": "ipython",
    "version": 3
   },
   "file_extension": ".py",
   "mimetype": "text/x-python",
   "name": "python",
   "nbconvert_exporter": "python",
   "pygments_lexer": "ipython3",
   "version": "3.6.8"
  }
 },
 "nbformat": 4,
 "nbformat_minor": 2
}
