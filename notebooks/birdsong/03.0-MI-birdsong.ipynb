{
 "cells": [
  {
   "cell_type": "markdown",
   "metadata": {},
   "source": [
    "# MI + model fitting for each songbird\n",
    "1. load datasets\n",
    "..."
   ]
  },
  {
   "cell_type": "code",
   "execution_count": null,
   "metadata": {
    "ExecuteTime": {
     "end_time": "2019-03-23T00:46:51.635041Z",
     "start_time": "2019-03-23T00:46:49.342295Z"
    }
   },
   "outputs": [],
   "source": [
    "import pandas as pd\n",
    "import numpy as np\n",
    "from parallelspaper.config.paths import DATA_DIR\n",
    "from parallelspaper.birdsong_datasets import MI_seqs, compress_seq"
   ]
  },
  {
   "cell_type": "code",
   "execution_count": null,
   "metadata": {
    "ExecuteTime": {
     "end_time": "2019-03-23T00:46:51.642358Z",
     "start_time": "2019-03-23T00:46:51.637145Z"
    }
   },
   "outputs": [],
   "source": [
    "from parallelspaper.quickplots import plot_model_fits\n",
    "import matplotlib.pyplot as plt\n",
    "%matplotlib inline"
   ]
  },
  {
   "cell_type": "markdown",
   "metadata": {},
   "source": [
    "### Load data"
   ]
  },
  {
   "cell_type": "code",
   "execution_count": null,
   "metadata": {
    "ExecuteTime": {
     "end_time": "2019-03-23T00:46:51.801048Z",
     "start_time": "2019-03-23T00:46:51.644168Z"
    }
   },
   "outputs": [],
   "source": [
    "starling_seq_df = pd.read_pickle(DATA_DIR / 'song_seq_df/starling.pickle')\n",
    "CAVI_CATH_seq_df = pd.read_pickle(DATA_DIR / 'song_seq_df/CAVI_CATH.pickle')\n",
    "BF_seq_df = pd.read_pickle(DATA_DIR / 'song_seq_df/BF.pickle')"
   ]
  },
  {
   "cell_type": "code",
   "execution_count": null,
   "metadata": {
    "ExecuteTime": {
     "end_time": "2019-03-23T00:46:51.823810Z",
     "start_time": "2019-03-23T00:46:51.803473Z"
    }
   },
   "outputs": [],
   "source": [
    "seq_dfs = pd.concat([starling_seq_df, CAVI_CATH_seq_df, BF_seq_df])"
   ]
  },
  {
   "cell_type": "code",
   "execution_count": null,
   "metadata": {
    "ExecuteTime": {
     "end_time": "2019-03-23T00:46:51.947019Z",
     "start_time": "2019-03-23T00:46:51.826028Z"
    }
   },
   "outputs": [],
   "source": [
    "# sequence lengths\n",
    "seq_dfs['sequence_lens'] = [len(i) for i in seq_dfs.syllables]\n",
    "# recording number as integer\n",
    "seq_dfs['rec_num'] = seq_dfs.rec_num.values.astype('int32')\n",
    "# sort sequences\n",
    "seq_dfs = seq_dfs.sort_values(by=['species', 'bird', 'rec_num'])\n",
    "# get rid of unID'd birds (CAVI, CATH)\n",
    "seq_dfs = seq_dfs[seq_dfs.bird != '?']"
   ]
  },
  {
   "cell_type": "markdown",
   "metadata": {},
   "source": [
    "### Calculate MIs within day, song, shuffle conditions"
   ]
  },
  {
   "cell_type": "code",
   "execution_count": null,
   "metadata": {
    "ExecuteTime": {
     "end_time": "2019-03-23T00:51:30.078904Z",
     "start_time": "2019-03-23T00:46:51.949962Z"
    },
    "scrolled": false
   },
   "outputs": [],
   "source": [
    "MI_DF = pd.DataFrame(columns=['species', 'type', 'rep', 'MI', 'MI_shuff', 'distances',\n",
    "                              'MI_var', 'MI_shuff_var', 'n_elements',\n",
    "                              'exp_results', 'pow_results', 'concat_results',\n",
    "                              'R2_exp', 'R2_concat', 'R2_power', 'AICc_exp', 'AICc_concat',\n",
    "                              'AICc_power', 'bestfitmodel'])\n",
    "\n",
    "for species in np.unique(seq_dfs.species):\n",
    "    #if species != 'Starling':continue\n",
    "    species_df = seq_dfs[seq_dfs.species == species].sort_values(by=['bird', 'rec_num'])\n",
    "    print(species)\n",
    "   \n",
    "    # analysis by day\n",
    "    distances = np.arange(1,101)\n",
    "    day_group = []\n",
    "    day_group_compressed = []\n",
    "    day_group_shuff_within = []\n",
    "    day_group_shuff_between = []\n",
    "    for bird in np.unique(species_df.bird.values):\n",
    "        bird_df = species_df[species_df.bird==bird]\n",
    "        for day in np.unique(bird_df.day.values):\n",
    "            day_df = bird_df[bird_df.day == day]\n",
    "            day_group.append(np.concatenate(day_df.syllables.values))\n",
    "            day_group_compressed.append(np.concatenate([compress_seq(sq) for sq in day_df.syllables.values]))\n",
    "            day_group_shuff_within.append(np.concatenate([np.random.permutation(sq) for sq in day_df.syllables.values]))\n",
    "            day_group_shuff_between.append(np.concatenate(np.random.permutation(day_df.syllables.values)))\n",
    "            \n",
    "    \n",
    "    print('within day')\n",
    "    MI_DF.loc[len(MI_DF)] = MI_seqs(day_group, distances, species, type_=\"day\", n_jobs=20, verbosity=0, nrep=1)\n",
    "    \n",
    "    print('compress')\n",
    "    MI_DF.loc[len(MI_DF)] = MI_seqs(day_group_compressed, distances, species, type_=\"compress\", n_jobs=20, verbosity=0, nrep=1)\n",
    "    \n",
    "    print('shuffled within')\n",
    "    MI_DF.loc[len(MI_DF)] = MI_seqs(day_group_shuff_within, distances, species, type_=\"shuffled_within\", n_jobs=20, verbosity=0, nrep=1)\n",
    "    \n",
    "    print('shuffled between')\n",
    "    MI_DF.loc[len(MI_DF)] = MI_seqs(day_group_shuff_between, distances, species, type_=\"shuffled_between\", n_jobs=20, verbosity=0, nrep=1)\n",
    "\n",
    "    # within song   \n",
    "    print('within song')\n",
    "    seqs = species_df.syllables.values\n",
    "    seq_lens = np.array([len(i) for i in seqs])\n",
    "    median_seq_len = int(np.median(seq_lens))\n",
    "    seqs = [seq for seq in seqs if len(seq) > median_seq_len]\n",
    "    print(species, median_seq_len)\n",
    "    distances = np.unique(np.logspace(start=0,stop=np.log2(median_seq_len),num=10000, base=2).astype(int))\n",
    "    MI_DF.loc[len(MI_DF)] = MI_seqs(seqs, distances, species, type_=\"song\", n_jobs=20, verbosity=0, nrep=1)"
   ]
  },
  {
   "cell_type": "code",
   "execution_count": null,
   "metadata": {
    "ExecuteTime": {
     "end_time": "2019-03-23T00:51:30.132688Z",
     "start_time": "2019-03-23T00:51:30.080864Z"
    }
   },
   "outputs": [],
   "source": [
    "MI_DF.to_pickle(DATA_DIR / 'MI_DF/birdsong/birdsong_MI_DF.pickle')"
   ]
  },
  {
   "cell_type": "code",
   "execution_count": null,
   "metadata": {},
   "outputs": [],
   "source": []
  }
 ],
 "metadata": {
  "kernelspec": {
   "display_name": "Python 3",
   "language": "python",
   "name": "python3"
  },
  "language_info": {
   "codemirror_mode": {
    "name": "ipython",
    "version": 3
   },
   "file_extension": ".py",
   "mimetype": "text/x-python",
   "name": "python",
   "nbconvert_exporter": "python",
   "pygments_lexer": "ipython3",
   "version": "3.6.8"
  }
 },
 "nbformat": 4,
 "nbformat_minor": 2
}
