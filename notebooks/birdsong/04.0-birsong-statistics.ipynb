{
 "cells": [
  {
   "cell_type": "markdown",
   "metadata": {},
   "source": [
    "# View statistics for birdsong dataframes\n",
    "1. load datasets\n",
    "..."
   ]
  },
  {
   "cell_type": "code",
   "execution_count": null,
   "metadata": {
    "ExecuteTime": {
     "end_time": "2019-03-09T22:12:49.742785Z",
     "start_time": "2019-03-09T22:12:49.729926Z"
    }
   },
   "outputs": [],
   "source": [
    "from parallelspaper.config.paths import DATA_DIR, FIGURE_DIR\n",
    "from parallelspaper.birdsong_datasets import BCOL_DICT\n",
    "import numpy as np\n",
    "import pandas as pd\n",
    "import matplotlib.pyplot as plt\n",
    "from parallelspaper.utils import save_fig\n",
    "import seaborn as sns\n",
    "%matplotlib inline"
   ]
  },
  {
   "cell_type": "code",
   "execution_count": null,
   "metadata": {
    "ExecuteTime": {
     "end_time": "2019-03-09T22:12:49.973672Z",
     "start_time": "2019-03-09T22:12:49.918793Z"
    }
   },
   "outputs": [],
   "source": [
    "CAVICATH_stats_df = pd.read_pickle(DATA_DIR / 'stats_df/CAVICATH_stats_df.pickle')\n",
    "Starling_stats_df = pd.read_pickle(DATA_DIR / 'stats_df/starling_stats_df.pickle')\n",
    "BF_stats_df = pd.read_pickle(DATA_DIR / 'stats_df/BF_stats_df.pickle')"
   ]
  },
  {
   "cell_type": "code",
   "execution_count": null,
   "metadata": {
    "ExecuteTime": {
     "end_time": "2019-03-09T22:12:50.069598Z",
     "start_time": "2019-03-09T22:12:50.056798Z"
    }
   },
   "outputs": [],
   "source": [
    "stats_df = pd.concat([CAVICATH_stats_df, Starling_stats_df, BF_stats_df])"
   ]
  },
  {
   "cell_type": "code",
   "execution_count": null,
   "metadata": {},
   "outputs": [],
   "source": [
    "letters = ['a', 'b', 'c', 'd', 'e', 'f', 'g', 'h', 'i', 'j', 'k', 'l', 'm', 'n', 'o', 'p', 'q', 'r', 's', 't', 'u', 'v', 'w', 'x', 'y', 'z']"
   ]
  },
  {
   "cell_type": "code",
   "execution_count": null,
   "metadata": {},
   "outputs": [],
   "source": [
    "bw = 0.25\n",
    "yoff = -0.20\n",
    "\n",
    "fig, axs = plt.subplots(ncols=4, figsize=(20, 3))\n",
    "kwk = {\"lw\": 6, \"bw\": bw}\n",
    "for ix, (idx, row) in enumerate(stats_df.sort_values(by=\"species\").iterrows()):\n",
    "    ax = axs.flatten()[ix]\n",
    "    ax.annotate(letters[ix], xy=(-0.05, 1.05), xycoords=\"axes fraction\", size=20, fontweight='bold', fontfamily='Arial')\n",
    "    ax.hist(\n",
    "        np.array(row.isi)[np.array(row.isi) < 60],\n",
    "        density=True,\n",
    "        bins=np.arange(0, 60, 2),\n",
    "        color=BCOL_DICT[row.species],\n",
    "    )\n",
    "    ax.set_xlim([0, 60])\n",
    "    # ax.set_title(row.species)\n",
    "    ax.set_yscale(\"log\")\n",
    "    ax.set_xlabel(\"Intersyllable interval (sec.)\", fontsize=18)\n",
    "\n",
    "    ax.tick_params(axis=\"both\", labelsize=14, pad=15)\n",
    "    for axis in [\"top\", \"bottom\", \"left\", \"right\"]:\n",
    "        ax.spines[axis].set_linewidth(3)\n",
    "        ax.spines[axis].set_color(\"k\")\n",
    "    ax.grid(False)\n",
    "    ax.tick_params(which=\"both\", direction=\"in\", labelsize=14, pad=10)\n",
    "    ax.tick_params(which=\"major\", length=10, width=3)\n",
    "    ax.tick_params(which=\"minor\", length=5, width=2)\n",
    "\n",
    "\n",
    "axs[0].set_ylabel(\"Prob. Density\", labelpad=5, fontsize=18)\n",
    "axs[0].yaxis.set_label_coords(yoff, 0.5)\n",
    "\n",
    "save_fig(FIGURE_DIR / \"syllable_isi\")"
   ]
  },
  {
   "cell_type": "code",
   "execution_count": null,
   "metadata": {},
   "outputs": [],
   "source": []
  }
 ],
 "metadata": {
  "kernelspec": {
   "display_name": "Python 3",
   "language": "python",
   "name": "python3"
  },
  "language_info": {
   "codemirror_mode": {
    "name": "ipython",
    "version": 3
   },
   "file_extension": ".py",
   "mimetype": "text/x-python",
   "name": "python",
   "nbconvert_exporter": "python",
   "pygments_lexer": "ipython3",
   "version": "3.6.8"
  }
 },
 "nbformat": 4,
 "nbformat_minor": 2
}
